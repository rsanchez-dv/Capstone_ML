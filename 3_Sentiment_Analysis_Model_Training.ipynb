{
 "cells": [
  {
   "cell_type": "markdown",
   "id": "2ea6000c",
   "metadata": {},
   "source": [
    "# Sentiment Analysis on Yelp Data"
   ]
  },
  {
   "cell_type": "markdown",
   "id": "6cc56c56",
   "metadata": {},
   "source": [
    "## Importing Libraries and Dependencies"
   ]
  },
  {
   "cell_type": "code",
   "execution_count": 67,
   "id": "a08b589b",
   "metadata": {},
   "outputs": [],
   "source": [
    "import os\n",
    "import pickle\n",
    "import seaborn as sns\n",
    "import numpy as np\n",
    "import pandas as pd\n",
    "\n",
    "from wordcloud import WordCloud\n",
    "\n",
    "from sklearn import naive_bayes\n",
    "from sklearn.svm import LinearSVC\n",
    "from sklearn.linear_model import LogisticRegression\n",
    "from sklearn.ensemble import RandomForestClassifier\n",
    "from sklearn.feature_extraction.text import TfidfVectorizer\n",
    "from sklearn.model_selection import StratifiedKFold,train_test_split\n",
    "from sklearn.metrics import precision_score, recall_score, f1_score, classification_report, confusion_matrix, plot_confusion_matrix\n",
    "from sklearn.pipeline import Pipeline"
   ]
  },
  {
   "cell_type": "code",
   "execution_count": 2,
   "id": "7a513c63",
   "metadata": {},
   "outputs": [],
   "source": [
    "import matplotlib.pyplot as plt\n",
    "from matplotlib.pyplot import figure\n",
    "fig = plt.gcf()\n",
    "fig.set_size_inches(12, 8)\n",
    "%matplotlib inline\n"
   ]
  },
  {
   "cell_type": "markdown",
   "id": "b8d38942",
   "metadata": {},
   "source": [
    "## Importing Data"
   ]
  },
  {
   "cell_type": "code",
   "execution_count": 3,
   "id": "66cb25a7",
   "metadata": {},
   "outputs": [
    {
     "data": {
      "text/html": [
       "<div>\n",
       "<style scoped>\n",
       "    .dataframe tbody tr th:only-of-type {\n",
       "        vertical-align: middle;\n",
       "    }\n",
       "\n",
       "    .dataframe tbody tr th {\n",
       "        vertical-align: top;\n",
       "    }\n",
       "\n",
       "    .dataframe thead th {\n",
       "        text-align: right;\n",
       "    }\n",
       "</style>\n",
       "<table border=\"1\" class=\"dataframe\">\n",
       "  <thead>\n",
       "    <tr style=\"text-align: right;\">\n",
       "      <th></th>\n",
       "      <th>business_id</th>\n",
       "      <th>business_stars</th>\n",
       "      <th>review_count</th>\n",
       "      <th>categories</th>\n",
       "      <th>user_id</th>\n",
       "      <th>text</th>\n",
       "      <th>review_stars</th>\n",
       "      <th>restaurants_table_service</th>\n",
       "      <th>wifi</th>\n",
       "      <th>bike_parking</th>\n",
       "      <th>...</th>\n",
       "      <th>alcohol</th>\n",
       "      <th>good_for_meal</th>\n",
       "      <th>dogs_allowed</th>\n",
       "      <th>restaurants_take_out</th>\n",
       "      <th>noise_level</th>\n",
       "      <th>restaurants_attire</th>\n",
       "      <th>restaurants_delivery</th>\n",
       "      <th>good_for_kids</th>\n",
       "      <th>good_for_dancing</th>\n",
       "      <th>music</th>\n",
       "    </tr>\n",
       "  </thead>\n",
       "  <tbody>\n",
       "    <tr>\n",
       "      <th>0</th>\n",
       "      <td>6iYb2HFDywm3zjuRg0shjw</td>\n",
       "      <td>4.0</td>\n",
       "      <td>86</td>\n",
       "      <td>Gastropubs, Food, Beer Gardens, Restaurants, B...</td>\n",
       "      <td>93z0yh-sUpGZS-cSKu6xxA</td>\n",
       "      <td>Stopped in on a busy Friday night. Despite the...</td>\n",
       "      <td>5</td>\n",
       "      <td>True</td>\n",
       "      <td>free</td>\n",
       "      <td>True</td>\n",
       "      <td>...</td>\n",
       "      <td>beer_and_wine</td>\n",
       "      <td>{'dessert': False, 'latenight': False, 'lunch'...</td>\n",
       "      <td>False</td>\n",
       "      <td>True</td>\n",
       "      <td>average</td>\n",
       "      <td>casual</td>\n",
       "      <td>None</td>\n",
       "      <td>None</td>\n",
       "      <td>None</td>\n",
       "      <td>True</td>\n",
       "    </tr>\n",
       "    <tr>\n",
       "      <th>1</th>\n",
       "      <td>6iYb2HFDywm3zjuRg0shjw</td>\n",
       "      <td>4.0</td>\n",
       "      <td>86</td>\n",
       "      <td>Gastropubs, Food, Beer Gardens, Restaurants, B...</td>\n",
       "      <td>Q_CZIvnsDHjpls-EPzzG7Q</td>\n",
       "      <td>Went there about 1 PM on a Monday.  It wasn't ...</td>\n",
       "      <td>2</td>\n",
       "      <td>True</td>\n",
       "      <td>free</td>\n",
       "      <td>True</td>\n",
       "      <td>...</td>\n",
       "      <td>beer_and_wine</td>\n",
       "      <td>{'dessert': False, 'latenight': False, 'lunch'...</td>\n",
       "      <td>False</td>\n",
       "      <td>True</td>\n",
       "      <td>average</td>\n",
       "      <td>casual</td>\n",
       "      <td>None</td>\n",
       "      <td>None</td>\n",
       "      <td>None</td>\n",
       "      <td>True</td>\n",
       "    </tr>\n",
       "    <tr>\n",
       "      <th>2</th>\n",
       "      <td>6iYb2HFDywm3zjuRg0shjw</td>\n",
       "      <td>4.0</td>\n",
       "      <td>86</td>\n",
       "      <td>Gastropubs, Food, Beer Gardens, Restaurants, B...</td>\n",
       "      <td>rqxTSFFj5fZNmabY1fmTlw</td>\n",
       "      <td>This was the place the be on Friday Night! If ...</td>\n",
       "      <td>5</td>\n",
       "      <td>True</td>\n",
       "      <td>free</td>\n",
       "      <td>True</td>\n",
       "      <td>...</td>\n",
       "      <td>beer_and_wine</td>\n",
       "      <td>{'dessert': False, 'latenight': False, 'lunch'...</td>\n",
       "      <td>False</td>\n",
       "      <td>True</td>\n",
       "      <td>average</td>\n",
       "      <td>casual</td>\n",
       "      <td>None</td>\n",
       "      <td>None</td>\n",
       "      <td>None</td>\n",
       "      <td>True</td>\n",
       "    </tr>\n",
       "    <tr>\n",
       "      <th>3</th>\n",
       "      <td>6iYb2HFDywm3zjuRg0shjw</td>\n",
       "      <td>4.0</td>\n",
       "      <td>86</td>\n",
       "      <td>Gastropubs, Food, Beer Gardens, Restaurants, B...</td>\n",
       "      <td>vNPxlt5f50q0e2nVAScW3Q</td>\n",
       "      <td>Went to this place with my family over the wee...</td>\n",
       "      <td>4</td>\n",
       "      <td>True</td>\n",
       "      <td>free</td>\n",
       "      <td>True</td>\n",
       "      <td>...</td>\n",
       "      <td>beer_and_wine</td>\n",
       "      <td>{'dessert': False, 'latenight': False, 'lunch'...</td>\n",
       "      <td>False</td>\n",
       "      <td>True</td>\n",
       "      <td>average</td>\n",
       "      <td>casual</td>\n",
       "      <td>None</td>\n",
       "      <td>None</td>\n",
       "      <td>None</td>\n",
       "      <td>True</td>\n",
       "    </tr>\n",
       "    <tr>\n",
       "      <th>4</th>\n",
       "      <td>6iYb2HFDywm3zjuRg0shjw</td>\n",
       "      <td>4.0</td>\n",
       "      <td>86</td>\n",
       "      <td>Gastropubs, Food, Beer Gardens, Restaurants, B...</td>\n",
       "      <td>eXRC79iX60xwA1UuGRuWNg</td>\n",
       "      <td>Stopped on a midweek afternoon, and so glad th...</td>\n",
       "      <td>4</td>\n",
       "      <td>True</td>\n",
       "      <td>free</td>\n",
       "      <td>True</td>\n",
       "      <td>...</td>\n",
       "      <td>beer_and_wine</td>\n",
       "      <td>{'dessert': False, 'latenight': False, 'lunch'...</td>\n",
       "      <td>False</td>\n",
       "      <td>True</td>\n",
       "      <td>average</td>\n",
       "      <td>casual</td>\n",
       "      <td>None</td>\n",
       "      <td>None</td>\n",
       "      <td>None</td>\n",
       "      <td>True</td>\n",
       "    </tr>\n",
       "  </tbody>\n",
       "</table>\n",
       "<p>5 rows × 32 columns</p>\n",
       "</div>"
      ],
      "text/plain": [
       "              business_id  business_stars  review_count  \\\n",
       "0  6iYb2HFDywm3zjuRg0shjw             4.0            86   \n",
       "1  6iYb2HFDywm3zjuRg0shjw             4.0            86   \n",
       "2  6iYb2HFDywm3zjuRg0shjw             4.0            86   \n",
       "3  6iYb2HFDywm3zjuRg0shjw             4.0            86   \n",
       "4  6iYb2HFDywm3zjuRg0shjw             4.0            86   \n",
       "\n",
       "                                          categories                 user_id  \\\n",
       "0  Gastropubs, Food, Beer Gardens, Restaurants, B...  93z0yh-sUpGZS-cSKu6xxA   \n",
       "1  Gastropubs, Food, Beer Gardens, Restaurants, B...  Q_CZIvnsDHjpls-EPzzG7Q   \n",
       "2  Gastropubs, Food, Beer Gardens, Restaurants, B...  rqxTSFFj5fZNmabY1fmTlw   \n",
       "3  Gastropubs, Food, Beer Gardens, Restaurants, B...  vNPxlt5f50q0e2nVAScW3Q   \n",
       "4  Gastropubs, Food, Beer Gardens, Restaurants, B...  eXRC79iX60xwA1UuGRuWNg   \n",
       "\n",
       "                                                text  review_stars  \\\n",
       "0  Stopped in on a busy Friday night. Despite the...             5   \n",
       "1  Went there about 1 PM on a Monday.  It wasn't ...             2   \n",
       "2  This was the place the be on Friday Night! If ...             5   \n",
       "3  Went to this place with my family over the wee...             4   \n",
       "4  Stopped on a midweek afternoon, and so glad th...             4   \n",
       "\n",
       "  restaurants_table_service  wifi bike_parking  ...        alcohol  \\\n",
       "0                      True  free         True  ...  beer_and_wine   \n",
       "1                      True  free         True  ...  beer_and_wine   \n",
       "2                      True  free         True  ...  beer_and_wine   \n",
       "3                      True  free         True  ...  beer_and_wine   \n",
       "4                      True  free         True  ...  beer_and_wine   \n",
       "\n",
       "                                       good_for_meal dogs_allowed  \\\n",
       "0  {'dessert': False, 'latenight': False, 'lunch'...        False   \n",
       "1  {'dessert': False, 'latenight': False, 'lunch'...        False   \n",
       "2  {'dessert': False, 'latenight': False, 'lunch'...        False   \n",
       "3  {'dessert': False, 'latenight': False, 'lunch'...        False   \n",
       "4  {'dessert': False, 'latenight': False, 'lunch'...        False   \n",
       "\n",
       "  restaurants_take_out noise_level restaurants_attire restaurants_delivery  \\\n",
       "0                 True     average             casual                 None   \n",
       "1                 True     average             casual                 None   \n",
       "2                 True     average             casual                 None   \n",
       "3                 True     average             casual                 None   \n",
       "4                 True     average             casual                 None   \n",
       "\n",
       "  good_for_kids good_for_dancing music  \n",
       "0          None             None  True  \n",
       "1          None             None  True  \n",
       "2          None             None  True  \n",
       "3          None             None  True  \n",
       "4          None             None  True  \n",
       "\n",
       "[5 rows x 32 columns]"
      ]
     },
     "execution_count": 3,
     "metadata": {},
     "output_type": "execute_result"
    }
   ],
   "source": [
    "df = pd.DataFrame();\n",
    "with (open('model_data.pickle','rb')) as openfile:\n",
    "    df = pickle.load(openfile)\n",
    "df.head()"
   ]
  },
  {
   "cell_type": "code",
   "execution_count": 4,
   "id": "8e059a88",
   "metadata": {},
   "outputs": [],
   "source": [
    "review_data = df[['review_stars','text']].sample(n=500000)"
   ]
  },
  {
   "cell_type": "code",
   "execution_count": 5,
   "id": "e2688215",
   "metadata": {},
   "outputs": [
    {
     "data": {
      "text/html": [
       "<div>\n",
       "<style scoped>\n",
       "    .dataframe tbody tr th:only-of-type {\n",
       "        vertical-align: middle;\n",
       "    }\n",
       "\n",
       "    .dataframe tbody tr th {\n",
       "        vertical-align: top;\n",
       "    }\n",
       "\n",
       "    .dataframe thead th {\n",
       "        text-align: right;\n",
       "    }\n",
       "</style>\n",
       "<table border=\"1\" class=\"dataframe\">\n",
       "  <thead>\n",
       "    <tr style=\"text-align: right;\">\n",
       "      <th></th>\n",
       "      <th>review_stars</th>\n",
       "      <th>text</th>\n",
       "    </tr>\n",
       "  </thead>\n",
       "  <tbody>\n",
       "    <tr>\n",
       "      <th>7519538</th>\n",
       "      <td>5</td>\n",
       "      <td>Very prompt.  Explained procedures and was per...</td>\n",
       "    </tr>\n",
       "    <tr>\n",
       "      <th>7487700</th>\n",
       "      <td>1</td>\n",
       "      <td>Visited tonight and noted same deficiencies as...</td>\n",
       "    </tr>\n",
       "    <tr>\n",
       "      <th>6975608</th>\n",
       "      <td>4</td>\n",
       "      <td>I feel like this place is pretty under appreci...</td>\n",
       "    </tr>\n",
       "    <tr>\n",
       "      <th>2525964</th>\n",
       "      <td>5</td>\n",
       "      <td>Amazing Sushi! Leo the manager/chef always buy...</td>\n",
       "    </tr>\n",
       "    <tr>\n",
       "      <th>598815</th>\n",
       "      <td>4</td>\n",
       "      <td>Smoothies were tasty and fairly priced.  Quiet...</td>\n",
       "    </tr>\n",
       "  </tbody>\n",
       "</table>\n",
       "</div>"
      ],
      "text/plain": [
       "         review_stars                                               text\n",
       "7519538             5  Very prompt.  Explained procedures and was per...\n",
       "7487700             1  Visited tonight and noted same deficiencies as...\n",
       "6975608             4  I feel like this place is pretty under appreci...\n",
       "2525964             5  Amazing Sushi! Leo the manager/chef always buy...\n",
       "598815              4  Smoothies were tasty and fairly priced.  Quiet..."
      ]
     },
     "execution_count": 5,
     "metadata": {},
     "output_type": "execute_result"
    }
   ],
   "source": [
    "review_data.head()"
   ]
  },
  {
   "cell_type": "markdown",
   "id": "87b1ca44",
   "metadata": {},
   "source": [
    "## Preparing Labels\n",
    "I am analyzing and preparing the labels for be used for training."
   ]
  },
  {
   "cell_type": "code",
   "execution_count": 6,
   "id": "e465cced",
   "metadata": {},
   "outputs": [
    {
     "data": {
      "text/plain": [
       "5    3814532\n",
       "4    1920037\n",
       "1    1262800\n",
       "3     926656\n",
       "2     711378\n",
       "Name: review_stars, dtype: int64"
      ]
     },
     "execution_count": 6,
     "metadata": {},
     "output_type": "execute_result"
    }
   ],
   "source": [
    "df.review_stars.value_counts()"
   ]
  },
  {
   "cell_type": "code",
   "execution_count": 7,
   "id": "b3687fef",
   "metadata": {
    "scrolled": true
   },
   "outputs": [
    {
     "data": {
      "image/png": "[encoded data removed]",
      "text/plain": [
       "<Figure size 432x288 with 1 Axes>"
      ]
     },
     "metadata": {
      "needs_background": "light"
     },
     "output_type": "display_data"
    },
    {
     "data": {
      "text/plain": [
       "<Figure size 216x288 with 0 Axes>"
      ]
     },
     "metadata": {},
     "output_type": "display_data"
    }
   ],
   "source": [
    "sns.countplot(data=review_data, x=\"review_stars\")\n",
    "plt.xticks([1,2,3,4,5])\n",
    "plt.title(\"Distribution among stars from reviews\")\n",
    "plt.figure(figsize=(3,4))\n",
    "plt.show()"
   ]
  },
  {
   "cell_type": "markdown",
   "id": "e159bd57",
   "metadata": {},
   "source": [
    "📝 Author's Notes:\n",
    "\n",
    "The distribution of ratings is skewed left and is imbalanced."
   ]
  },
  {
   "cell_type": "code",
   "execution_count": 8,
   "id": "d4c8b79e",
   "metadata": {},
   "outputs": [
    {
     "data": {
      "text/plain": [
       "count    500000.000000\n",
       "mean          3.729288\n",
       "std           1.456854\n",
       "min           1.000000\n",
       "25%           3.000000\n",
       "50%           4.000000\n",
       "75%           5.000000\n",
       "max           5.000000\n",
       "Name: review_stars, dtype: float64"
      ]
     },
     "execution_count": 8,
     "metadata": {},
     "output_type": "execute_result"
    }
   ],
   "source": [
    "review_data['review_stars'].describe()"
   ]
  },
  {
   "cell_type": "code",
   "execution_count": 9,
   "id": "0516b02e",
   "metadata": {},
   "outputs": [],
   "source": [
    "def simplify_ratings(x):\n",
    "    if x < 3:\n",
    "        x = 0\n",
    "    elif x == 3:\n",
    "        x = 1\n",
    "    elif x > 3:\n",
    "        x = 2\n",
    "    return x\n",
    "review_data['review_stars'] = review_data['review_stars'].apply(lambda x: simplify_ratings(x) )"
   ]
  },
  {
   "cell_type": "code",
   "execution_count": 10,
   "id": "bfa6b22c",
   "metadata": {},
   "outputs": [
    {
     "data": {
      "image/png": "[encoded data removed]",
      "text/plain": [
       "<Figure size 432x288 with 1 Axes>"
      ]
     },
     "metadata": {
      "needs_background": "light"
     },
     "output_type": "display_data"
    },
    {
     "data": {
      "text/plain": [
       "<Figure size 216x288 with 0 Axes>"
      ]
     },
     "metadata": {},
     "output_type": "display_data"
    }
   ],
   "source": [
    "sns.countplot(data=review_data, x=\"review_stars\")\n",
    "plt.xticks([0,1,2])\n",
    "plt.title(\"Distribution among stars from reviews (simplified)\")\n",
    "plt.figure(figsize=(3,4))\n",
    "plt.show()"
   ]
  },
  {
   "cell_type": "markdown",
   "id": "3b8a9836",
   "metadata": {},
   "source": [
    "📝 Author's Notes:\n",
    "\n",
    "Its is clear that the data skews in favor of positive ratings."
   ]
  },
  {
   "cell_type": "code",
   "execution_count": 11,
   "id": "e768ae4d",
   "metadata": {
    "scrolled": false
   },
   "outputs": [
    {
     "data": {
      "text/plain": [
       "2    332065\n",
       "0    114476\n",
       "1     53459\n",
       "Name: review_stars, dtype: int64"
      ]
     },
     "execution_count": 11,
     "metadata": {},
     "output_type": "execute_result"
    }
   ],
   "source": [
    "review_data[\"review_stars\"].value_counts()"
   ]
  },
  {
   "cell_type": "markdown",
   "id": "d98a38db",
   "metadata": {},
   "source": [
    "📝 Author's Notes:\n",
    "\n",
    "There is an inbalance in the results of the review. This may cause issues when predicting neutral reviews."
   ]
  },
  {
   "cell_type": "markdown",
   "id": "e4dc1af2",
   "metadata": {},
   "source": [
    "## Preparing Text"
   ]
  },
  {
   "cell_type": "code",
   "execution_count": 12,
   "id": "e4051412",
   "metadata": {},
   "outputs": [
    {
     "data": {
      "text/plain": [
       "5000"
      ]
     },
     "execution_count": 12,
     "metadata": {},
     "output_type": "execute_result"
    }
   ],
   "source": [
    "# What is the longest review?\n",
    "review_data['text'].str.len().max()"
   ]
  },
  {
   "cell_type": "code",
   "execution_count": 13,
   "id": "87f5a107",
   "metadata": {},
   "outputs": [
    {
     "data": {
      "text/plain": [
       "1"
      ]
     },
     "execution_count": 13,
     "metadata": {},
     "output_type": "execute_result"
    }
   ],
   "source": [
    "#What is the the shortest review?\n",
    "review_data['text'].str.len().min()"
   ]
  },
  {
   "cell_type": "markdown",
   "id": "f5c274d5",
   "metadata": {},
   "source": [
    "📝 Author's Note: \n",
    "\n",
    "I will be removing all reviews less than 5 characters due to it not providing enough context to the business."
   ]
  },
  {
   "cell_type": "code",
   "execution_count": 14,
   "id": "ea4db5b1",
   "metadata": {},
   "outputs": [],
   "source": [
    "review_data['length'] = review_data['text'].str.len()"
   ]
  },
  {
   "cell_type": "code",
   "execution_count": 15,
   "id": "f489c77f",
   "metadata": {},
   "outputs": [
    {
     "data": {
      "text/plain": [
       "Text(0.5, 1.0, 'Distribution of the length of reviews')"
      ]
     },
     "execution_count": 15,
     "metadata": {},
     "output_type": "execute_result"
    },
    {
     "data": {
      "image/png": "[encoded data removed]",
      "text/plain": [
       "<Figure size 360x360 with 1 Axes>"
      ]
     },
     "metadata": {
      "needs_background": "light"
     },
     "output_type": "display_data"
    }
   ],
   "source": [
    "sns.displot(data=review_data, x='length')\n",
    "plt.title('Distribution of the length of reviews')"
   ]
  },
  {
   "cell_type": "code",
   "execution_count": 16,
   "id": "b932956a",
   "metadata": {},
   "outputs": [
    {
     "data": {
      "text/plain": [
       "606.957442"
      ]
     },
     "execution_count": 16,
     "metadata": {},
     "output_type": "execute_result"
    }
   ],
   "source": [
    "review_data['length'].mean()"
   ]
  },
  {
   "cell_type": "markdown",
   "id": "eddbb3f6",
   "metadata": {},
   "source": [
    "Lets analyze the left side of the distribution"
   ]
  },
  {
   "cell_type": "code",
   "execution_count": 17,
   "id": "c5edb6d6",
   "metadata": {},
   "outputs": [],
   "source": [
    "trimmed_review_data = review_data[review_data['length'] < 2000]"
   ]
  },
  {
   "cell_type": "code",
   "execution_count": 18,
   "id": "8800f503",
   "metadata": {},
   "outputs": [
    {
     "data": {
      "text/plain": [
       "1"
      ]
     },
     "execution_count": 18,
     "metadata": {},
     "output_type": "execute_result"
    }
   ],
   "source": [
    "trimmed_review_data['length'].min()"
   ]
  },
  {
   "cell_type": "code",
   "execution_count": 19,
   "id": "0f13ec71",
   "metadata": {},
   "outputs": [
    {
     "data": {
      "text/plain": [
       "Text(0.5, 1.0, 'Distribution of the length of reviews (Trimmed)')"
      ]
     },
     "execution_count": 19,
     "metadata": {},
     "output_type": "execute_result"
    },
    {
     "data": {
      "image/png": "[encoded data removed]",
      "text/plain": [
       "<Figure size 360x360 with 1 Axes>"
      ]
     },
     "metadata": {
      "needs_background": "light"
     },
     "output_type": "display_data"
    }
   ],
   "source": [
    "sns.displot(data=trimmed_review_data, x='length')\n",
    "plt.title('Distribution of the length of reviews (Trimmed)')"
   ]
  },
  {
   "cell_type": "code",
   "execution_count": 20,
   "id": "2d01ceb4",
   "metadata": {
    "scrolled": true
   },
   "outputs": [
    {
     "data": {
      "text/plain": [
       "539.9337376362718"
      ]
     },
     "execution_count": 20,
     "metadata": {},
     "output_type": "execute_result"
    }
   ],
   "source": [
    "trimmed_review_data['length'].mean()"
   ]
  },
  {
   "cell_type": "markdown",
   "id": "f8a59711",
   "metadata": {},
   "source": [
    "📝 Author's Notes:\n",
    "\n",
    "An overwhelming number of reviews are found in between the 100 and 2000. Will having longer reviews help out in generating a better model? "
   ]
  },
  {
   "cell_type": "markdown",
   "id": "4511b881",
   "metadata": {},
   "source": [
    "## Start Data Processing\n",
    "Lets convert both text and labels to a point where we can start preparing to train our model"
   ]
  },
  {
   "cell_type": "markdown",
   "id": "aaeaf6c4",
   "metadata": {},
   "source": [
    "### Importing custom files to clean up text"
   ]
  },
  {
   "cell_type": "code",
   "execution_count": 21,
   "id": "a57f64ce",
   "metadata": {},
   "outputs": [],
   "source": [
    "# Importing custom cleanup files to process the text\n",
    "from CleanUpFiles.ntlk_clean_text import clean_text"
   ]
  },
  {
   "cell_type": "markdown",
   "id": "e9a8db0a",
   "metadata": {},
   "source": [
    "### Cleaning Up Text"
   ]
  },
  {
   "cell_type": "code",
   "execution_count": 22,
   "id": "1003b700",
   "metadata": {},
   "outputs": [
    {
     "data": {
      "text/plain": [
       "'hello world i walking night i morning'"
      ]
     },
     "execution_count": 22,
     "metadata": {},
     "output_type": "execute_result"
    }
   ],
   "source": [
    "\"\".join(clean_text(\"Hello World, \\n\\t I'll be walking through the night. I can't be here by morning!\"))"
   ]
  },
  {
   "cell_type": "markdown",
   "id": "b0dbe792",
   "metadata": {},
   "source": [
    "📝 Author's Notes:\n",
    "\n",
    "There is a weird thing that removes contractions that could affect negative words"
   ]
  },
  {
   "cell_type": "code",
   "execution_count": 23,
   "id": "9e00de0d",
   "metadata": {},
   "outputs": [],
   "source": [
    "review_data_cleaned = pd.DataFrame()\n",
    "review_data_cleaned['label'] = review_data['review_stars'].copy()"
   ]
  },
  {
   "cell_type": "code",
   "execution_count": 24,
   "id": "37297fda",
   "metadata": {},
   "outputs": [
    {
     "name": "stdout",
     "output_type": "stream",
     "text": [
      "Wall time: 20min 15s\n"
     ]
    }
   ],
   "source": [
    "%%time\n",
    "review_data_cleaned['text'] = review_data['text'].apply(lambda x: \"\".join(clean_text(x)))"
   ]
  },
  {
   "cell_type": "code",
   "execution_count": 25,
   "id": "5fd7f03f",
   "metadata": {},
   "outputs": [
    {
     "data": {
      "text/html": [
       "<div>\n",
       "<style scoped>\n",
       "    .dataframe tbody tr th:only-of-type {\n",
       "        vertical-align: middle;\n",
       "    }\n",
       "\n",
       "    .dataframe tbody tr th {\n",
       "        vertical-align: top;\n",
       "    }\n",
       "\n",
       "    .dataframe thead th {\n",
       "        text-align: right;\n",
       "    }\n",
       "</style>\n",
       "<table border=\"1\" class=\"dataframe\">\n",
       "  <thead>\n",
       "    <tr style=\"text-align: right;\">\n",
       "      <th></th>\n",
       "      <th>label</th>\n",
       "      <th>text</th>\n",
       "    </tr>\n",
       "  </thead>\n",
       "  <tbody>\n",
       "    <tr>\n",
       "      <th>7519538</th>\n",
       "      <td>2</td>\n",
       "      <td>very prompt explained procedure wa personable ...</td>\n",
       "    </tr>\n",
       "    <tr>\n",
       "      <th>7487700</th>\n",
       "      <td>0</td>\n",
       "      <td>visited tonight noted deficiency others no dri...</td>\n",
       "    </tr>\n",
       "    <tr>\n",
       "      <th>6975608</th>\n",
       "      <td>2</td>\n",
       "      <td>i feel like place pretty appreciated they newe...</td>\n",
       "    </tr>\n",
       "    <tr>\n",
       "      <th>2525964</th>\n",
       "      <td>2</td>\n",
       "      <td>amazing sushi leo manager chef always buy best...</td>\n",
       "    </tr>\n",
       "    <tr>\n",
       "      <th>598815</th>\n",
       "      <td>2</td>\n",
       "      <td>smoothies tasty fairly priced quiet woman work...</td>\n",
       "    </tr>\n",
       "  </tbody>\n",
       "</table>\n",
       "</div>"
      ],
      "text/plain": [
       "         label                                               text\n",
       "7519538      2  very prompt explained procedure wa personable ...\n",
       "7487700      0  visited tonight noted deficiency others no dri...\n",
       "6975608      2  i feel like place pretty appreciated they newe...\n",
       "2525964      2  amazing sushi leo manager chef always buy best...\n",
       "598815       2  smoothies tasty fairly priced quiet woman work..."
      ]
     },
     "execution_count": 25,
     "metadata": {},
     "output_type": "execute_result"
    }
   ],
   "source": [
    "review_data_cleaned.head()"
   ]
  },
  {
   "cell_type": "markdown",
   "id": "d13fc108",
   "metadata": {},
   "source": [
    "📝 Author's Notes:\n",
    "\n",
    "Remove all rows that are empty strings. Any strings just containing whitespaces will be striped down. Running a calculation run will identify any strings that are empty and then drop them."
   ]
  },
  {
   "cell_type": "code",
   "execution_count": 26,
   "id": "195afc77",
   "metadata": {},
   "outputs": [],
   "source": [
    "review_data_cleaned['text'] = review_data_cleaned['text'].apply(lambda x: x.strip())"
   ]
  },
  {
   "cell_type": "code",
   "execution_count": 27,
   "id": "a9e8fbca",
   "metadata": {},
   "outputs": [],
   "source": [
    "review_data_cleaned['length'] = review_data_cleaned['text'].str.len()"
   ]
  },
  {
   "cell_type": "code",
   "execution_count": 28,
   "id": "8e6f84a5",
   "metadata": {},
   "outputs": [
    {
     "data": {
      "text/plain": [
       "0"
      ]
     },
     "execution_count": 28,
     "metadata": {},
     "output_type": "execute_result"
    }
   ],
   "source": [
    "review_data_cleaned['text'].str.len().min()"
   ]
  },
  {
   "cell_type": "code",
   "execution_count": 29,
   "id": "cb84df3a",
   "metadata": {
    "scrolled": true
   },
   "outputs": [
    {
     "data": {
      "text/plain": [
       "6240377       0\n",
       "3008780       0\n",
       "4637982       0\n",
       "1083276       0\n",
       "3604022       0\n",
       "           ... \n",
       "5208468    3702\n",
       "1685037    3714\n",
       "200270     3737\n",
       "1057540    3808\n",
       "5908607    3865\n",
       "Name: length, Length: 500000, dtype: int64"
      ]
     },
     "execution_count": 29,
     "metadata": {},
     "output_type": "execute_result"
    }
   ],
   "source": [
    "review_data_cleaned['length'].sort_values(ascending=True)"
   ]
  },
  {
   "cell_type": "code",
   "execution_count": 30,
   "id": "b99e4b21",
   "metadata": {},
   "outputs": [],
   "source": [
    "review_data_cleaned = review_data_cleaned[review_data_cleaned.length != 0]"
   ]
  },
  {
   "cell_type": "code",
   "execution_count": 31,
   "id": "bba7436d",
   "metadata": {},
   "outputs": [
    {
     "data": {
      "text/plain": [
       "1"
      ]
     },
     "execution_count": 31,
     "metadata": {},
     "output_type": "execute_result"
    }
   ],
   "source": [
    "review_data_cleaned['text'].str.len().min()"
   ]
  },
  {
   "cell_type": "code",
   "execution_count": 32,
   "id": "c305fa34",
   "metadata": {},
   "outputs": [
    {
     "data": {
      "text/plain": [
       "(499946, 3)"
      ]
     },
     "execution_count": 32,
     "metadata": {},
     "output_type": "execute_result"
    }
   ],
   "source": [
    "review_data_cleaned.shape"
   ]
  },
  {
   "cell_type": "code",
   "execution_count": 33,
   "id": "ad01d0b9",
   "metadata": {},
   "outputs": [
    {
     "data": {
      "text/html": [
       "<div>\n",
       "<style scoped>\n",
       "    .dataframe tbody tr th:only-of-type {\n",
       "        vertical-align: middle;\n",
       "    }\n",
       "\n",
       "    .dataframe tbody tr th {\n",
       "        vertical-align: top;\n",
       "    }\n",
       "\n",
       "    .dataframe thead th {\n",
       "        text-align: right;\n",
       "    }\n",
       "</style>\n",
       "<table border=\"1\" class=\"dataframe\">\n",
       "  <thead>\n",
       "    <tr style=\"text-align: right;\">\n",
       "      <th></th>\n",
       "      <th>label</th>\n",
       "      <th>text</th>\n",
       "      <th>length</th>\n",
       "    </tr>\n",
       "  </thead>\n",
       "  <tbody>\n",
       "    <tr>\n",
       "      <th>7519538</th>\n",
       "      <td>2</td>\n",
       "      <td>very prompt explained procedure wa personable ...</td>\n",
       "      <td>96</td>\n",
       "    </tr>\n",
       "    <tr>\n",
       "      <th>7487700</th>\n",
       "      <td>0</td>\n",
       "      <td>visited tonight noted deficiency others no dri...</td>\n",
       "      <td>417</td>\n",
       "    </tr>\n",
       "    <tr>\n",
       "      <th>6975608</th>\n",
       "      <td>2</td>\n",
       "      <td>i feel like place pretty appreciated they newe...</td>\n",
       "      <td>400</td>\n",
       "    </tr>\n",
       "    <tr>\n",
       "      <th>2525964</th>\n",
       "      <td>2</td>\n",
       "      <td>amazing sushi leo manager chef always buy best...</td>\n",
       "      <td>106</td>\n",
       "    </tr>\n",
       "    <tr>\n",
       "      <th>598815</th>\n",
       "      <td>2</td>\n",
       "      <td>smoothies tasty fairly priced quiet woman work...</td>\n",
       "      <td>286</td>\n",
       "    </tr>\n",
       "  </tbody>\n",
       "</table>\n",
       "</div>"
      ],
      "text/plain": [
       "         label                                               text  length\n",
       "7519538      2  very prompt explained procedure wa personable ...      96\n",
       "7487700      0  visited tonight noted deficiency others no dri...     417\n",
       "6975608      2  i feel like place pretty appreciated they newe...     400\n",
       "2525964      2  amazing sushi leo manager chef always buy best...     106\n",
       "598815       2  smoothies tasty fairly priced quiet woman work...     286"
      ]
     },
     "execution_count": 33,
     "metadata": {},
     "output_type": "execute_result"
    }
   ],
   "source": [
    "review_data_cleaned.head()"
   ]
  },
  {
   "cell_type": "code",
   "execution_count": 34,
   "id": "7df638db",
   "metadata": {
    "scrolled": true
   },
   "outputs": [
    {
     "data": {
      "text/plain": [
       "'a a bowl wa good took min make'"
      ]
     },
     "execution_count": 34,
     "metadata": {},
     "output_type": "execute_result"
    }
   ],
   "source": [
    "review_data_cleaned['text'].min()"
   ]
  },
  {
   "cell_type": "markdown",
   "id": "6cb677f8",
   "metadata": {},
   "source": [
    "📝 Author's Notes:\n",
    "\n",
    "I see there are left over characters such as \"a\" and what is left of I am assuming contractions."
   ]
  },
  {
   "cell_type": "markdown",
   "id": "f044cce8",
   "metadata": {},
   "source": [
    "### Preparing Text for Word Cloud"
   ]
  },
  {
   "cell_type": "code",
   "execution_count": 35,
   "id": "82aa86d3",
   "metadata": {},
   "outputs": [],
   "source": [
    "good_reviews_df = pd.DataFrame()\n",
    "bad_reviews_df = pd.DataFrame()\n",
    "neutral_reviews_df = pd.DataFrame()\n",
    "\n",
    "good_reviews_df['text'] = review_data_cleaned.loc[review_data_cleaned['label'] == 2].text\n",
    "neutral_reviews_df['text'] = review_data_cleaned.loc[review_data_cleaned['label'] == 1].text\n",
    "bad_reviews_df['text'] = review_data_cleaned.loc[review_data_cleaned['label'] == 0].text"
   ]
  },
  {
   "cell_type": "code",
   "execution_count": 36,
   "id": "0196f638",
   "metadata": {},
   "outputs": [
    {
     "data": {
      "text/plain": [
       "(-0.5, 399.5, 199.5, -0.5)"
      ]
     },
     "execution_count": 36,
     "metadata": {},
     "output_type": "execute_result"
    },
    {
     "data": {
      "image/png": "[encoded data removed]",
      "text/plain": [
       "<Figure size 432x288 with 1 Axes>"
      ]
     },
     "metadata": {
      "needs_background": "light"
     },
     "output_type": "display_data"
    }
   ],
   "source": [
    "text = \" \".join(review for review in good_reviews_df['text'])\n",
    "wordcloud = WordCloud(max_font_size=50, max_words=100, background_color=\"white\").generate(text)\n",
    "plt.imshow(wordcloud)\n",
    "plt.title(\"Word Cloud of Positive Reviews\")\n",
    "plt.axis('off')"
   ]
  },
  {
   "cell_type": "markdown",
   "id": "af4ff7ea",
   "metadata": {},
   "source": [
    "📝 Author's Notes:\n",
    "\n",
    "This looks good, not sure where 'wa' is coming from. Need to look into it. Probably how I am cleaning the text."
   ]
  },
  {
   "cell_type": "code",
   "execution_count": 37,
   "id": "f81f08c3",
   "metadata": {},
   "outputs": [
    {
     "data": {
      "text/plain": [
       "(-0.5, 399.5, 199.5, -0.5)"
      ]
     },
     "execution_count": 37,
     "metadata": {},
     "output_type": "execute_result"
    },
    {
     "data": {
      "image/png": "[encoded data removed]",
      "text/plain": [
       "<Figure size 432x288 with 1 Axes>"
      ]
     },
     "metadata": {
      "needs_background": "light"
     },
     "output_type": "display_data"
    }
   ],
   "source": [
    "text = \" \".join(review for review in bad_reviews_df['text'])\n",
    "wordcloud = WordCloud(max_font_size=50, max_words=100, background_color=\"white\").generate(text)\n",
    "plt.imshow(wordcloud)\n",
    "plt.title(\"Word Cloud of Negative Reviews\")\n",
    "plt.axis('off')"
   ]
  },
  {
   "cell_type": "markdown",
   "id": "617ddf68",
   "metadata": {},
   "source": [
    "📝 Author's Notes:\n",
    "\n",
    "There is not obvious negative words on this list. Which is wierd since last time there were noticible words associated with negative reviews such as 'horrible', 'bad', etc..."
   ]
  },
  {
   "cell_type": "code",
   "execution_count": 38,
   "id": "1e8e54f9",
   "metadata": {},
   "outputs": [
    {
     "data": {
      "text/plain": [
       "(-0.5, 399.5, 199.5, -0.5)"
      ]
     },
     "execution_count": 38,
     "metadata": {},
     "output_type": "execute_result"
    },
    {
     "data": {
      "image/png": "[encoded data removed]",
      "text/plain": [
       "<Figure size 432x288 with 1 Axes>"
      ]
     },
     "metadata": {
      "needs_background": "light"
     },
     "output_type": "display_data"
    }
   ],
   "source": [
    "text = \" \".join(review for review in neutral_reviews_df['text'])\n",
    "wordcloud = WordCloud(max_font_size=50, max_words=100, background_color=\"white\").generate(text)\n",
    "plt.imshow(wordcloud)\n",
    "plt.title(\"Word Cloud of Neutral Reviews\")\n",
    "plt.axis('off')"
   ]
  },
  {
   "cell_type": "markdown",
   "id": "24d2a691",
   "metadata": {},
   "source": [
    "📝 Author's Note: \n",
    "\n",
    "**Update** Removing contractions did remove certain characters. the only thing left over are 's' and 'wa'\n",
    "\n",
    "⚠️ There seems to be a lot of broken words such as \"n t\", \"ve\", \"s\",\"m\", etc. Not sure if these are left overs from contractions or other words?"
   ]
  },
  {
   "cell_type": "markdown",
   "id": "10ccec00",
   "metadata": {},
   "source": [
    "## Saving Cleaned Data to be used for Model Training"
   ]
  },
  {
   "cell_type": "code",
   "execution_count": 39,
   "id": "a401647d",
   "metadata": {},
   "outputs": [],
   "source": [
    "review_data_cleaned.to_pickle('cleaned_data500k.pkl')"
   ]
  },
  {
   "cell_type": "markdown",
   "id": "dd96df5c",
   "metadata": {},
   "source": [
    "## Load Data for Model Training\n",
    "Load already cleaned data to save time not running the first half of this notebook."
   ]
  },
  {
   "cell_type": "code",
   "execution_count": 84,
   "id": "70809921",
   "metadata": {},
   "outputs": [],
   "source": [
    "clean_data_df = pd.read_pickle('cleaned_data500k.pkl')\n",
    "X = clean_data_df['text'].values\n",
    "y = clean_data_df['label'].values"
   ]
  },
  {
   "cell_type": "markdown",
   "id": "07b9fe88",
   "metadata": {},
   "source": [
    "## Use for training a model\n",
    "These are used to train individual models to be saved and used later on"
   ]
  },
  {
   "cell_type": "code",
   "execution_count": 85,
   "id": "b73c43e8",
   "metadata": {},
   "outputs": [],
   "source": [
    "X_train,X_test,y_train,y_test = train_test_split(X,y,test_size=0.30,random_state=101)"
   ]
  },
  {
   "cell_type": "markdown",
   "id": "3914cf50",
   "metadata": {},
   "source": [
    "## Preparing for Model Training\n"
   ]
  },
  {
   "cell_type": "code",
   "execution_count": 86,
   "id": "00420d77",
   "metadata": {},
   "outputs": [],
   "source": [
    "def strat_cross_val(splits, X, Y, pipeline, average_method):\n",
    "    kfold = StratifiedKFold(n_splits=splits, shuffle=True, random_state=777)\n",
    "    accuracy = []\n",
    "    precision = []\n",
    "    recall = []\n",
    "    f1 = []\n",
    "    for train, test in kfold.split(X, Y):\n",
    "        lr_fit = pipeline.fit(X[train], Y[train])\n",
    "        prediction = lr_fit.predict(X[test])\n",
    "        scores = lr_fit.score(X[test],Y[test])\n",
    "        accuracy.append(scores * 100)\n",
    "        precision.append(precision_score(Y[test], prediction, average=average_method)*100)\n",
    "        recall.append(recall_score(Y[test], prediction, average=average_method)*100)\n",
    "        f1.append(f1_score(Y[test], prediction, average=average_method)*100)\n",
    "        print(classification_report(Y[test],prediction))\n",
    "        print('-'*50)\n",
    "    print(\"accuracy: %.2f%% (+/- %.2f%%)\" % (np.mean(accuracy), np.std(accuracy)))\n",
    "    print(\"precision: %.2f%% (+/- %.2f%%)\" % (np.mean(precision), np.std(precision)))\n",
    "    print(\"recall: %.2f%% (+/- %.2f%%)\" % (np.mean(recall), np.std(recall)))\n",
    "    print(\"f1 score: %.2f%% (+/- %.2f%%)\" % (np.mean(f1), np.std(f1)))"
   ]
  },
  {
   "cell_type": "code",
   "execution_count": 87,
   "id": "e8da557b",
   "metadata": {},
   "outputs": [],
   "source": [
    "def display_confusion_matrix(y_test,y_pred):\n",
    "    df_matrix=pd.DataFrame(confusion_matrix(y_test, y_pred), \n",
    "             columns=[\"Predicted False\", \"Predicted Neutral\",\"Predicted True\"], \n",
    "             index=[\"Actual False\",\"Actual Neutral\", \"Actual True\"])\n",
    "    df_matrix.style.background_gradient(cmap='Blues')\n",
    "    display(df_matrix)"
   ]
  },
  {
   "cell_type": "markdown",
   "id": "9306b3bc",
   "metadata": {},
   "source": [
    "### Building Pipelines"
   ]
  },
  {
   "cell_type": "code",
   "execution_count": 88,
   "id": "fa2c901f",
   "metadata": {},
   "outputs": [],
   "source": [
    "tfidfVec = TfidfVectorizer(stop_words=None, ngram_range=(1, 3))"
   ]
  },
  {
   "cell_type": "code",
   "execution_count": 89,
   "id": "7ed8b0c5",
   "metadata": {},
   "outputs": [],
   "source": [
    "logRegress_pipeline = Pipeline([\n",
    "    ('vec', tfidfVec),\n",
    "    ('clf', LogisticRegression(solver='liblinear'))\n",
    "])"
   ]
  },
  {
   "cell_type": "code",
   "execution_count": 90,
   "id": "0b2c3666",
   "metadata": {},
   "outputs": [],
   "source": [
    "multiNB_pipeline = Pipeline([\n",
    "    ('vec',tfidfVec),\n",
    "    ('clf',naive_bayes.MultinomialNB())\n",
    "])"
   ]
  },
  {
   "cell_type": "code",
   "execution_count": 91,
   "id": "0932404b",
   "metadata": {},
   "outputs": [],
   "source": [
    "svc_pipeline = Pipeline([\n",
    "    ('vec',tfidfVec),\n",
    "    ('clf',LinearSVC())\n",
    "])"
   ]
  },
  {
   "cell_type": "markdown",
   "id": "c7b65791",
   "metadata": {},
   "source": [
    "## Preparing for Testing Model\n",
    "This will print out a nice looking output when testing a model"
   ]
  },
  {
   "cell_type": "code",
   "execution_count": 92,
   "id": "68b41caf",
   "metadata": {},
   "outputs": [],
   "source": [
    "class color:\n",
    "   CYAN = '\\033[96m'\n",
    "   BLUE = '\\033[94m'\n",
    "   GREEN = '\\033[92m'\n",
    "   YELLOW = '\\033[93m'\n",
    "   RED = '\\033[91m'\n",
    "   BOLD = '\\033[1m'\n",
    "   UNDERLINE = '\\033[4m'\n",
    "   END = '\\033[0m'\n",
    "    \n",
    "    \n",
    "def print_results(res,reviews):\n",
    "    for index, rating in enumerate(res):\n",
    "        if rating == 0:\n",
    "            print(f\"🧠 Predicts:{color.BOLD} {color.RED} 😡 Negative Review {color.END}\")\n",
    "        elif rating == 1:\n",
    "            print(f\"🧠 Predicts:{color.BOLD} {color.YELLOW} 😐 Neutral Review {color.END}\")\n",
    "        elif rating == 2:\n",
    "            print(f\"🧠 Predicts:{color.BOLD} {color.GREEN} 🙂 Positive Review {color.END}\")\n",
    "        else:\n",
    "            print(f\"🧠 Predicts:{color.BOLD} {color.CYAN} 💣 UNKNOWN RESULT {color.END}\")\n",
    "        print(f\"\\t💬 \\\"{reviews[index]}\\\"\\n\")\n",
    "        \n",
    "        \n",
    "new_test_data = [\n",
    "    \"This was the worst place I've ever eaten at. The staff was rude and did not take my order until after i pulled out my wallet.\",\n",
    "    \"The food was alright, nothing special about this place. I would recommend going elsewhere.\",\n",
    "    \"I had a pleasent time with kimberly at the granny shack. The food was amazing and very family friendly.\",\n",
    "]"
   ]
  },
  {
   "cell_type": "markdown",
   "id": "32451232",
   "metadata": {},
   "source": [
    "## Model Training\n",
    "The following segments are broken up as follow:\n",
    "* Logistic Regression\n",
    "* Multinomial Naive Bayes\n",
    "* Linear SVC\n",
    "* ~~~Random Forest Classifier~~~ ⚠️ Removed to it being too costly\n",
    "\n",
    "Each of these will undergo stratified cross validation to get an average accuracy score and then train one model for testing.\n",
    "### Logistic Regression"
   ]
  },
  {
   "cell_type": "code",
   "execution_count": 93,
   "id": "a46c36fb",
   "metadata": {
    "scrolled": false
   },
   "outputs": [
    {
     "name": "stdout",
     "output_type": "stream",
     "text": [
      "              precision    recall  f1-score   support\n",
      "\n",
      "           0       0.84      0.86      0.85     22892\n",
      "           1       0.57      0.28      0.38     10691\n",
      "           2       0.90      0.96      0.93     66407\n",
      "\n",
      "    accuracy                           0.87     99990\n",
      "   macro avg       0.77      0.70      0.72     99990\n",
      "weighted avg       0.85      0.87      0.85     99990\n",
      "\n",
      "--------------------------------------------------\n",
      "              precision    recall  f1-score   support\n",
      "\n",
      "           0       0.84      0.86      0.85     22893\n",
      "           1       0.56      0.28      0.37     10690\n",
      "           2       0.90      0.96      0.93     66406\n",
      "\n",
      "    accuracy                           0.87     99989\n",
      "   macro avg       0.77      0.70      0.72     99989\n",
      "weighted avg       0.85      0.87      0.85     99989\n",
      "\n",
      "--------------------------------------------------\n",
      "              precision    recall  f1-score   support\n",
      "\n",
      "           0       0.84      0.85      0.84     22893\n",
      "           1       0.56      0.27      0.37     10690\n",
      "           2       0.90      0.96      0.93     66406\n",
      "\n",
      "    accuracy                           0.86     99989\n",
      "   macro avg       0.76      0.70      0.71     99989\n",
      "weighted avg       0.85      0.86      0.85     99989\n",
      "\n",
      "--------------------------------------------------\n",
      "              precision    recall  f1-score   support\n",
      "\n",
      "           0       0.83      0.85      0.84     22892\n",
      "           1       0.56      0.28      0.37     10691\n",
      "           2       0.90      0.96      0.93     66406\n",
      "\n",
      "    accuracy                           0.86     99989\n",
      "   macro avg       0.76      0.70      0.72     99989\n",
      "weighted avg       0.85      0.86      0.85     99989\n",
      "\n",
      "--------------------------------------------------\n",
      "              precision    recall  f1-score   support\n",
      "\n",
      "           0       0.84      0.86      0.85     22892\n",
      "           1       0.57      0.28      0.37     10691\n",
      "           2       0.90      0.96      0.93     66406\n",
      "\n",
      "    accuracy                           0.87     99989\n",
      "   macro avg       0.77      0.70      0.72     99989\n",
      "weighted avg       0.85      0.87      0.85     99989\n",
      "\n",
      "--------------------------------------------------\n",
      "accuracy: 86.51% (+/- 0.07%)\n",
      "precision: 76.54% (+/- 0.17%)\n",
      "recall: 69.85% (+/- 0.16%)\n",
      "f1 score: 71.54% (+/- 0.16%)\n",
      "Wall time: 47min 17s\n"
     ]
    }
   ],
   "source": [
    "%%time\n",
    "strat_cross_val(5, X, y, logRegress_pipeline, 'macro')"
   ]
  },
  {
   "cell_type": "code",
   "execution_count": 94,
   "id": "070f8f66",
   "metadata": {},
   "outputs": [
    {
     "name": "stdout",
     "output_type": "stream",
     "text": [
      "Wall time: 6min 26s\n"
     ]
    },
    {
     "data": {
      "text/plain": [
       "Pipeline(steps=[('vec', TfidfVectorizer(ngram_range=(1, 3))),\n",
       "                ('clf', LogisticRegression(solver='liblinear'))])"
      ]
     },
     "execution_count": 94,
     "metadata": {},
     "output_type": "execute_result"
    }
   ],
   "source": [
    "%%time\n",
    "logRegress_pipeline.fit(X_train,y_train)"
   ]
  },
  {
   "cell_type": "code",
   "execution_count": 95,
   "id": "1ec3bf16",
   "metadata": {},
   "outputs": [
    {
     "name": "stdout",
     "output_type": "stream",
     "text": [
      "Wall time: 37.4 s\n"
     ]
    }
   ],
   "source": [
    "%%time\n",
    "y_pred_logRegress = logRegress_pipeline.predict(X_test)"
   ]
  },
  {
   "cell_type": "code",
   "execution_count": 96,
   "id": "769d2e40",
   "metadata": {},
   "outputs": [
    {
     "name": "stdout",
     "output_type": "stream",
     "text": [
      "              precision    recall  f1-score   support\n",
      "\n",
      "           0       0.84      0.85      0.84     34336\n",
      "           1       0.57      0.27      0.37     16318\n",
      "           2       0.89      0.96      0.93     99330\n",
      "\n",
      "    accuracy                           0.86    149984\n",
      "   macro avg       0.77      0.70      0.71    149984\n",
      "weighted avg       0.84      0.86      0.85    149984\n",
      "\n"
     ]
    },
    {
     "data": {
      "text/html": [
       "<div>\n",
       "<style scoped>\n",
       "    .dataframe tbody tr th:only-of-type {\n",
       "        vertical-align: middle;\n",
       "    }\n",
       "\n",
       "    .dataframe tbody tr th {\n",
       "        vertical-align: top;\n",
       "    }\n",
       "\n",
       "    .dataframe thead th {\n",
       "        text-align: right;\n",
       "    }\n",
       "</style>\n",
       "<table border=\"1\" class=\"dataframe\">\n",
       "  <thead>\n",
       "    <tr style=\"text-align: right;\">\n",
       "      <th></th>\n",
       "      <th>Predicted False</th>\n",
       "      <th>Predicted Neutral</th>\n",
       "      <th>Predicted True</th>\n",
       "    </tr>\n",
       "  </thead>\n",
       "  <tbody>\n",
       "    <tr>\n",
       "      <th>Actual False</th>\n",
       "      <td>29160</td>\n",
       "      <td>1744</td>\n",
       "      <td>3432</td>\n",
       "    </tr>\n",
       "    <tr>\n",
       "      <th>Actual Neutral</th>\n",
       "      <td>3814</td>\n",
       "      <td>4479</td>\n",
       "      <td>8025</td>\n",
       "    </tr>\n",
       "    <tr>\n",
       "      <th>Actual True</th>\n",
       "      <td>1891</td>\n",
       "      <td>1680</td>\n",
       "      <td>95759</td>\n",
       "    </tr>\n",
       "  </tbody>\n",
       "</table>\n",
       "</div>"
      ],
      "text/plain": [
       "                Predicted False  Predicted Neutral  Predicted True\n",
       "Actual False              29160               1744            3432\n",
       "Actual Neutral             3814               4479            8025\n",
       "Actual True                1891               1680           95759"
      ]
     },
     "metadata": {},
     "output_type": "display_data"
    }
   ],
   "source": [
    "print(classification_report(y_test,y_pred_logRegress))\n",
    "display_confusion_matrix(y_test,y_pred_logRegress)"
   ]
  },
  {
   "cell_type": "code",
   "execution_count": 97,
   "id": "b5f1f986",
   "metadata": {},
   "outputs": [
    {
     "name": "stdout",
     "output_type": "stream",
     "text": [
      "🧠 Predicts:\u001b[1m \u001b[91m 😡 Negative Review \u001b[0m\n",
      "\t💬 \"This was the worst place I've ever eaten at. The staff was rude and did not take my order until after i pulled out my wallet.\"\n",
      "\n",
      "🧠 Predicts:\u001b[1m \u001b[91m 😡 Negative Review \u001b[0m\n",
      "\t💬 \"The food was alright, nothing special about this place. I would recommend going elsewhere.\"\n",
      "\n",
      "🧠 Predicts:\u001b[1m \u001b[92m 🙂 Positive Review \u001b[0m\n",
      "\t💬 \"I had a pleasent time with kimberly at the granny shack. The food was amazing and very family friendly.\"\n",
      "\n"
     ]
    }
   ],
   "source": [
    "print_results(logRegress_pipeline.predict(new_test_data), new_test_data)"
   ]
  },
  {
   "cell_type": "code",
   "execution_count": 98,
   "id": "11b0b610",
   "metadata": {},
   "outputs": [],
   "source": [
    "file_name_logReg = \"./models/logReg_model.sav\"\n",
    "pickle.dump(logRegress_pipeline,open(file_name_logReg,'wb'))"
   ]
  },
  {
   "cell_type": "markdown",
   "id": "18625f50",
   "metadata": {},
   "source": [
    "📝 Author's Notes:\n",
    "\n",
    "This model had decent performance training and produced good results. "
   ]
  },
  {
   "cell_type": "markdown",
   "id": "9d163b5a",
   "metadata": {},
   "source": [
    "### MultinomialNB"
   ]
  },
  {
   "cell_type": "code",
   "execution_count": 99,
   "id": "a3a18f17",
   "metadata": {
    "scrolled": false
   },
   "outputs": [
    {
     "name": "stderr",
     "output_type": "stream",
     "text": [
      "C:\\Users\\RSanchez\\Anaconda3\\lib\\site-packages\\sklearn\\metrics\\_classification.py:1245: UndefinedMetricWarning: Precision is ill-defined and being set to 0.0 in labels with no predicted samples. Use `zero_division` parameter to control this behavior.\n",
      "  _warn_prf(average, modifier, msg_start, len(result))\n",
      "C:\\Users\\RSanchez\\Anaconda3\\lib\\site-packages\\sklearn\\metrics\\_classification.py:1245: UndefinedMetricWarning: Precision and F-score are ill-defined and being set to 0.0 in labels with no predicted samples. Use `zero_division` parameter to control this behavior.\n",
      "  _warn_prf(average, modifier, msg_start, len(result))\n",
      "C:\\Users\\RSanchez\\Anaconda3\\lib\\site-packages\\sklearn\\metrics\\_classification.py:1245: UndefinedMetricWarning: Precision and F-score are ill-defined and being set to 0.0 in labels with no predicted samples. Use `zero_division` parameter to control this behavior.\n",
      "  _warn_prf(average, modifier, msg_start, len(result))\n",
      "C:\\Users\\RSanchez\\Anaconda3\\lib\\site-packages\\sklearn\\metrics\\_classification.py:1245: UndefinedMetricWarning: Precision and F-score are ill-defined and being set to 0.0 in labels with no predicted samples. Use `zero_division` parameter to control this behavior.\n",
      "  _warn_prf(average, modifier, msg_start, len(result))\n"
     ]
    },
    {
     "name": "stdout",
     "output_type": "stream",
     "text": [
      "              precision    recall  f1-score   support\n",
      "\n",
      "           0       0.99      0.08      0.14     22892\n",
      "           1       0.00      0.00      0.00     10691\n",
      "           2       0.68      1.00      0.81     66407\n",
      "\n",
      "    accuracy                           0.68     99990\n",
      "   macro avg       0.55      0.36      0.32     99990\n",
      "weighted avg       0.68      0.68      0.57     99990\n",
      "\n",
      "--------------------------------------------------\n"
     ]
    },
    {
     "name": "stderr",
     "output_type": "stream",
     "text": [
      "C:\\Users\\RSanchez\\Anaconda3\\lib\\site-packages\\sklearn\\metrics\\_classification.py:1245: UndefinedMetricWarning: Precision is ill-defined and being set to 0.0 in labels with no predicted samples. Use `zero_division` parameter to control this behavior.\n",
      "  _warn_prf(average, modifier, msg_start, len(result))\n",
      "C:\\Users\\RSanchez\\Anaconda3\\lib\\site-packages\\sklearn\\metrics\\_classification.py:1245: UndefinedMetricWarning: Precision and F-score are ill-defined and being set to 0.0 in labels with no predicted samples. Use `zero_division` parameter to control this behavior.\n",
      "  _warn_prf(average, modifier, msg_start, len(result))\n",
      "C:\\Users\\RSanchez\\Anaconda3\\lib\\site-packages\\sklearn\\metrics\\_classification.py:1245: UndefinedMetricWarning: Precision and F-score are ill-defined and being set to 0.0 in labels with no predicted samples. Use `zero_division` parameter to control this behavior.\n",
      "  _warn_prf(average, modifier, msg_start, len(result))\n",
      "C:\\Users\\RSanchez\\Anaconda3\\lib\\site-packages\\sklearn\\metrics\\_classification.py:1245: UndefinedMetricWarning: Precision and F-score are ill-defined and being set to 0.0 in labels with no predicted samples. Use `zero_division` parameter to control this behavior.\n",
      "  _warn_prf(average, modifier, msg_start, len(result))\n"
     ]
    },
    {
     "name": "stdout",
     "output_type": "stream",
     "text": [
      "              precision    recall  f1-score   support\n",
      "\n",
      "           0       0.99      0.08      0.15     22893\n",
      "           1       0.00      0.00      0.00     10690\n",
      "           2       0.68      1.00      0.81     66406\n",
      "\n",
      "    accuracy                           0.68     99989\n",
      "   macro avg       0.56      0.36      0.32     99989\n",
      "weighted avg       0.68      0.68      0.57     99989\n",
      "\n",
      "--------------------------------------------------\n"
     ]
    },
    {
     "name": "stderr",
     "output_type": "stream",
     "text": [
      "C:\\Users\\RSanchez\\Anaconda3\\lib\\site-packages\\sklearn\\metrics\\_classification.py:1245: UndefinedMetricWarning: Precision is ill-defined and being set to 0.0 in labels with no predicted samples. Use `zero_division` parameter to control this behavior.\n",
      "  _warn_prf(average, modifier, msg_start, len(result))\n",
      "C:\\Users\\RSanchez\\Anaconda3\\lib\\site-packages\\sklearn\\metrics\\_classification.py:1245: UndefinedMetricWarning: Precision and F-score are ill-defined and being set to 0.0 in labels with no predicted samples. Use `zero_division` parameter to control this behavior.\n",
      "  _warn_prf(average, modifier, msg_start, len(result))\n",
      "C:\\Users\\RSanchez\\Anaconda3\\lib\\site-packages\\sklearn\\metrics\\_classification.py:1245: UndefinedMetricWarning: Precision and F-score are ill-defined and being set to 0.0 in labels with no predicted samples. Use `zero_division` parameter to control this behavior.\n",
      "  _warn_prf(average, modifier, msg_start, len(result))\n",
      "C:\\Users\\RSanchez\\Anaconda3\\lib\\site-packages\\sklearn\\metrics\\_classification.py:1245: UndefinedMetricWarning: Precision and F-score are ill-defined and being set to 0.0 in labels with no predicted samples. Use `zero_division` parameter to control this behavior.\n",
      "  _warn_prf(average, modifier, msg_start, len(result))\n"
     ]
    },
    {
     "name": "stdout",
     "output_type": "stream",
     "text": [
      "              precision    recall  f1-score   support\n",
      "\n",
      "           0       0.99      0.08      0.14     22893\n",
      "           1       0.00      0.00      0.00     10690\n",
      "           2       0.68      1.00      0.81     66406\n",
      "\n",
      "    accuracy                           0.68     99989\n",
      "   macro avg       0.56      0.36      0.32     99989\n",
      "weighted avg       0.68      0.68      0.57     99989\n",
      "\n",
      "--------------------------------------------------\n"
     ]
    },
    {
     "name": "stderr",
     "output_type": "stream",
     "text": [
      "C:\\Users\\RSanchez\\Anaconda3\\lib\\site-packages\\sklearn\\metrics\\_classification.py:1245: UndefinedMetricWarning: Precision is ill-defined and being set to 0.0 in labels with no predicted samples. Use `zero_division` parameter to control this behavior.\n",
      "  _warn_prf(average, modifier, msg_start, len(result))\n",
      "C:\\Users\\RSanchez\\Anaconda3\\lib\\site-packages\\sklearn\\metrics\\_classification.py:1245: UndefinedMetricWarning: Precision and F-score are ill-defined and being set to 0.0 in labels with no predicted samples. Use `zero_division` parameter to control this behavior.\n",
      "  _warn_prf(average, modifier, msg_start, len(result))\n",
      "C:\\Users\\RSanchez\\Anaconda3\\lib\\site-packages\\sklearn\\metrics\\_classification.py:1245: UndefinedMetricWarning: Precision and F-score are ill-defined and being set to 0.0 in labels with no predicted samples. Use `zero_division` parameter to control this behavior.\n",
      "  _warn_prf(average, modifier, msg_start, len(result))\n",
      "C:\\Users\\RSanchez\\Anaconda3\\lib\\site-packages\\sklearn\\metrics\\_classification.py:1245: UndefinedMetricWarning: Precision and F-score are ill-defined and being set to 0.0 in labels with no predicted samples. Use `zero_division` parameter to control this behavior.\n",
      "  _warn_prf(average, modifier, msg_start, len(result))\n"
     ]
    },
    {
     "name": "stdout",
     "output_type": "stream",
     "text": [
      "              precision    recall  f1-score   support\n",
      "\n",
      "           0       0.99      0.08      0.15     22892\n",
      "           1       0.00      0.00      0.00     10691\n",
      "           2       0.68      1.00      0.81     66406\n",
      "\n",
      "    accuracy                           0.68     99989\n",
      "   macro avg       0.56      0.36      0.32     99989\n",
      "weighted avg       0.68      0.68      0.57     99989\n",
      "\n",
      "--------------------------------------------------\n",
      "              precision    recall  f1-score   support\n",
      "\n",
      "           0       0.99      0.08      0.14     22892\n",
      "           1       0.00      0.00      0.00     10691\n",
      "           2       0.68      1.00      0.81     66406\n",
      "\n",
      "    accuracy                           0.68     99989\n",
      "   macro avg       0.55      0.36      0.32     99989\n",
      "weighted avg       0.68      0.68      0.57     99989\n",
      "\n",
      "--------------------------------------------------\n",
      "accuracy: 68.20% (+/- 0.04%)\n",
      "precision: 55.54% (+/- 0.08%)\n",
      "recall: 35.93% (+/- 0.05%)\n",
      "f1 score: 31.72% (+/- 0.10%)\n",
      "Wall time: 22min 10s\n"
     ]
    },
    {
     "name": "stderr",
     "output_type": "stream",
     "text": [
      "C:\\Users\\RSanchez\\Anaconda3\\lib\\site-packages\\sklearn\\metrics\\_classification.py:1245: UndefinedMetricWarning: Precision is ill-defined and being set to 0.0 in labels with no predicted samples. Use `zero_division` parameter to control this behavior.\n",
      "  _warn_prf(average, modifier, msg_start, len(result))\n",
      "C:\\Users\\RSanchez\\Anaconda3\\lib\\site-packages\\sklearn\\metrics\\_classification.py:1245: UndefinedMetricWarning: Precision and F-score are ill-defined and being set to 0.0 in labels with no predicted samples. Use `zero_division` parameter to control this behavior.\n",
      "  _warn_prf(average, modifier, msg_start, len(result))\n",
      "C:\\Users\\RSanchez\\Anaconda3\\lib\\site-packages\\sklearn\\metrics\\_classification.py:1245: UndefinedMetricWarning: Precision and F-score are ill-defined and being set to 0.0 in labels with no predicted samples. Use `zero_division` parameter to control this behavior.\n",
      "  _warn_prf(average, modifier, msg_start, len(result))\n",
      "C:\\Users\\RSanchez\\Anaconda3\\lib\\site-packages\\sklearn\\metrics\\_classification.py:1245: UndefinedMetricWarning: Precision and F-score are ill-defined and being set to 0.0 in labels with no predicted samples. Use `zero_division` parameter to control this behavior.\n",
      "  _warn_prf(average, modifier, msg_start, len(result))\n"
     ]
    }
   ],
   "source": [
    "%%time\n",
    "strat_cross_val(5, X, y, multiNB_pipeline, 'macro')"
   ]
  },
  {
   "cell_type": "code",
   "execution_count": 100,
   "id": "ec49f612",
   "metadata": {},
   "outputs": [
    {
     "name": "stdout",
     "output_type": "stream",
     "text": [
      "Wall time: 2min 58s\n"
     ]
    },
    {
     "data": {
      "text/plain": [
       "Pipeline(steps=[('vec', TfidfVectorizer(ngram_range=(1, 3))),\n",
       "                ('clf', MultinomialNB())])"
      ]
     },
     "execution_count": 100,
     "metadata": {},
     "output_type": "execute_result"
    }
   ],
   "source": [
    "%%time\n",
    "multiNB_pipeline.fit(X_train,y_train)"
   ]
  },
  {
   "cell_type": "code",
   "execution_count": 111,
   "id": "e9a08aff",
   "metadata": {},
   "outputs": [
    {
     "name": "stdout",
     "output_type": "stream",
     "text": [
      "Wall time: 45.7 s\n"
     ]
    }
   ],
   "source": [
    "%%time\n",
    "y_pred_multiNB = multiNB_pipeline.predict(X_test)"
   ]
  },
  {
   "cell_type": "code",
   "execution_count": 102,
   "id": "b573756d",
   "metadata": {},
   "outputs": [
    {
     "name": "stderr",
     "output_type": "stream",
     "text": [
      "C:\\Users\\RSanchez\\Anaconda3\\lib\\site-packages\\sklearn\\metrics\\_classification.py:1245: UndefinedMetricWarning: Precision and F-score are ill-defined and being set to 0.0 in labels with no predicted samples. Use `zero_division` parameter to control this behavior.\n",
      "  _warn_prf(average, modifier, msg_start, len(result))\n",
      "C:\\Users\\RSanchez\\Anaconda3\\lib\\site-packages\\sklearn\\metrics\\_classification.py:1245: UndefinedMetricWarning: Precision and F-score are ill-defined and being set to 0.0 in labels with no predicted samples. Use `zero_division` parameter to control this behavior.\n",
      "  _warn_prf(average, modifier, msg_start, len(result))\n",
      "C:\\Users\\RSanchez\\Anaconda3\\lib\\site-packages\\sklearn\\metrics\\_classification.py:1245: UndefinedMetricWarning: Precision and F-score are ill-defined and being set to 0.0 in labels with no predicted samples. Use `zero_division` parameter to control this behavior.\n",
      "  _warn_prf(average, modifier, msg_start, len(result))\n"
     ]
    },
    {
     "name": "stdout",
     "output_type": "stream",
     "text": [
      "              precision    recall  f1-score   support\n",
      "\n",
      "           0       0.99      0.07      0.13     34336\n",
      "           1       0.00      0.00      0.00     16318\n",
      "           2       0.67      1.00      0.80     99330\n",
      "\n",
      "    accuracy                           0.68    149984\n",
      "   macro avg       0.55      0.36      0.31    149984\n",
      "weighted avg       0.67      0.68      0.56    149984\n",
      "\n"
     ]
    },
    {
     "data": {
      "text/html": [
       "<div>\n",
       "<style scoped>\n",
       "    .dataframe tbody tr th:only-of-type {\n",
       "        vertical-align: middle;\n",
       "    }\n",
       "\n",
       "    .dataframe tbody tr th {\n",
       "        vertical-align: top;\n",
       "    }\n",
       "\n",
       "    .dataframe thead th {\n",
       "        text-align: right;\n",
       "    }\n",
       "</style>\n",
       "<table border=\"1\" class=\"dataframe\">\n",
       "  <thead>\n",
       "    <tr style=\"text-align: right;\">\n",
       "      <th></th>\n",
       "      <th>Predicted False</th>\n",
       "      <th>Predicted Neutral</th>\n",
       "      <th>Predicted True</th>\n",
       "    </tr>\n",
       "  </thead>\n",
       "  <tbody>\n",
       "    <tr>\n",
       "      <th>Actual False</th>\n",
       "      <td>2388</td>\n",
       "      <td>0</td>\n",
       "      <td>31948</td>\n",
       "    </tr>\n",
       "    <tr>\n",
       "      <th>Actual Neutral</th>\n",
       "      <td>18</td>\n",
       "      <td>0</td>\n",
       "      <td>16300</td>\n",
       "    </tr>\n",
       "    <tr>\n",
       "      <th>Actual True</th>\n",
       "      <td>3</td>\n",
       "      <td>0</td>\n",
       "      <td>99327</td>\n",
       "    </tr>\n",
       "  </tbody>\n",
       "</table>\n",
       "</div>"
      ],
      "text/plain": [
       "                Predicted False  Predicted Neutral  Predicted True\n",
       "Actual False               2388                  0           31948\n",
       "Actual Neutral               18                  0           16300\n",
       "Actual True                   3                  0           99327"
      ]
     },
     "metadata": {},
     "output_type": "display_data"
    }
   ],
   "source": [
    "print(classification_report(y_test,y_pred_multiNB))\n",
    "display_confusion_matrix(y_test,y_pred_multiNB)"
   ]
  },
  {
   "cell_type": "code",
   "execution_count": 103,
   "id": "e5e81f00",
   "metadata": {},
   "outputs": [
    {
     "name": "stdout",
     "output_type": "stream",
     "text": [
      "🧠 Predicts:\u001b[1m \u001b[92m 🙂 Positive Review \u001b[0m\n",
      "\t💬 \"This was the worst place I've ever eaten at. The staff was rude and did not take my order until after i pulled out my wallet.\"\n",
      "\n",
      "🧠 Predicts:\u001b[1m \u001b[92m 🙂 Positive Review \u001b[0m\n",
      "\t💬 \"The food was alright, nothing special about this place. I would recommend going elsewhere.\"\n",
      "\n",
      "🧠 Predicts:\u001b[1m \u001b[92m 🙂 Positive Review \u001b[0m\n",
      "\t💬 \"I had a pleasent time with kimberly at the granny shack. The food was amazing and very family friendly.\"\n",
      "\n"
     ]
    }
   ],
   "source": [
    "print_results(multiNB_pipeline.predict(new_test_data), new_test_data)"
   ]
  },
  {
   "cell_type": "code",
   "execution_count": 104,
   "id": "d97688ed",
   "metadata": {},
   "outputs": [],
   "source": [
    "file_name_multiNB = \"./models/multiNB_model.sav\"\n",
    "pickle.dump(multiNB_pipeline,open(file_name_multiNB,'wb'))"
   ]
  },
  {
   "cell_type": "markdown",
   "id": "45c39c0b",
   "metadata": {},
   "source": [
    "📝 Author's Notes:\n",
    "\n",
    "⚠️ For some reason this model went from good to terrible. Did changing the text_clean up program and increasing the number of testing data cause this?"
   ]
  },
  {
   "cell_type": "markdown",
   "id": "897abe38",
   "metadata": {},
   "source": [
    "### Linear SVC"
   ]
  },
  {
   "cell_type": "code",
   "execution_count": 105,
   "id": "7079cdbc",
   "metadata": {},
   "outputs": [
    {
     "name": "stdout",
     "output_type": "stream",
     "text": [
      "              precision    recall  f1-score   support\n",
      "\n",
      "           0       0.84      0.88      0.86     22892\n",
      "           1       0.58      0.31      0.40     10691\n",
      "           2       0.91      0.96      0.94     66407\n",
      "\n",
      "    accuracy                           0.87     99990\n",
      "   macro avg       0.78      0.72      0.73     99990\n",
      "weighted avg       0.86      0.87      0.86     99990\n",
      "\n",
      "--------------------------------------------------\n",
      "              precision    recall  f1-score   support\n",
      "\n",
      "           0       0.84      0.88      0.86     22893\n",
      "           1       0.58      0.30      0.40     10690\n",
      "           2       0.91      0.96      0.94     66406\n",
      "\n",
      "    accuracy                           0.88     99989\n",
      "   macro avg       0.78      0.72      0.73     99989\n",
      "weighted avg       0.86      0.88      0.86     99989\n",
      "\n",
      "--------------------------------------------------\n",
      "              precision    recall  f1-score   support\n",
      "\n",
      "           0       0.84      0.88      0.86     22893\n",
      "           1       0.58      0.31      0.40     10690\n",
      "           2       0.91      0.96      0.94     66406\n",
      "\n",
      "    accuracy                           0.88     99989\n",
      "   macro avg       0.78      0.72      0.73     99989\n",
      "weighted avg       0.86      0.88      0.86     99989\n",
      "\n",
      "--------------------------------------------------\n",
      "              precision    recall  f1-score   support\n",
      "\n",
      "           0       0.84      0.88      0.86     22892\n",
      "           1       0.57      0.30      0.39     10691\n",
      "           2       0.91      0.96      0.94     66406\n",
      "\n",
      "    accuracy                           0.87     99989\n",
      "   macro avg       0.77      0.72      0.73     99989\n",
      "weighted avg       0.86      0.87      0.86     99989\n",
      "\n",
      "--------------------------------------------------\n",
      "              precision    recall  f1-score   support\n",
      "\n",
      "           0       0.84      0.88      0.86     22892\n",
      "           1       0.58      0.31      0.40     10691\n",
      "           2       0.91      0.96      0.94     66406\n",
      "\n",
      "    accuracy                           0.88     99989\n",
      "   macro avg       0.78      0.72      0.73     99989\n",
      "weighted avg       0.86      0.88      0.86     99989\n",
      "\n",
      "--------------------------------------------------\n",
      "accuracy: 87.52% (+/- 0.03%)\n",
      "precision: 77.61% (+/- 0.14%)\n",
      "recall: 71.73% (+/- 0.11%)\n",
      "f1 score: 73.22% (+/- 0.13%)\n",
      "Wall time: 25min 55s\n"
     ]
    }
   ],
   "source": [
    "%%time\n",
    "strat_cross_val(5, X, y, svc_pipeline, 'macro')"
   ]
  },
  {
   "cell_type": "code",
   "execution_count": 106,
   "id": "2b15db64",
   "metadata": {},
   "outputs": [
    {
     "name": "stdout",
     "output_type": "stream",
     "text": [
      "Wall time: 3min 43s\n"
     ]
    },
    {
     "data": {
      "text/plain": [
       "Pipeline(steps=[('vec', TfidfVectorizer(ngram_range=(1, 3))),\n",
       "                ('clf', LinearSVC())])"
      ]
     },
     "execution_count": 106,
     "metadata": {},
     "output_type": "execute_result"
    }
   ],
   "source": [
    "%%time\n",
    "svc_pipeline.fit(X_train,y_train)"
   ]
  },
  {
   "cell_type": "code",
   "execution_count": 114,
   "id": "0a2d5c59",
   "metadata": {},
   "outputs": [
    {
     "name": "stdout",
     "output_type": "stream",
     "text": [
      "Wall time: 34 s\n"
     ]
    }
   ],
   "source": [
    "%%time\n",
    "y_pred_svc = svc_pipeline.predict(X_test)"
   ]
  },
  {
   "cell_type": "code",
   "execution_count": 115,
   "id": "545598c1",
   "metadata": {},
   "outputs": [
    {
     "name": "stdout",
     "output_type": "stream",
     "text": [
      "              precision    recall  f1-score   support\n",
      "\n",
      "           0       0.84      0.88      0.86     34336\n",
      "           1       0.58      0.30      0.39     16318\n",
      "           2       0.91      0.97      0.94     99330\n",
      "\n",
      "    accuracy                           0.87    149984\n",
      "   macro avg       0.77      0.71      0.73    149984\n",
      "weighted avg       0.86      0.87      0.86    149984\n",
      "\n"
     ]
    },
    {
     "data": {
      "text/html": [
       "<div>\n",
       "<style scoped>\n",
       "    .dataframe tbody tr th:only-of-type {\n",
       "        vertical-align: middle;\n",
       "    }\n",
       "\n",
       "    .dataframe tbody tr th {\n",
       "        vertical-align: top;\n",
       "    }\n",
       "\n",
       "    .dataframe thead th {\n",
       "        text-align: right;\n",
       "    }\n",
       "</style>\n",
       "<table border=\"1\" class=\"dataframe\">\n",
       "  <thead>\n",
       "    <tr style=\"text-align: right;\">\n",
       "      <th></th>\n",
       "      <th>Predicted False</th>\n",
       "      <th>Predicted Neutral</th>\n",
       "      <th>Predicted True</th>\n",
       "    </tr>\n",
       "  </thead>\n",
       "  <tbody>\n",
       "    <tr>\n",
       "      <th>Actual False</th>\n",
       "      <td>30114</td>\n",
       "      <td>1796</td>\n",
       "      <td>2426</td>\n",
       "    </tr>\n",
       "    <tr>\n",
       "      <th>Actual Neutral</th>\n",
       "      <td>4138</td>\n",
       "      <td>4881</td>\n",
       "      <td>7299</td>\n",
       "    </tr>\n",
       "    <tr>\n",
       "      <th>Actual True</th>\n",
       "      <td>1704</td>\n",
       "      <td>1759</td>\n",
       "      <td>95867</td>\n",
       "    </tr>\n",
       "  </tbody>\n",
       "</table>\n",
       "</div>"
      ],
      "text/plain": [
       "                Predicted False  Predicted Neutral  Predicted True\n",
       "Actual False              30114               1796            2426\n",
       "Actual Neutral             4138               4881            7299\n",
       "Actual True                1704               1759           95867"
      ]
     },
     "metadata": {},
     "output_type": "display_data"
    }
   ],
   "source": [
    "print(classification_report(y_test,y_pred_svc))\n",
    "display_confusion_matrix(y_test,y_pred_svc)"
   ]
  },
  {
   "cell_type": "code",
   "execution_count": 109,
   "id": "e5a29c7b",
   "metadata": {},
   "outputs": [
    {
     "name": "stdout",
     "output_type": "stream",
     "text": [
      "🧠 Predicts:\u001b[1m \u001b[91m 😡 Negative Review \u001b[0m\n",
      "\t💬 \"This was the worst place I've ever eaten at. The staff was rude and did not take my order until after i pulled out my wallet.\"\n",
      "\n",
      "🧠 Predicts:\u001b[1m \u001b[91m 😡 Negative Review \u001b[0m\n",
      "\t💬 \"The food was alright, nothing special about this place. I would recommend going elsewhere.\"\n",
      "\n",
      "🧠 Predicts:\u001b[1m \u001b[92m 🙂 Positive Review \u001b[0m\n",
      "\t💬 \"I had a pleasent time with kimberly at the granny shack. The food was amazing and very family friendly.\"\n",
      "\n"
     ]
    }
   ],
   "source": [
    "print_results(svc_pipeline.predict(new_test_data), new_test_data)"
   ]
  },
  {
   "cell_type": "code",
   "execution_count": 110,
   "id": "1803343e",
   "metadata": {},
   "outputs": [],
   "source": [
    "file_name_svm = \"./models/svc_model.sav\"\n",
    "pickle.dump(svc_pipeline,open(file_name_svm,'wb'))"
   ]
  },
  {
   "cell_type": "markdown",
   "id": "77d25ae6",
   "metadata": {},
   "source": [
    "📝 Author's Notes:\n",
    "\n",
    "This model replaced the SVM model due to it being costly. This model not only produced results faster than Linear Regression but by a slight improvement in accuracy."
   ]
  },
  {
   "cell_type": "code",
   "execution_count": null,
   "id": "734d4c0d",
   "metadata": {},
   "outputs": [],
   "source": []
  }
 ],
 "metadata": {
  "kernelspec": {
   "display_name": "Python 3",
   "language": "python",
   "name": "python3"
  },
  "language_info": {
   "codemirror_mode": {
    "name": "ipython",
    "version": 3
   },
   "file_extension": ".py",
   "mimetype": "text/x-python",
   "name": "python",
   "nbconvert_exporter": "python",
   "pygments_lexer": "ipython3",
   "version": "3.8.8"
  }
 },
 "nbformat": 4,
 "nbformat_minor": 5
}
