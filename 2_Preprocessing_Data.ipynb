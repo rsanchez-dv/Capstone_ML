{
 "cells": [
  {
   "cell_type": "markdown",
   "id": "4d6fb10a",
   "metadata": {},
   "source": [
    "# Preprocessing Data for Training"
   ]
  },
  {
   "cell_type": "code",
   "execution_count": null,
   "id": "c5e75e54",
   "metadata": {},
   "outputs": [],
   "source": []
  }
 ],
 "metadata": {
  "kernelspec": {
   "display_name": "Python 3",
   "language": "python",
   "name": "python3"
  },
  "language_info": {
   "codemirror_mode": {
    "name": "ipython",
    "version": 3
   },
   "file_extension": ".py",
   "mimetype": "text/x-python",
   "name": "python",
   "nbconvert_exporter": "python",
   "pygments_lexer": "ipython3",
   "version": "3.8.8"
  }
 },
 "nbformat": 4,
 "nbformat_minor": 5
}
