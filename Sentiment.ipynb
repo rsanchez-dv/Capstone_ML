{
 "cells": [
  {
   "cell_type": "code",
   "execution_count": 1,
   "id": "32f983c3",
   "metadata": {
    "scrolled": true
   },
   "outputs": [],
   "source": [
    "#!pip install rake-nltk\n",
    "#!pip install -U spacy\n",
    "#!python -m spacy download en_core_web_trf"
   ]
  },
  {
   "cell_type": "markdown",
   "id": "92ea99e9",
   "metadata": {},
   "source": [
    "## Importing Libraries"
   ]
  },
  {
   "cell_type": "code",
   "execution_count": 1,
   "id": "d69cc09e",
   "metadata": {},
   "outputs": [],
   "source": [
    "import os\n",
    "import spacy\n",
    "import pickle\n",
    "import keras\n",
    "\n",
    "import numpy as np\n",
    "import pandas as pd\n",
    "import tensorflow as tf\n",
    "\n",
    "\n",
    "from keras.layers import Embedding\n",
    "from keras.layers import Bidirectional,GlobalMaxPool1D,Conv1D\n",
    "from keras.layers import LSTM,Input,Dense,Dropout,Activation\n",
    "from keras.models import Model\n",
    "\n",
    "from keras.preprocessing.text import Tokenizer\n",
    "from keras.preprocessing.sequence import pad_sequences\n",
    "\n",
    "from sklearn.metrics import classification_report, confusion_matrix\n",
    "from sklearn.model_selection import train_test_split"
   ]
  },
  {
   "cell_type": "code",
   "execution_count": 2,
   "id": "e6c737a8",
   "metadata": {},
   "outputs": [],
   "source": [
    "os.environ[\"CUDA_VISIBLE_DEVICES\"] = '-1'\n",
    "os.environ['TF_FORCE_GPU_ALLOW_GROWTH'] = 'true'"
   ]
  },
  {
   "cell_type": "markdown",
   "id": "fa233708",
   "metadata": {},
   "source": [
    "## Reading in Data"
   ]
  },
  {
   "cell_type": "code",
   "execution_count": 3,
   "id": "eb801cb4",
   "metadata": {},
   "outputs": [
    {
     "data": {
      "text/html": [
       "<div>\n",
       "<style scoped>\n",
       "    .dataframe tbody tr th:only-of-type {\n",
       "        vertical-align: middle;\n",
       "    }\n",
       "\n",
       "    .dataframe tbody tr th {\n",
       "        vertical-align: top;\n",
       "    }\n",
       "\n",
       "    .dataframe thead th {\n",
       "        text-align: right;\n",
       "    }\n",
       "</style>\n",
       "<table border=\"1\" class=\"dataframe\">\n",
       "  <thead>\n",
       "    <tr style=\"text-align: right;\">\n",
       "      <th></th>\n",
       "      <th>business_id</th>\n",
       "      <th>business_stars</th>\n",
       "      <th>review_count</th>\n",
       "      <th>categories</th>\n",
       "      <th>user_id</th>\n",
       "      <th>text</th>\n",
       "      <th>review_stars</th>\n",
       "      <th>restaurants_table_service</th>\n",
       "      <th>wifi</th>\n",
       "      <th>bike_parking</th>\n",
       "      <th>...</th>\n",
       "      <th>alcohol</th>\n",
       "      <th>good_for_meal</th>\n",
       "      <th>dogs_allowed</th>\n",
       "      <th>restaurants_take_out</th>\n",
       "      <th>noise_level</th>\n",
       "      <th>restaurants_attire</th>\n",
       "      <th>restaurants_delivery</th>\n",
       "      <th>good_for_kids</th>\n",
       "      <th>good_for_dancing</th>\n",
       "      <th>music</th>\n",
       "    </tr>\n",
       "  </thead>\n",
       "  <tbody>\n",
       "    <tr>\n",
       "      <th>0</th>\n",
       "      <td>6iYb2HFDywm3zjuRg0shjw</td>\n",
       "      <td>4.0</td>\n",
       "      <td>86</td>\n",
       "      <td>Gastropubs, Food, Beer Gardens, Restaurants, B...</td>\n",
       "      <td>93z0yh-sUpGZS-cSKu6xxA</td>\n",
       "      <td>Stopped in on a busy Friday night. Despite the...</td>\n",
       "      <td>5</td>\n",
       "      <td>True</td>\n",
       "      <td>free</td>\n",
       "      <td>True</td>\n",
       "      <td>...</td>\n",
       "      <td>beer_and_wine</td>\n",
       "      <td>{'dessert': False, 'latenight': False, 'lunch'...</td>\n",
       "      <td>False</td>\n",
       "      <td>True</td>\n",
       "      <td>average</td>\n",
       "      <td>casual</td>\n",
       "      <td>None</td>\n",
       "      <td>None</td>\n",
       "      <td>None</td>\n",
       "      <td>True</td>\n",
       "    </tr>\n",
       "    <tr>\n",
       "      <th>1</th>\n",
       "      <td>6iYb2HFDywm3zjuRg0shjw</td>\n",
       "      <td>4.0</td>\n",
       "      <td>86</td>\n",
       "      <td>Gastropubs, Food, Beer Gardens, Restaurants, B...</td>\n",
       "      <td>Q_CZIvnsDHjpls-EPzzG7Q</td>\n",
       "      <td>Went there about 1 PM on a Monday.  It wasn't ...</td>\n",
       "      <td>2</td>\n",
       "      <td>True</td>\n",
       "      <td>free</td>\n",
       "      <td>True</td>\n",
       "      <td>...</td>\n",
       "      <td>beer_and_wine</td>\n",
       "      <td>{'dessert': False, 'latenight': False, 'lunch'...</td>\n",
       "      <td>False</td>\n",
       "      <td>True</td>\n",
       "      <td>average</td>\n",
       "      <td>casual</td>\n",
       "      <td>None</td>\n",
       "      <td>None</td>\n",
       "      <td>None</td>\n",
       "      <td>True</td>\n",
       "    </tr>\n",
       "    <tr>\n",
       "      <th>2</th>\n",
       "      <td>6iYb2HFDywm3zjuRg0shjw</td>\n",
       "      <td>4.0</td>\n",
       "      <td>86</td>\n",
       "      <td>Gastropubs, Food, Beer Gardens, Restaurants, B...</td>\n",
       "      <td>rqxTSFFj5fZNmabY1fmTlw</td>\n",
       "      <td>This was the place the be on Friday Night! If ...</td>\n",
       "      <td>5</td>\n",
       "      <td>True</td>\n",
       "      <td>free</td>\n",
       "      <td>True</td>\n",
       "      <td>...</td>\n",
       "      <td>beer_and_wine</td>\n",
       "      <td>{'dessert': False, 'latenight': False, 'lunch'...</td>\n",
       "      <td>False</td>\n",
       "      <td>True</td>\n",
       "      <td>average</td>\n",
       "      <td>casual</td>\n",
       "      <td>None</td>\n",
       "      <td>None</td>\n",
       "      <td>None</td>\n",
       "      <td>True</td>\n",
       "    </tr>\n",
       "    <tr>\n",
       "      <th>3</th>\n",
       "      <td>6iYb2HFDywm3zjuRg0shjw</td>\n",
       "      <td>4.0</td>\n",
       "      <td>86</td>\n",
       "      <td>Gastropubs, Food, Beer Gardens, Restaurants, B...</td>\n",
       "      <td>vNPxlt5f50q0e2nVAScW3Q</td>\n",
       "      <td>Went to this place with my family over the wee...</td>\n",
       "      <td>4</td>\n",
       "      <td>True</td>\n",
       "      <td>free</td>\n",
       "      <td>True</td>\n",
       "      <td>...</td>\n",
       "      <td>beer_and_wine</td>\n",
       "      <td>{'dessert': False, 'latenight': False, 'lunch'...</td>\n",
       "      <td>False</td>\n",
       "      <td>True</td>\n",
       "      <td>average</td>\n",
       "      <td>casual</td>\n",
       "      <td>None</td>\n",
       "      <td>None</td>\n",
       "      <td>None</td>\n",
       "      <td>True</td>\n",
       "    </tr>\n",
       "    <tr>\n",
       "      <th>4</th>\n",
       "      <td>6iYb2HFDywm3zjuRg0shjw</td>\n",
       "      <td>4.0</td>\n",
       "      <td>86</td>\n",
       "      <td>Gastropubs, Food, Beer Gardens, Restaurants, B...</td>\n",
       "      <td>eXRC79iX60xwA1UuGRuWNg</td>\n",
       "      <td>Stopped on a midweek afternoon, and so glad th...</td>\n",
       "      <td>4</td>\n",
       "      <td>True</td>\n",
       "      <td>free</td>\n",
       "      <td>True</td>\n",
       "      <td>...</td>\n",
       "      <td>beer_and_wine</td>\n",
       "      <td>{'dessert': False, 'latenight': False, 'lunch'...</td>\n",
       "      <td>False</td>\n",
       "      <td>True</td>\n",
       "      <td>average</td>\n",
       "      <td>casual</td>\n",
       "      <td>None</td>\n",
       "      <td>None</td>\n",
       "      <td>None</td>\n",
       "      <td>True</td>\n",
       "    </tr>\n",
       "  </tbody>\n",
       "</table>\n",
       "<p>5 rows × 32 columns</p>\n",
       "</div>"
      ],
      "text/plain": [
       "              business_id  business_stars  review_count  \\\n",
       "0  6iYb2HFDywm3zjuRg0shjw             4.0            86   \n",
       "1  6iYb2HFDywm3zjuRg0shjw             4.0            86   \n",
       "2  6iYb2HFDywm3zjuRg0shjw             4.0            86   \n",
       "3  6iYb2HFDywm3zjuRg0shjw             4.0            86   \n",
       "4  6iYb2HFDywm3zjuRg0shjw             4.0            86   \n",
       "\n",
       "                                          categories                 user_id  \\\n",
       "0  Gastropubs, Food, Beer Gardens, Restaurants, B...  93z0yh-sUpGZS-cSKu6xxA   \n",
       "1  Gastropubs, Food, Beer Gardens, Restaurants, B...  Q_CZIvnsDHjpls-EPzzG7Q   \n",
       "2  Gastropubs, Food, Beer Gardens, Restaurants, B...  rqxTSFFj5fZNmabY1fmTlw   \n",
       "3  Gastropubs, Food, Beer Gardens, Restaurants, B...  vNPxlt5f50q0e2nVAScW3Q   \n",
       "4  Gastropubs, Food, Beer Gardens, Restaurants, B...  eXRC79iX60xwA1UuGRuWNg   \n",
       "\n",
       "                                                text  review_stars  \\\n",
       "0  Stopped in on a busy Friday night. Despite the...             5   \n",
       "1  Went there about 1 PM on a Monday.  It wasn't ...             2   \n",
       "2  This was the place the be on Friday Night! If ...             5   \n",
       "3  Went to this place with my family over the wee...             4   \n",
       "4  Stopped on a midweek afternoon, and so glad th...             4   \n",
       "\n",
       "  restaurants_table_service  wifi bike_parking  ...        alcohol  \\\n",
       "0                      True  free         True  ...  beer_and_wine   \n",
       "1                      True  free         True  ...  beer_and_wine   \n",
       "2                      True  free         True  ...  beer_and_wine   \n",
       "3                      True  free         True  ...  beer_and_wine   \n",
       "4                      True  free         True  ...  beer_and_wine   \n",
       "\n",
       "                                       good_for_meal dogs_allowed  \\\n",
       "0  {'dessert': False, 'latenight': False, 'lunch'...        False   \n",
       "1  {'dessert': False, 'latenight': False, 'lunch'...        False   \n",
       "2  {'dessert': False, 'latenight': False, 'lunch'...        False   \n",
       "3  {'dessert': False, 'latenight': False, 'lunch'...        False   \n",
       "4  {'dessert': False, 'latenight': False, 'lunch'...        False   \n",
       "\n",
       "  restaurants_take_out noise_level restaurants_attire restaurants_delivery  \\\n",
       "0                 True     average             casual                 None   \n",
       "1                 True     average             casual                 None   \n",
       "2                 True     average             casual                 None   \n",
       "3                 True     average             casual                 None   \n",
       "4                 True     average             casual                 None   \n",
       "\n",
       "  good_for_kids good_for_dancing music  \n",
       "0          None             None  True  \n",
       "1          None             None  True  \n",
       "2          None             None  True  \n",
       "3          None             None  True  \n",
       "4          None             None  True  \n",
       "\n",
       "[5 rows x 32 columns]"
      ]
     },
     "execution_count": 3,
     "metadata": {},
     "output_type": "execute_result"
    }
   ],
   "source": [
    "df = pd.DataFrame();\n",
    "with (open('model_data.pickle','rb')) as openfile:\n",
    "    df = pickle.load(openfile)\n",
    "df.head()"
   ]
  },
  {
   "cell_type": "code",
   "execution_count": 4,
   "id": "614824ef",
   "metadata": {},
   "outputs": [],
   "source": [
    "review_data = df[['review_stars','text']].sample(n=10000)"
   ]
  },
  {
   "cell_type": "code",
   "execution_count": 5,
   "id": "36f317ae",
   "metadata": {},
   "outputs": [
    {
     "data": {
      "text/html": [
       "<div>\n",
       "<style scoped>\n",
       "    .dataframe tbody tr th:only-of-type {\n",
       "        vertical-align: middle;\n",
       "    }\n",
       "\n",
       "    .dataframe tbody tr th {\n",
       "        vertical-align: top;\n",
       "    }\n",
       "\n",
       "    .dataframe thead th {\n",
       "        text-align: right;\n",
       "    }\n",
       "</style>\n",
       "<table border=\"1\" class=\"dataframe\">\n",
       "  <thead>\n",
       "    <tr style=\"text-align: right;\">\n",
       "      <th></th>\n",
       "      <th>review_stars</th>\n",
       "      <th>text</th>\n",
       "    </tr>\n",
       "  </thead>\n",
       "  <tbody>\n",
       "    <tr>\n",
       "      <th>1165574</th>\n",
       "      <td>5</td>\n",
       "      <td>Since moving to Vancouver 5 years ago I had a ...</td>\n",
       "    </tr>\n",
       "    <tr>\n",
       "      <th>5565016</th>\n",
       "      <td>4</td>\n",
       "      <td>I have to say, this is a bit of an upscale pla...</td>\n",
       "    </tr>\n",
       "    <tr>\n",
       "      <th>1170934</th>\n",
       "      <td>3</td>\n",
       "      <td>The staff has changed a bit much so the servic...</td>\n",
       "    </tr>\n",
       "    <tr>\n",
       "      <th>8612105</th>\n",
       "      <td>2</td>\n",
       "      <td>Non existent customer service. They just don't...</td>\n",
       "    </tr>\n",
       "    <tr>\n",
       "      <th>7688485</th>\n",
       "      <td>5</td>\n",
       "      <td>I've been holding off on writing my review for...</td>\n",
       "    </tr>\n",
       "  </tbody>\n",
       "</table>\n",
       "</div>"
      ],
      "text/plain": [
       "         review_stars                                               text\n",
       "1165574             5  Since moving to Vancouver 5 years ago I had a ...\n",
       "5565016             4  I have to say, this is a bit of an upscale pla...\n",
       "1170934             3  The staff has changed a bit much so the servic...\n",
       "8612105             2  Non existent customer service. They just don't...\n",
       "7688485             5  I've been holding off on writing my review for..."
      ]
     },
     "execution_count": 5,
     "metadata": {},
     "output_type": "execute_result"
    }
   ],
   "source": [
    "review_data.head()"
   ]
  },
  {
   "cell_type": "code",
   "execution_count": 6,
   "id": "8f20cacd",
   "metadata": {},
   "outputs": [
    {
     "data": {
      "text/plain": [
       "dtype('int64')"
      ]
     },
     "execution_count": 6,
     "metadata": {},
     "output_type": "execute_result"
    }
   ],
   "source": [
    "review_data['review_stars'].dtypes"
   ]
  },
  {
   "cell_type": "markdown",
   "id": "9dd4b119",
   "metadata": {},
   "source": [
    "## Modifying the ratings to more simplistic rating\n",
    "Anything less than 3 stars is labels as a bad review while anything 3 or greater is a positive review."
   ]
  },
  {
   "cell_type": "code",
   "execution_count": 7,
   "id": "668fb23a",
   "metadata": {},
   "outputs": [],
   "source": [
    "def simplify_ratings(x):\n",
    "    if x <=2:\n",
    "        x = 0\n",
    "    else:\n",
    "        x = 1\n",
    "    return x\n",
    "review_data['review_stars'] = review_data['review_stars'].apply(lambda x: simplify_ratings(x) )"
   ]
  },
  {
   "cell_type": "code",
   "execution_count": 9,
   "id": "3b90411b",
   "metadata": {},
   "outputs": [
    {
     "data": {
      "text/html": [
       "<div>\n",
       "<style scoped>\n",
       "    .dataframe tbody tr th:only-of-type {\n",
       "        vertical-align: middle;\n",
       "    }\n",
       "\n",
       "    .dataframe tbody tr th {\n",
       "        vertical-align: top;\n",
       "    }\n",
       "\n",
       "    .dataframe thead th {\n",
       "        text-align: right;\n",
       "    }\n",
       "</style>\n",
       "<table border=\"1\" class=\"dataframe\">\n",
       "  <thead>\n",
       "    <tr style=\"text-align: right;\">\n",
       "      <th></th>\n",
       "      <th>review_stars</th>\n",
       "      <th>text</th>\n",
       "    </tr>\n",
       "  </thead>\n",
       "  <tbody>\n",
       "    <tr>\n",
       "      <th>1165574</th>\n",
       "      <td>1</td>\n",
       "      <td>Since moving to Vancouver 5 years ago I had a ...</td>\n",
       "    </tr>\n",
       "    <tr>\n",
       "      <th>5565016</th>\n",
       "      <td>1</td>\n",
       "      <td>I have to say, this is a bit of an upscale pla...</td>\n",
       "    </tr>\n",
       "    <tr>\n",
       "      <th>1170934</th>\n",
       "      <td>1</td>\n",
       "      <td>The staff has changed a bit much so the servic...</td>\n",
       "    </tr>\n",
       "    <tr>\n",
       "      <th>8612105</th>\n",
       "      <td>0</td>\n",
       "      <td>Non existent customer service. They just don't...</td>\n",
       "    </tr>\n",
       "    <tr>\n",
       "      <th>7688485</th>\n",
       "      <td>1</td>\n",
       "      <td>I've been holding off on writing my review for...</td>\n",
       "    </tr>\n",
       "  </tbody>\n",
       "</table>\n",
       "</div>"
      ],
      "text/plain": [
       "         review_stars                                               text\n",
       "1165574             1  Since moving to Vancouver 5 years ago I had a ...\n",
       "5565016             1  I have to say, this is a bit of an upscale pla...\n",
       "1170934             1  The staff has changed a bit much so the servic...\n",
       "8612105             0  Non existent customer service. They just don't...\n",
       "7688485             1  I've been holding off on writing my review for..."
      ]
     },
     "execution_count": 9,
     "metadata": {},
     "output_type": "execute_result"
    }
   ],
   "source": [
    "review_data.head()"
   ]
  },
  {
   "cell_type": "markdown",
   "id": "4047d60a",
   "metadata": {},
   "source": [
    "## Splitting data into two\n",
    "I've limited it to a million for performance to produce a proof of concept"
   ]
  },
  {
   "cell_type": "code",
   "execution_count": 10,
   "id": "216a7d8f",
   "metadata": {},
   "outputs": [],
   "source": [
    "text = review_data['text'].values\n",
    "label = review_data['review_stars'].values"
   ]
  },
  {
   "cell_type": "code",
   "execution_count": 11,
   "id": "fc188373",
   "metadata": {},
   "outputs": [
    {
     "data": {
      "text/plain": [
       "(10000,)"
      ]
     },
     "execution_count": 11,
     "metadata": {},
     "output_type": "execute_result"
    }
   ],
   "source": [
    "text.shape"
   ]
  },
  {
   "cell_type": "code",
   "execution_count": 12,
   "id": "e7bc34f4",
   "metadata": {},
   "outputs": [
    {
     "data": {
      "text/plain": [
       "(10000,)"
      ]
     },
     "execution_count": 12,
     "metadata": {},
     "output_type": "execute_result"
    }
   ],
   "source": [
    "label.shape"
   ]
  },
  {
   "cell_type": "code",
   "execution_count": 13,
   "id": "eca72502",
   "metadata": {},
   "outputs": [
    {
     "data": {
      "text/plain": [
       "\"Since moving to Vancouver 5 years ago I had a struggle to find a dentist and a dental office that  I felt completely comfortable and trusting in. After experiencing 4 other dental offices before I met Anita and her team, I am happy to say that Red Tree Dental is by far the best experience I've had in Vancouver. The entire team are very friendly, knowledgeable and helpful. The dental office feels more like a spa than your regular experience - there is art work on the walls (which you can even purchase), wonderful and clean washrooms, comfortable chairs, relaxing music and they even offer you a hot towel to refresh yourself after your appointment!\\n\\nI first had an appointment at Red Tree Dental in late-2015 for a consultation for wisdom teeth removal, after a previous dentist had told me that it would be a complicated procedure and I'd need to have a oral surgeon remove them (which would could triple the usual amount of having wisdom teeth removed at a dental office). Anita told me there would be no complications in removing my wisdom teeth and she indeed did remove them in March 2016 which went very smooth, quick and painless, not to mention she saved me a whole bunch of money by having the teeth removed by her team instead of a oral surgeon which I could put towards other procedures. Since then I have been loyal to her dental office and had multiple cleanings and various dental work, each time I cannot recommend this dentistry enough! The entire team are wonderful, pleasant and lovely. Any time a friend or work colleague asks for a dental recommendation, this is always the place I will tell them to go to. If you're looking for a new dentist give Red Tree Dental a try, I promise that your experience will be genuine and friendly! 5/5.\""
      ]
     },
     "execution_count": 13,
     "metadata": {},
     "output_type": "execute_result"
    }
   ],
   "source": [
    "text[0]"
   ]
  },
  {
   "cell_type": "code",
   "execution_count": 16,
   "id": "ea768184",
   "metadata": {},
   "outputs": [
    {
     "name": "stdout",
     "output_type": "stream",
     "text": [
      "[('This', 'DET'), ('is', 'AUX'), ('a', 'DET'), ('sentence', 'NOUN'), ('.', 'PUNCT')]\n"
     ]
    }
   ],
   "source": [
    "nlp = spacy.load(\"en_core_web_trf\")\n",
    "doc = nlp(\"This is a sentence.\")\n",
    "print([(w.text, w.pos_) for w in doc])"
   ]
  },
  {
   "cell_type": "code",
   "execution_count": 17,
   "id": "6743725f",
   "metadata": {},
   "outputs": [
    {
     "data": {
      "text/plain": [
       "\"Since moving to Vancouver 5 years ago I had a struggle to find a dentist and a dental office that  I felt completely comfortable and trusting in. After experiencing 4 other dental offices before I met Anita and her team, I am happy to say that Red Tree Dental is by far the best experience I've had in Vancouver. The entire team are very friendly, knowledgeable and helpful. The dental office feels more like a spa than your regular experience - there is art work on the walls (which you can even purchase), wonderful and clean washrooms, comfortable chairs, relaxing music and they even offer you a hot towel to refresh yourself after your appointment!\\n\\nI first had an appointment at Red Tree Dental in late-2015 for a consultation for wisdom teeth removal, after a previous dentist had told me that it would be a complicated procedure and I'd need to have a oral surgeon remove them (which would could triple the usual amount of having wisdom teeth removed at a dental office). Anita told me there would be no complications in removing my wisdom teeth and she indeed did remove them in March 2016 which went very smooth, quick and painless, not to mention she saved me a whole bunch of money by having the teeth removed by her team instead of a oral surgeon which I could put towards other procedures. Since then I have been loyal to her dental office and had multiple cleanings and various dental work, each time I cannot recommend this dentistry enough! The entire team are wonderful, pleasant and lovely. Any time a friend or work colleague asks for a dental recommendation, this is always the place I will tell them to go to. If you're looking for a new dentist give Red Tree Dental a try, I promise that your experience will be genuine and friendly! 5/5.\""
      ]
     },
     "execution_count": 17,
     "metadata": {},
     "output_type": "execute_result"
    }
   ],
   "source": [
    "text[0]"
   ]
  },
  {
   "cell_type": "code",
   "execution_count": 18,
   "id": "6ef939cb",
   "metadata": {},
   "outputs": [
    {
     "data": {
      "text/plain": [
       "Since moving to Vancouver 5 years ago I had a struggle to find a dentist and a dental office that  I felt completely comfortable and trusting in. After experiencing 4 other dental offices before I met Anita and her team, I am happy to say that Red Tree Dental is by far the best experience I've had in Vancouver. The entire team are very friendly, knowledgeable and helpful. The dental office feels more like a spa than your regular experience - there is art work on the walls (which you can even purchase), wonderful and clean washrooms, comfortable chairs, relaxing music and they even offer you a hot towel to refresh yourself after your appointment!\n",
       "\n",
       "I first had an appointment at Red Tree Dental in late-2015 for a consultation for wisdom teeth removal, after a previous dentist had told me that it would be a complicated procedure and I'd need to have a oral surgeon remove them (which would could triple the usual amount of having wisdom teeth removed at a dental office). Anita told me there would be no complications in removing my wisdom teeth and she indeed did remove them in March 2016 which went very smooth, quick and painless, not to mention she saved me a whole bunch of money by having the teeth removed by her team instead of a oral surgeon which I could put towards other procedures. Since then I have been loyal to her dental office and had multiple cleanings and various dental work, each time I cannot recommend this dentistry enough! The entire team are wonderful, pleasant and lovely. Any time a friend or work colleague asks for a dental recommendation, this is always the place I will tell them to go to. If you're looking for a new dentist give Red Tree Dental a try, I promise that your experience will be genuine and friendly! 5/5."
      ]
     },
     "execution_count": 18,
     "metadata": {},
     "output_type": "execute_result"
    }
   ],
   "source": [
    "parsed_text = nlp(text[0])\n",
    "parsed_text"
   ]
  },
  {
   "cell_type": "code",
   "execution_count": 19,
   "id": "afd4f3d9",
   "metadata": {
    "scrolled": true
   },
   "outputs": [
    {
     "name": "stdout",
     "output_type": "stream",
     "text": [
      "0 : Since moving to Vancouver 5 years ago I had a struggle to find a dentist and a dental office that  I felt completely comfortable and trusting in.\n",
      "1 : After experiencing 4 other dental offices before I met Anita and her team, I am happy to say that Red Tree Dental is by far the best experience I've had in Vancouver.\n",
      "2 : The entire team are very friendly, knowledgeable and helpful.\n",
      "3 : The dental office feels more like a spa than your regular experience - there is art work on the walls (which you can even purchase), wonderful and clean washrooms, comfortable chairs, relaxing music and they even offer you a hot towel to refresh yourself after your appointment!\n",
      "4 : \n",
      "\n",
      "I first had an appointment at Red Tree Dental in late-2015 for a consultation for wisdom teeth removal, after a previous dentist had told me that it would be a complicated procedure and I'd need to have a oral surgeon remove them (which would could triple the usual amount of having wisdom teeth removed at a dental office).\n",
      "5 : Anita told me there would be no complications in removing my wisdom teeth and she indeed did remove them in March 2016 which went very smooth, quick and painless, not to mention she saved me a whole bunch of money by having the teeth removed by her team instead of a oral surgeon which I could put towards other procedures.\n",
      "6 : Since then I have been loyal to her dental office and had multiple cleanings and various dental work, each time I cannot recommend this dentistry enough!\n",
      "7 : The entire team are wonderful, pleasant and lovely.\n",
      "8 : Any time a friend or work colleague asks for a dental recommendation, this is always the place I will tell them to go to.\n",
      "9 : If you're looking for a new dentist give Red Tree Dental a try, I promise that your experience will be genuine and friendly!\n",
      "10 : 5/5.\n"
     ]
    }
   ],
   "source": [
    "for i,sentance in enumerate(parsed_text.sents):\n",
    "    print(i,':',sentance)"
   ]
  },
  {
   "cell_type": "code",
   "execution_count": 20,
   "id": "24ced997",
   "metadata": {},
   "outputs": [
    {
     "name": "stdout",
     "output_type": "stream",
     "text": [
      "Entity 1: Three - CARDINAL\n",
      "Entity 2: Mojo Pork - WORK_OF_ART\n",
      "Entity 3: first - ORDINAL\n",
      "Entity 4: last night - TIME\n",
      "Entity 5: 8:30 pm - TIME\n",
      "Entity 6: 4 hrs - TIME\n",
      "Entity 7: over 4 hrs - TIME\n",
      "Entity 8: today - DATE\n"
     ]
    }
   ],
   "source": [
    "for num, entity in enumerate(nlp(text[10]).ents):\n",
    "    print ('Entity {}:'.format(num + 1), entity, '-', entity.label_)"
   ]
  },
  {
   "cell_type": "code",
   "execution_count": 21,
   "id": "8b7bcff1",
   "metadata": {},
   "outputs": [
    {
     "data": {
      "text/html": [
       "<div>\n",
       "<style scoped>\n",
       "    .dataframe tbody tr th:only-of-type {\n",
       "        vertical-align: middle;\n",
       "    }\n",
       "\n",
       "    .dataframe tbody tr th {\n",
       "        vertical-align: top;\n",
       "    }\n",
       "\n",
       "    .dataframe thead th {\n",
       "        text-align: right;\n",
       "    }\n",
       "</style>\n",
       "<table border=\"1\" class=\"dataframe\">\n",
       "  <thead>\n",
       "    <tr style=\"text-align: right;\">\n",
       "      <th></th>\n",
       "      <th>token</th>\n",
       "      <th>pos</th>\n",
       "    </tr>\n",
       "  </thead>\n",
       "  <tbody>\n",
       "    <tr>\n",
       "      <th>0</th>\n",
       "      <td>Very</td>\n",
       "      <td>ADV</td>\n",
       "    </tr>\n",
       "    <tr>\n",
       "      <th>1</th>\n",
       "      <td>inconsistent</td>\n",
       "      <td>ADJ</td>\n",
       "    </tr>\n",
       "    <tr>\n",
       "      <th>2</th>\n",
       "      <td>!</td>\n",
       "      <td>PUNCT</td>\n",
       "    </tr>\n",
       "    <tr>\n",
       "      <th>3</th>\n",
       "      <td>I</td>\n",
       "      <td>PRON</td>\n",
       "    </tr>\n",
       "    <tr>\n",
       "      <th>4</th>\n",
       "      <td>have</td>\n",
       "      <td>AUX</td>\n",
       "    </tr>\n",
       "  </tbody>\n",
       "</table>\n",
       "</div>"
      ],
      "text/plain": [
       "          token    pos\n",
       "0          Very    ADV\n",
       "1  inconsistent    ADJ\n",
       "2             !  PUNCT\n",
       "3             I   PRON\n",
       "4          have    AUX"
      ]
     },
     "execution_count": 21,
     "metadata": {},
     "output_type": "execute_result"
    }
   ],
   "source": [
    "token_pos = [token.pos_ for token in nlp(text[10])]\n",
    "tokens = [token for token in nlp(text[10])]\n",
    "sd = list(zip(tokens,token_pos))\n",
    "sd = pd.DataFrame(sd,columns=['token','pos'])\n",
    "sd.head()"
   ]
  },
  {
   "cell_type": "code",
   "execution_count": 22,
   "id": "c88d31d0",
   "metadata": {},
   "outputs": [],
   "source": [
    "max_num_words = 1000\n",
    "max_seq_length = 100\n",
    "tokenizer = Tokenizer(num_words=max_num_words)"
   ]
  },
  {
   "cell_type": "code",
   "execution_count": 23,
   "id": "9dff0c9b",
   "metadata": {},
   "outputs": [],
   "source": [
    "tokenizer.fit_on_texts(text)\n",
    "sequences = tokenizer.texts_to_sequences(text)\n",
    "word_index = tokenizer.word_index"
   ]
  },
  {
   "cell_type": "code",
   "execution_count": 24,
   "id": "f7427657",
   "metadata": {},
   "outputs": [
    {
     "data": {
      "text/plain": [
       "28954"
      ]
     },
     "execution_count": 24,
     "metadata": {},
     "output_type": "execute_result"
    }
   ],
   "source": [
    "len(word_index)"
   ]
  },
  {
   "cell_type": "code",
   "execution_count": 25,
   "id": "465aaed4",
   "metadata": {},
   "outputs": [
    {
     "data": {
      "text/plain": [
       "array([[ 61, 100,  74, ..., 102, 139, 139],\n",
       "       [  0,   0,   0, ...,  37, 131, 111],\n",
       "       [  0,   0,   0, ...,   1,  11,  45],\n",
       "       ...,\n",
       "       [  0,   0,   0, ...,  33,  24, 109],\n",
       "       [ 45,  91,  22, ...,  19,   5,  58],\n",
       "       [  0,   0,   0, ..., 270, 545, 224]])"
      ]
     },
     "execution_count": 25,
     "metadata": {},
     "output_type": "execute_result"
    }
   ],
   "source": [
    "padded_text = pad_sequences(sequences, maxlen=max_seq_length)\n",
    "padded_text"
   ]
  },
  {
   "cell_type": "code",
   "execution_count": 26,
   "id": "db6e8782",
   "metadata": {},
   "outputs": [
    {
     "data": {
      "text/plain": [
       "(10000, 100)"
      ]
     },
     "execution_count": 26,
     "metadata": {},
     "output_type": "execute_result"
    }
   ],
   "source": [
    "padded_text.shape"
   ]
  },
  {
   "cell_type": "code",
   "execution_count": 27,
   "id": "a75fa0ba",
   "metadata": {},
   "outputs": [],
   "source": [
    "label = tf.keras.utils.to_categorical(\n",
    "    np.asarray(label)\n",
    ")"
   ]
  },
  {
   "cell_type": "code",
   "execution_count": 28,
   "id": "320f39bf",
   "metadata": {},
   "outputs": [
    {
     "data": {
      "text/plain": [
       "(10000, 2)"
      ]
     },
     "execution_count": 28,
     "metadata": {},
     "output_type": "execute_result"
    }
   ],
   "source": [
    "label.shape"
   ]
  },
  {
   "cell_type": "code",
   "execution_count": 29,
   "id": "93cc9464",
   "metadata": {},
   "outputs": [],
   "source": [
    "validation_split = 0.2\n",
    "indices = np.arange(text.shape[0])\n",
    "np.random.shuffle(indices)"
   ]
  },
  {
   "cell_type": "code",
   "execution_count": 30,
   "id": "0e60b661",
   "metadata": {},
   "outputs": [
    {
     "data": {
      "text/plain": [
       "array([[  0,   0,   0, ...,   6,  22,  32],\n",
       "       [  0,   0,   0, ...,  83,  35,  32],\n",
       "       [  0,   0,  86, ...,   1, 354, 233],\n",
       "       ...,\n",
       "       [ 92,   2, 732, ..., 246,   1, 419],\n",
       "       [ 59, 407,  31, ...,  51,  27, 910],\n",
       "       [  0,   0,   0, ..., 445, 141, 150]])"
      ]
     },
     "execution_count": 30,
     "metadata": {},
     "output_type": "execute_result"
    }
   ],
   "source": [
    "padded_text = padded_text[indices]\n",
    "padded_text"
   ]
  },
  {
   "cell_type": "code",
   "execution_count": 31,
   "id": "f38849dc",
   "metadata": {},
   "outputs": [
    {
     "data": {
      "text/plain": [
       "array([[1., 0.],\n",
       "       [0., 1.],\n",
       "       [0., 1.],\n",
       "       ...,\n",
       "       [0., 1.],\n",
       "       [0., 1.],\n",
       "       [0., 1.]], dtype=float32)"
      ]
     },
     "execution_count": 31,
     "metadata": {},
     "output_type": "execute_result"
    }
   ],
   "source": [
    "label = label[indices]\n",
    "label"
   ]
  },
  {
   "cell_type": "code",
   "execution_count": 32,
   "id": "e0844a77",
   "metadata": {},
   "outputs": [
    {
     "data": {
      "text/plain": [
       "2000"
      ]
     },
     "execution_count": 32,
     "metadata": {},
     "output_type": "execute_result"
    }
   ],
   "source": [
    "nb_validation_samples = int(validation_split*text.shape[0])\n",
    "nb_validation_samples"
   ]
  },
  {
   "cell_type": "markdown",
   "id": "296be73d",
   "metadata": {},
   "source": [
    "## Splitting Data"
   ]
  },
  {
   "cell_type": "code",
   "execution_count": 33,
   "id": "1a2aaffd",
   "metadata": {},
   "outputs": [],
   "source": [
    "x_train = padded_text[:-nb_validation_samples]\n",
    "y_train = label[:-nb_validation_samples]\n",
    "x_val = padded_text[-nb_validation_samples:]\n",
    "y_val = label[-nb_validation_samples:]"
   ]
  },
  {
   "cell_type": "code",
   "execution_count": 33,
   "id": "5c74c6b4",
   "metadata": {},
   "outputs": [],
   "source": [
    "X_train, X_test, y_train,y_test = train_test_split(text,label,test_size=0.3, random_state=42)"
   ]
  },
  {
   "cell_type": "markdown",
   "id": "7a27a176",
   "metadata": {},
   "source": [
    "## Utilizing Glove for Embedding"
   ]
  },
  {
   "cell_type": "code",
   "execution_count": 34,
   "id": "e4b875ba",
   "metadata": {},
   "outputs": [],
   "source": [
    "glove_dir = './glove/'"
   ]
  },
  {
   "cell_type": "code",
   "execution_count": 35,
   "id": "4da99a39",
   "metadata": {},
   "outputs": [
    {
     "name": "stdout",
     "output_type": "stream",
     "text": [
      "found word vecs:  400000\n"
     ]
    }
   ],
   "source": [
    "embedding_index = {}\n",
    "\n",
    "f = open(os.path.join(glove_dir,'glove.6B.50d.txt'),encoding=\"utf8\")\n",
    "\n",
    "for line in f:\n",
    "    values = line.split()\n",
    "    word = values[0]\n",
    "    coefs = np.asarray(values[1:],dtype='float32')\n",
    "    embedding_index[word] = coefs\n",
    "f.close()\n",
    "\n",
    "print('found word vecs: ',len(embedding_index))"
   ]
  },
  {
   "cell_type": "code",
   "execution_count": 36,
   "id": "66840366",
   "metadata": {},
   "outputs": [
    {
     "data": {
      "text/plain": [
       "(28955, 50)"
      ]
     },
     "execution_count": 36,
     "metadata": {},
     "output_type": "execute_result"
    }
   ],
   "source": [
    "embedding_dim = 50\n",
    "embedding_matrix = np.zeros((len(word_index)+1,embedding_dim))\n",
    "embedding_matrix.shape"
   ]
  },
  {
   "cell_type": "code",
   "execution_count": 37,
   "id": "95ae9867",
   "metadata": {},
   "outputs": [],
   "source": [
    "for word,i in word_index.items():\n",
    "    embedding_vector = embedding_index.get(word)\n",
    "    if embedding_vector is not None:\n",
    "        embedding_matrix[i] = embedding_vector"
   ]
  },
  {
   "cell_type": "markdown",
   "id": "b94ec8e7",
   "metadata": {},
   "source": [
    "## Creating Layers and Model"
   ]
  },
  {
   "cell_type": "code",
   "execution_count": 38,
   "id": "35fbe952",
   "metadata": {},
   "outputs": [],
   "source": [
    "\n",
    "embedding_layer = Embedding(len(word_index)+1,embedding_dim,weights=[embedding_matrix],input_length=max_seq_length,trainable=False)"
   ]
  },
  {
   "cell_type": "code",
   "execution_count": 39,
   "id": "fc8e360f",
   "metadata": {},
   "outputs": [],
   "source": [
    "inp = Input(shape=(max_seq_length,))\n",
    "x = embedding_layer(inp)\n",
    "x = Bidirectional(LSTM(50,return_sequences=True,dropout=0.1,recurrent_dropout=0.1))(x)\n",
    "x = GlobalMaxPool1D()(x)\n",
    "x = Dense(50,activation='relu')(x)\n",
    "x = Dropout(0.1)(x)\n",
    "x = Dense(2,activation='sigmoid')(x)\n",
    "model = Model(inputs=inp,outputs=x)"
   ]
  },
  {
   "cell_type": "code",
   "execution_count": 40,
   "id": "fd753273",
   "metadata": {},
   "outputs": [],
   "source": [
    "model.compile(optimizer='adam',loss='binary_crossentropy',metrics=['accuracy'])"
   ]
  },
  {
   "cell_type": "code",
   "execution_count": 41,
   "id": "66cfb0bd",
   "metadata": {},
   "outputs": [
    {
     "name": "stdout",
     "output_type": "stream",
     "text": [
      "(8000, 100)\n",
      "(8000, 2)\n",
      "(2000, 100)\n",
      "(2000, 2)\n"
     ]
    }
   ],
   "source": [
    "print(x_train.shape)\n",
    "print(y_train.shape)\n",
    "print(x_val.shape)\n",
    "print(y_val.shape)"
   ]
  },
  {
   "cell_type": "markdown",
   "id": "86da77a6",
   "metadata": {},
   "source": [
    "## Fitting Model"
   ]
  },
  {
   "cell_type": "code",
   "execution_count": 42,
   "id": "e8c60a26",
   "metadata": {},
   "outputs": [
    {
     "name": "stdout",
     "output_type": "stream",
     "text": [
      "Epoch 1/20\n",
      "8/8 [==============================] - 32s 1s/step - loss: 0.6904 - accuracy: 0.5047 - val_loss: 0.5310 - val_accuracy: 0.7795\n",
      "Epoch 2/20\n",
      "8/8 [==============================] - 9s 1s/step - loss: 0.5566 - accuracy: 0.7627 - val_loss: 0.5226 - val_accuracy: 0.7800\n",
      "Epoch 3/20\n",
      "8/8 [==============================] - 9s 1s/step - loss: 0.5466 - accuracy: 0.7630 - val_loss: 0.5169 - val_accuracy: 0.7800\n",
      "Epoch 4/20\n",
      "8/8 [==============================] - 9s 1s/step - loss: 0.5366 - accuracy: 0.7623 - val_loss: 0.5052 - val_accuracy: 0.7800\n",
      "Epoch 5/20\n",
      "8/8 [==============================] - 9s 1s/step - loss: 0.5268 - accuracy: 0.7616 - val_loss: 0.4875 - val_accuracy: 0.7800\n",
      "Epoch 6/20\n",
      "8/8 [==============================] - 9s 1s/step - loss: 0.5078 - accuracy: 0.7624 - val_loss: 0.4636 - val_accuracy: 0.7810\n",
      "Epoch 7/20\n",
      "8/8 [==============================] - 10s 1s/step - loss: 0.4763 - accuracy: 0.7696 - val_loss: 0.4301 - val_accuracy: 0.8055\n",
      "Epoch 8/20\n",
      "8/8 [==============================] - 10s 1s/step - loss: 0.4416 - accuracy: 0.7931 - val_loss: 0.4050 - val_accuracy: 0.8255\n",
      "Epoch 9/20\n",
      "8/8 [==============================] - 10s 1s/step - loss: 0.4177 - accuracy: 0.8175 - val_loss: 0.3906 - val_accuracy: 0.8345\n",
      "Epoch 10/20\n",
      "8/8 [==============================] - 10s 1s/step - loss: 0.4087 - accuracy: 0.8224 - val_loss: 0.3919 - val_accuracy: 0.8145\n",
      "Epoch 11/20\n",
      "8/8 [==============================] - 10s 1s/step - loss: 0.4006 - accuracy: 0.8180 - val_loss: 0.3588 - val_accuracy: 0.8405\n",
      "Epoch 12/20\n",
      "8/8 [==============================] - 10s 1s/step - loss: 0.3806 - accuracy: 0.8295 - val_loss: 0.3612 - val_accuracy: 0.8415\n",
      "Epoch 13/20\n",
      "8/8 [==============================] - 10s 1s/step - loss: 0.3774 - accuracy: 0.8372 - val_loss: 0.3498 - val_accuracy: 0.8470\n",
      "Epoch 14/20\n",
      "8/8 [==============================] - 11s 1s/step - loss: 0.3578 - accuracy: 0.8415 - val_loss: 0.3402 - val_accuracy: 0.8530\n",
      "Epoch 15/20\n",
      "8/8 [==============================] - 11s 1s/step - loss: 0.3562 - accuracy: 0.8488 - val_loss: 0.3466 - val_accuracy: 0.8445\n",
      "Epoch 16/20\n",
      "8/8 [==============================] - 11s 1s/step - loss: 0.3474 - accuracy: 0.8442 - val_loss: 0.3388 - val_accuracy: 0.8450\n",
      "Epoch 17/20\n",
      "8/8 [==============================] - 12s 1s/step - loss: 0.3428 - accuracy: 0.8513 - val_loss: 0.3270 - val_accuracy: 0.8580\n",
      "Epoch 18/20\n",
      "8/8 [==============================] - 11s 1s/step - loss: 0.3415 - accuracy: 0.8538 - val_loss: 0.3321 - val_accuracy: 0.8540\n",
      "Epoch 19/20\n",
      "8/8 [==============================] - 10s 1s/step - loss: 0.3405 - accuracy: 0.8486 - val_loss: 0.3188 - val_accuracy: 0.8615\n",
      "Epoch 20/20\n",
      "8/8 [==============================] - 10s 1s/step - loss: 0.3301 - accuracy: 0.8553 - val_loss: 0.3151 - val_accuracy: 0.8645\n"
     ]
    }
   ],
   "source": [
    "model.fit(x_train,y_train,validation_data=(x_val,y_val),epochs=20,batch_size=1000, verbose=1);"
   ]
  },
  {
   "cell_type": "code",
   "execution_count": 108,
   "id": "68a99af4",
   "metadata": {},
   "outputs": [
    {
     "ename": "NameError",
     "evalue": "name 'self' is not defined",
     "output_type": "error",
     "traceback": [
      "\u001b[1;31m---------------------------------------------------------------------------\u001b[0m",
      "\u001b[1;31mNameError\u001b[0m                                 Traceback (most recent call last)",
      "\u001b[1;32m<ipython-input-108-d127d7614f04>\u001b[0m in \u001b[0;36m<module>\u001b[1;34m\u001b[0m\n\u001b[1;32m----> 1\u001b[1;33m \u001b[0mModel\u001b[0m\u001b[1;33m.\u001b[0m\u001b[0msummary\u001b[0m\u001b[1;33m(\u001b[0m\u001b[0mself\u001b[0m\u001b[1;33m,\u001b[0m \u001b[0mline_length\u001b[0m\u001b[1;33m=\u001b[0m\u001b[1;32mNone\u001b[0m\u001b[1;33m,\u001b[0m \u001b[0mpositions\u001b[0m\u001b[1;33m=\u001b[0m\u001b[1;32mNone\u001b[0m\u001b[1;33m,\u001b[0m \u001b[0mprint_fn\u001b[0m\u001b[1;33m=\u001b[0m\u001b[1;32mNone\u001b[0m\u001b[1;33m)\u001b[0m\u001b[1;33m\u001b[0m\u001b[1;33m\u001b[0m\u001b[0m\n\u001b[0m",
      "\u001b[1;31mNameError\u001b[0m: name 'self' is not defined"
     ]
    }
   ],
   "source": [
    "Model.summary(self, line_length=None, positions=None, print_fn=None)"
   ]
  },
  {
   "cell_type": "code",
   "execution_count": 43,
   "id": "ed5129a2",
   "metadata": {},
   "outputs": [
    {
     "name": "stdout",
     "output_type": "stream",
     "text": [
      "63/63 [==============================] - 2s 11ms/step - loss: 0.3151 - accuracy: 0.8645\n"
     ]
    },
    {
     "data": {
      "text/plain": [
       "[0.31508174538612366, 0.8644999861717224]"
      ]
     },
     "execution_count": 43,
     "metadata": {},
     "output_type": "execute_result"
    }
   ],
   "source": [
    "score = model.evaluate(x_val,y_val)\n",
    "score"
   ]
  },
  {
   "cell_type": "code",
   "execution_count": 44,
   "id": "71da6f70",
   "metadata": {},
   "outputs": [
    {
     "data": {
      "text/plain": [
       "86.44999861717224"
      ]
     },
     "execution_count": 44,
     "metadata": {},
     "output_type": "execute_result"
    }
   ],
   "source": [
    "score[1]*100"
   ]
  },
  {
   "cell_type": "code",
   "execution_count": 45,
   "id": "28ec1cfb",
   "metadata": {},
   "outputs": [
    {
     "name": "stdout",
     "output_type": "stream",
     "text": [
      "              precision    recall  f1-score   support\n",
      "\n",
      "    negative       0.75      0.57      0.65       440\n",
      "    positive       0.89      0.95      0.92      1560\n",
      "\n",
      "    accuracy                           0.86      2000\n",
      "   macro avg       0.82      0.76      0.78      2000\n",
      "weighted avg       0.86      0.86      0.86      2000\n",
      "\n"
     ]
    },
    {
     "data": {
      "text/html": [
       "<style  type=\"text/css\" >\n",
       "#T_3f24e_row0_col0,#T_3f24e_row1_col1{\n",
       "            background-color:  #08306b;\n",
       "            color:  #f1f1f1;\n",
       "        }#T_3f24e_row0_col1,#T_3f24e_row1_col0{\n",
       "            background-color:  #f7fbff;\n",
       "            color:  #000000;\n",
       "        }</style><table id=\"T_3f24e_\" ><thead>    <tr>        <th class=\"blank level0\" ></th>        <th class=\"col_heading level0 col0\" >Predicted Negative</th>        <th class=\"col_heading level0 col1\" >Predicted Positive</th>    </tr></thead><tbody>\n",
       "                <tr>\n",
       "                        <th id=\"T_3f24e_level0_row0\" class=\"row_heading level0 row0\" >Actual Negative</th>\n",
       "                        <td id=\"T_3f24e_row0_col0\" class=\"data row0 col0\" >253</td>\n",
       "                        <td id=\"T_3f24e_row0_col1\" class=\"data row0 col1\" >187</td>\n",
       "            </tr>\n",
       "            <tr>\n",
       "                        <th id=\"T_3f24e_level0_row1\" class=\"row_heading level0 row1\" >Actual Positive</th>\n",
       "                        <td id=\"T_3f24e_row1_col0\" class=\"data row1 col0\" >84</td>\n",
       "                        <td id=\"T_3f24e_row1_col1\" class=\"data row1 col1\" >1476</td>\n",
       "            </tr>\n",
       "    </tbody></table>"
      ],
      "text/plain": [
       "<pandas.io.formats.style.Styler at 0x23c0dc42df0>"
      ]
     },
     "execution_count": 45,
     "metadata": {},
     "output_type": "execute_result"
    }
   ],
   "source": [
    "y_pred = model.predict(x_val)\n",
    "\n",
    "test_data = pd.DataFrame()\n",
    "\n",
    "y_val_min = y_val.argmax(axis=1)\n",
    "y_pred_min = y_pred.argmax(axis=1)\n",
    "\n",
    "test_data['sentiment'] = y_val_min\n",
    "test_data['sentiment'] = test_data['sentiment'].apply(lambda x: str(x))\n",
    "test_data['sentiment'] = np.where((test_data.sentiment=='0'),'negative',test_data.sentiment)\n",
    "test_data['sentiment'] = np.where((test_data.sentiment=='1'),'positive',test_data.sentiment)\n",
    "\n",
    "test_data['pred_sentiment'] = y_pred_min\n",
    "test_data['pred_sentiment'] = test_data['pred_sentiment'].apply(lambda x: str(x))\n",
    "test_data['pred_sentiment'] = np.where((test_data.pred_sentiment=='0'),'negative',test_data.pred_sentiment)\n",
    "test_data['pred_sentiment'] = np.where((test_data.pred_sentiment=='1'),'positive',test_data.pred_sentiment)\n",
    "\n",
    "labels = ['negative', 'positive']\n",
    "\n",
    "\n",
    "print(classification_report(test_data['sentiment'],test_data['pred_sentiment'], labels=labels))\n",
    "\n",
    "confusion_matrix(test_data['sentiment'],test_data['pred_sentiment'], labels=labels)\n",
    "df_matrix=pd.DataFrame(confusion_matrix(test_data['sentiment'], test_data['pred_sentiment']), \n",
    "             columns=[\"Predicted Negative\", \"Predicted Positive\"], \n",
    "             index=[\"Actual Negative\", \"Actual Positive\"])\n",
    "df_matrix.style.background_gradient(cmap='Blues')"
   ]
  },
  {
   "cell_type": "markdown",
   "id": "48a09588",
   "metadata": {},
   "source": [
    "## Testing model with different data"
   ]
  },
  {
   "cell_type": "code",
   "execution_count": 46,
   "id": "cd66c093",
   "metadata": {},
   "outputs": [],
   "source": [
    "reviews = [\n",
    "    # NEG\n",
    "    'WORST FOOD I EVER HAD. It was burnt, it was cold. The waiter spilt coffee on my lap and did not apologize',\n",
    "    'Stacy was a pleasent waitress during our stay. She did everything to make sure we felt like home. The food was amazing.',\n",
    "    # NEG\n",
    "    'No one asked for Mary Poppinss return to modern consciousness, but her reappearance unmistakably proves that Hollywood Boomers are desperate to justify their own mediocrity through nostalgic sentiment',\n",
    "    '\"Cast Away\" is an exceptionally well-crafted exploration of the survival of the human spirit. Its a movie unafraid to consider the full complexity of life.',\n",
    "    'Somewhat entertaining especially with a lot of the unintended comedy. At times very tedious and the main concept of the film was completely lost.',\n",
    "    # NEG\n",
    "    'You’d better have something in the fridge at home, because the likelihood of your joining the Clean Plate Club here is as good as getting invited to a Christmas party at the White House.',\n",
    "    'A great movie that shows the progress of human development through Tom Hanks character while he is stranded on the desert island. But...all that is overshadowed by Wilson, who will remain in our hearts for all eternity.',\n",
    "    # NEG\n",
    "    'There’s V for Vegan. There’s GF for Gluten Free. There’s DF for Dairy Free. I think they’re missing a few. There should be TF for Taste Free and JF for Joy Free and AAHYWEH for Abandon All Hope, Ye Who Enter Here',\n",
    "    'Probably one of the best disaster emotional films ever. A classic game of survival that is played absolutely perfectly.',\n",
    "    # NEG\n",
    "    'While there are many words I could use to describe Louie Louie, I’m going to say only this: Louie Louie is a bad restaurant',]"
   ]
  },
  {
   "cell_type": "code",
   "execution_count": 47,
   "id": "e279769a",
   "metadata": {},
   "outputs": [],
   "source": [
    "#tokenizer.fit_on_texts(reviews)\n",
    "padded_text = pad_sequences(tokenizer.texts_to_sequences(reviews), maxlen=max_seq_length)"
   ]
  },
  {
   "cell_type": "code",
   "execution_count": 48,
   "id": "a33c675c",
   "metadata": {},
   "outputs": [],
   "source": [
    "res = model.predict(padded_text)"
   ]
  },
  {
   "cell_type": "code",
   "execution_count": 49,
   "id": "a661f675",
   "metadata": {},
   "outputs": [
    {
     "name": "stdout",
     "output_type": "stream",
     "text": [
      "Negative Review:\n",
      "\t WORST FOOD I EVER HAD. It was burnt, it was cold. The waiter spilt coffee on my lap and did not apologize\n",
      "------------------------------------------------------------------------------------------\n",
      "Positive Review:\n",
      "\t Stacy was a pleasent waitress during our stay. She did everything to make sure we felt like home. The food was amazing.\n",
      "------------------------------------------------------------------------------------------\n",
      "Negative Review:\n",
      "\t No one asked for Mary Poppinss return to modern consciousness, but her reappearance unmistakably proves that Hollywood Boomers are desperate to justify their own mediocrity through nostalgic sentiment\n",
      "------------------------------------------------------------------------------------------\n",
      "Positive Review:\n",
      "\t \"Cast Away\" is an exceptionally well-crafted exploration of the survival of the human spirit. Its a movie unafraid to consider the full complexity of life.\n",
      "------------------------------------------------------------------------------------------\n",
      "Positive Review:\n",
      "\t Somewhat entertaining especially with a lot of the unintended comedy. At times very tedious and the main concept of the film was completely lost.\n",
      "------------------------------------------------------------------------------------------\n",
      "Positive Review:\n",
      "\t You’d better have something in the fridge at home, because the likelihood of your joining the Clean Plate Club here is as good as getting invited to a Christmas party at the White House.\n",
      "------------------------------------------------------------------------------------------\n",
      "Positive Review:\n",
      "\t A great movie that shows the progress of human development through Tom Hanks character while he is stranded on the desert island. But...all that is overshadowed by Wilson, who will remain in our hearts for all eternity.\n",
      "------------------------------------------------------------------------------------------\n",
      "Positive Review:\n",
      "\t There’s V for Vegan. There’s GF for Gluten Free. There’s DF for Dairy Free. I think they’re missing a few. There should be TF for Taste Free and JF for Joy Free and AAHYWEH for Abandon All Hope, Ye Who Enter Here\n",
      "------------------------------------------------------------------------------------------\n",
      "Positive Review:\n",
      "\t Probably one of the best disaster emotional films ever. A classic game of survival that is played absolutely perfectly.\n",
      "------------------------------------------------------------------------------------------\n",
      "Negative Review:\n",
      "\t While there are many words I could use to describe Louie Louie, I’m going to say only this: Louie Louie is a bad restaurant\n",
      "------------------------------------------------------------------------------------------\n"
     ]
    }
   ],
   "source": [
    "for index, x in enumerate(res):\n",
    "    if x[1] > .5:\n",
    "        print(f'Positive Review:\\n\\t {reviews[index]}')\n",
    "    else:\n",
    "        print(f'Negative Review:\\n\\t {reviews[index]}')\n",
    "    print(f'------------------------------------------------------------------------------------------')"
   ]
  },
  {
   "cell_type": "markdown",
   "id": "96b84a36",
   "metadata": {},
   "source": [
    "## Save Model "
   ]
  },
  {
   "cell_type": "code",
   "execution_count": 109,
   "id": "6e1fd0b8",
   "metadata": {},
   "outputs": [],
   "source": [
    "model.save('review_model.h5')"
   ]
  },
  {
   "cell_type": "markdown",
   "id": "8f2d4a78",
   "metadata": {},
   "source": [
    "## Save Tokenizer"
   ]
  },
  {
   "cell_type": "code",
   "execution_count": 114,
   "id": "558a18af",
   "metadata": {},
   "outputs": [],
   "source": [
    "token = tokenizer.to_json()\n",
    "with open('tokenizer.pickle','wb') as handle:\n",
    "    pickle.dump(token,handle)"
   ]
  },
  {
   "cell_type": "markdown",
   "id": "1f06a2d9",
   "metadata": {},
   "source": [
    "## Load Model and Tokenizer"
   ]
  },
  {
   "cell_type": "code",
   "execution_count": 58,
   "id": "233a5be2",
   "metadata": {},
   "outputs": [],
   "source": [
    "with open('tokenizer.pickle', 'rb') as handle:\n",
    "    tokenizer_json = pickle.load(handle)\n",
    "\n",
    "tk = tf.keras.preprocessing.text.tokenizer_from_json(\n",
    "    tokenizer_json\n",
    ")"
   ]
  },
  {
   "cell_type": "code",
   "execution_count": null,
   "id": "8827d3db",
   "metadata": {},
   "outputs": [],
   "source": [
    "# Getting Sequences for the test data and adding padding accordingly\n",
    "X_seq = pad_sequences(tk.texts_to_sequences(text), maxlen = 36, padding = 'post')\n",
    "display(X_seq)"
   ]
  },
  {
   "cell_type": "code",
   "execution_count": 59,
   "id": "de12ed2f",
   "metadata": {},
   "outputs": [],
   "source": [
    "from keras.models import load_model\n",
    "loaded_model = load_model('review_model.h5')"
   ]
  },
  {
   "cell_type": "code",
   "execution_count": null,
   "id": "d165cb56",
   "metadata": {},
   "outputs": [],
   "source": [
    "score = loaded_model.evaluate(x_val,y_val)\n",
    "score"
   ]
  },
  {
   "cell_type": "markdown",
   "id": "347d29cb",
   "metadata": {},
   "source": [
    "## Testing with loaded Model and Tokenizer"
   ]
  },
  {
   "cell_type": "code",
   "execution_count": 60,
   "id": "32b7a2cb",
   "metadata": {},
   "outputs": [],
   "source": [
    "reviews = [\"This place is horrible. The food was cold and the meals was unfilling.\"]"
   ]
  },
  {
   "cell_type": "code",
   "execution_count": 61,
   "id": "f3fca304",
   "metadata": {},
   "outputs": [],
   "source": [
    "#tk.fit_on_texts(reviews)\n",
    "padded_text = pad_sequences(tk.texts_to_sequences(reviews), maxlen=100)"
   ]
  },
  {
   "cell_type": "code",
   "execution_count": 62,
   "id": "5381bad4",
   "metadata": {},
   "outputs": [
    {
     "data": {
      "text/plain": [
       "array([[  0,   0,   0,   0,   0,   0,   0,   0,   0,   0,   0,   0,   0,\n",
       "          0,   0,   0,   0,   0,   0,   0,   0,   0,   0,   0,   0,   0,\n",
       "          0,   0,   0,   0,   0,   0,   0,   0,   0,   0,   0,   0,   0,\n",
       "          0,   0,   0,   0,   0,   0,   0,   0,   0,   0,   0,   0,   0,\n",
       "          0,   0,   0,   0,   0,   0,   0,   0,   0,   0,   0,   0,   0,\n",
       "          0,   0,   0,   0,   0,   0,   0,   0,   0,   0,   0,   0,   0,\n",
       "          0,   0,   0,   0,   0,   0,   0,   0,   0,   0,  15,  32,   9,\n",
       "        589,   1,  28,   6, 384,   2,   1, 756,   6]])"
      ]
     },
     "execution_count": 62,
     "metadata": {},
     "output_type": "execute_result"
    }
   ],
   "source": [
    "padded_text"
   ]
  },
  {
   "cell_type": "code",
   "execution_count": 63,
   "id": "30d52fce",
   "metadata": {},
   "outputs": [],
   "source": [
    "res = loaded_model.predict(padded_text)"
   ]
  },
  {
   "cell_type": "code",
   "execution_count": 64,
   "id": "6ca787bf",
   "metadata": {},
   "outputs": [
    {
     "name": "stdout",
     "output_type": "stream",
     "text": [
      "Negative Review:\n",
      "\t This place is horrible. The food was cold and the meals was unfilling.\n",
      "------------------------------------------------------------------------------------------\n"
     ]
    }
   ],
   "source": [
    "for index, x in enumerate(res):\n",
    "    if x[1] > .5:\n",
    "        print(f'Positive Review:\\n\\t {reviews[index]}')\n",
    "    else:\n",
    "        print(f'Negative Review:\\n\\t {reviews[index]}')\n",
    "    print(f'------------------------------------------------------------------------------------------')"
   ]
  },
  {
   "cell_type": "code",
   "execution_count": null,
   "id": "4940ff09",
   "metadata": {},
   "outputs": [],
   "source": []
  }
 ],
 "metadata": {
  "kernelspec": {
   "display_name": "Python 3",
   "language": "python",
   "name": "python3"
  },
  "language_info": {
   "codemirror_mode": {
    "name": "ipython",
    "version": 3
   },
   "file_extension": ".py",
   "mimetype": "text/x-python",
   "name": "python",
   "nbconvert_exporter": "python",
   "pygments_lexer": "ipython3",
   "version": "3.8.8"
  }
 },
 "nbformat": 4,
 "nbformat_minor": 5
}
