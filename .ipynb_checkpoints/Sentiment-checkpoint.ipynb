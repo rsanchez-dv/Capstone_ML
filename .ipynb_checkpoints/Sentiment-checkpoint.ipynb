{
 "cells": [
  {
   "cell_type": "code",
   "execution_count": 1,
   "id": "32f983c3",
   "metadata": {
    "scrolled": true
   },
   "outputs": [],
   "source": [
    "#!pip install rake-nltk\n",
    "#!pip install -U spacy\n",
    "#!python -m spacy download en_core_web_trf"
   ]
  },
  {
   "cell_type": "markdown",
   "id": "fa197be2",
   "metadata": {},
   "source": [
    "## Importing Libraries"
   ]
  },
  {
   "cell_type": "code",
   "execution_count": 105,
   "id": "d69cc09e",
   "metadata": {},
   "outputs": [],
   "source": [
    "import os\n",
    "import spacy\n",
    "import pickle\n",
    "import keras\n",
    "\n",
    "import numpy as np\n",
    "import pandas as pd\n",
    "import tensorflow as tf\n",
    "\n",
    "\n",
    "from keras.layers import Embedding\n",
    "from keras.layers import Bidirectional,GlobalMaxPool1D,Conv1D\n",
    "from keras.layers import LSTM,Input,Dense,Dropout,Activation\n",
    "from keras.models import Model\n",
    "\n",
    "from keras.preprocessing.text import Tokenizer\n",
    "from keras.preprocessing.sequence import pad_sequences\n",
    "\n",
    "from sklearn.metrics import classification_report, confusion_matrix\n",
    "from sklearn.model_selection import train_test_split"
   ]
  },
  {
   "cell_type": "code",
   "execution_count": 106,
   "id": "04ad3312",
   "metadata": {},
   "outputs": [],
   "source": [
    "os.environ[\"CUDA_VISIBLE_DEVICES\"] = '-1'\n",
    "os.environ['TF_FORCE_GPU_ALLOW_GROWTH'] = 'true'"
   ]
  },
  {
   "cell_type": "markdown",
   "id": "e9b8fea7",
   "metadata": {},
   "source": [
    "## Reading in Data"
   ]
  },
  {
   "cell_type": "code",
   "execution_count": 4,
   "id": "eb801cb4",
   "metadata": {},
   "outputs": [
    {
     "data": {
      "text/html": [
       "<div>\n",
       "<style scoped>\n",
       "    .dataframe tbody tr th:only-of-type {\n",
       "        vertical-align: middle;\n",
       "    }\n",
       "\n",
       "    .dataframe tbody tr th {\n",
       "        vertical-align: top;\n",
       "    }\n",
       "\n",
       "    .dataframe thead th {\n",
       "        text-align: right;\n",
       "    }\n",
       "</style>\n",
       "<table border=\"1\" class=\"dataframe\">\n",
       "  <thead>\n",
       "    <tr style=\"text-align: right;\">\n",
       "      <th></th>\n",
       "      <th>business_id</th>\n",
       "      <th>business_stars</th>\n",
       "      <th>review_count</th>\n",
       "      <th>categories</th>\n",
       "      <th>user_id</th>\n",
       "      <th>text</th>\n",
       "      <th>review_stars</th>\n",
       "      <th>restaurants_table_service</th>\n",
       "      <th>wifi</th>\n",
       "      <th>bike_parking</th>\n",
       "      <th>...</th>\n",
       "      <th>alcohol</th>\n",
       "      <th>good_for_meal</th>\n",
       "      <th>dogs_allowed</th>\n",
       "      <th>restaurants_take_out</th>\n",
       "      <th>noise_level</th>\n",
       "      <th>restaurants_attire</th>\n",
       "      <th>restaurants_delivery</th>\n",
       "      <th>good_for_kids</th>\n",
       "      <th>good_for_dancing</th>\n",
       "      <th>music</th>\n",
       "    </tr>\n",
       "  </thead>\n",
       "  <tbody>\n",
       "    <tr>\n",
       "      <th>0</th>\n",
       "      <td>6iYb2HFDywm3zjuRg0shjw</td>\n",
       "      <td>4.0</td>\n",
       "      <td>86</td>\n",
       "      <td>Gastropubs, Food, Beer Gardens, Restaurants, B...</td>\n",
       "      <td>93z0yh-sUpGZS-cSKu6xxA</td>\n",
       "      <td>Stopped in on a busy Friday night. Despite the...</td>\n",
       "      <td>5</td>\n",
       "      <td>True</td>\n",
       "      <td>free</td>\n",
       "      <td>True</td>\n",
       "      <td>...</td>\n",
       "      <td>beer_and_wine</td>\n",
       "      <td>{'dessert': False, 'latenight': False, 'lunch'...</td>\n",
       "      <td>False</td>\n",
       "      <td>True</td>\n",
       "      <td>average</td>\n",
       "      <td>casual</td>\n",
       "      <td>None</td>\n",
       "      <td>None</td>\n",
       "      <td>None</td>\n",
       "      <td>True</td>\n",
       "    </tr>\n",
       "    <tr>\n",
       "      <th>1</th>\n",
       "      <td>6iYb2HFDywm3zjuRg0shjw</td>\n",
       "      <td>4.0</td>\n",
       "      <td>86</td>\n",
       "      <td>Gastropubs, Food, Beer Gardens, Restaurants, B...</td>\n",
       "      <td>Q_CZIvnsDHjpls-EPzzG7Q</td>\n",
       "      <td>Went there about 1 PM on a Monday.  It wasn't ...</td>\n",
       "      <td>2</td>\n",
       "      <td>True</td>\n",
       "      <td>free</td>\n",
       "      <td>True</td>\n",
       "      <td>...</td>\n",
       "      <td>beer_and_wine</td>\n",
       "      <td>{'dessert': False, 'latenight': False, 'lunch'...</td>\n",
       "      <td>False</td>\n",
       "      <td>True</td>\n",
       "      <td>average</td>\n",
       "      <td>casual</td>\n",
       "      <td>None</td>\n",
       "      <td>None</td>\n",
       "      <td>None</td>\n",
       "      <td>True</td>\n",
       "    </tr>\n",
       "    <tr>\n",
       "      <th>2</th>\n",
       "      <td>6iYb2HFDywm3zjuRg0shjw</td>\n",
       "      <td>4.0</td>\n",
       "      <td>86</td>\n",
       "      <td>Gastropubs, Food, Beer Gardens, Restaurants, B...</td>\n",
       "      <td>rqxTSFFj5fZNmabY1fmTlw</td>\n",
       "      <td>This was the place the be on Friday Night! If ...</td>\n",
       "      <td>5</td>\n",
       "      <td>True</td>\n",
       "      <td>free</td>\n",
       "      <td>True</td>\n",
       "      <td>...</td>\n",
       "      <td>beer_and_wine</td>\n",
       "      <td>{'dessert': False, 'latenight': False, 'lunch'...</td>\n",
       "      <td>False</td>\n",
       "      <td>True</td>\n",
       "      <td>average</td>\n",
       "      <td>casual</td>\n",
       "      <td>None</td>\n",
       "      <td>None</td>\n",
       "      <td>None</td>\n",
       "      <td>True</td>\n",
       "    </tr>\n",
       "    <tr>\n",
       "      <th>3</th>\n",
       "      <td>6iYb2HFDywm3zjuRg0shjw</td>\n",
       "      <td>4.0</td>\n",
       "      <td>86</td>\n",
       "      <td>Gastropubs, Food, Beer Gardens, Restaurants, B...</td>\n",
       "      <td>vNPxlt5f50q0e2nVAScW3Q</td>\n",
       "      <td>Went to this place with my family over the wee...</td>\n",
       "      <td>4</td>\n",
       "      <td>True</td>\n",
       "      <td>free</td>\n",
       "      <td>True</td>\n",
       "      <td>...</td>\n",
       "      <td>beer_and_wine</td>\n",
       "      <td>{'dessert': False, 'latenight': False, 'lunch'...</td>\n",
       "      <td>False</td>\n",
       "      <td>True</td>\n",
       "      <td>average</td>\n",
       "      <td>casual</td>\n",
       "      <td>None</td>\n",
       "      <td>None</td>\n",
       "      <td>None</td>\n",
       "      <td>True</td>\n",
       "    </tr>\n",
       "    <tr>\n",
       "      <th>4</th>\n",
       "      <td>6iYb2HFDywm3zjuRg0shjw</td>\n",
       "      <td>4.0</td>\n",
       "      <td>86</td>\n",
       "      <td>Gastropubs, Food, Beer Gardens, Restaurants, B...</td>\n",
       "      <td>eXRC79iX60xwA1UuGRuWNg</td>\n",
       "      <td>Stopped on a midweek afternoon, and so glad th...</td>\n",
       "      <td>4</td>\n",
       "      <td>True</td>\n",
       "      <td>free</td>\n",
       "      <td>True</td>\n",
       "      <td>...</td>\n",
       "      <td>beer_and_wine</td>\n",
       "      <td>{'dessert': False, 'latenight': False, 'lunch'...</td>\n",
       "      <td>False</td>\n",
       "      <td>True</td>\n",
       "      <td>average</td>\n",
       "      <td>casual</td>\n",
       "      <td>None</td>\n",
       "      <td>None</td>\n",
       "      <td>None</td>\n",
       "      <td>True</td>\n",
       "    </tr>\n",
       "  </tbody>\n",
       "</table>\n",
       "<p>5 rows × 32 columns</p>\n",
       "</div>"
      ],
      "text/plain": [
       "              business_id  business_stars  review_count  \\\n",
       "0  6iYb2HFDywm3zjuRg0shjw             4.0            86   \n",
       "1  6iYb2HFDywm3zjuRg0shjw             4.0            86   \n",
       "2  6iYb2HFDywm3zjuRg0shjw             4.0            86   \n",
       "3  6iYb2HFDywm3zjuRg0shjw             4.0            86   \n",
       "4  6iYb2HFDywm3zjuRg0shjw             4.0            86   \n",
       "\n",
       "                                          categories                 user_id  \\\n",
       "0  Gastropubs, Food, Beer Gardens, Restaurants, B...  93z0yh-sUpGZS-cSKu6xxA   \n",
       "1  Gastropubs, Food, Beer Gardens, Restaurants, B...  Q_CZIvnsDHjpls-EPzzG7Q   \n",
       "2  Gastropubs, Food, Beer Gardens, Restaurants, B...  rqxTSFFj5fZNmabY1fmTlw   \n",
       "3  Gastropubs, Food, Beer Gardens, Restaurants, B...  vNPxlt5f50q0e2nVAScW3Q   \n",
       "4  Gastropubs, Food, Beer Gardens, Restaurants, B...  eXRC79iX60xwA1UuGRuWNg   \n",
       "\n",
       "                                                text  review_stars  \\\n",
       "0  Stopped in on a busy Friday night. Despite the...             5   \n",
       "1  Went there about 1 PM on a Monday.  It wasn't ...             2   \n",
       "2  This was the place the be on Friday Night! If ...             5   \n",
       "3  Went to this place with my family over the wee...             4   \n",
       "4  Stopped on a midweek afternoon, and so glad th...             4   \n",
       "\n",
       "  restaurants_table_service  wifi bike_parking  ...        alcohol  \\\n",
       "0                      True  free         True  ...  beer_and_wine   \n",
       "1                      True  free         True  ...  beer_and_wine   \n",
       "2                      True  free         True  ...  beer_and_wine   \n",
       "3                      True  free         True  ...  beer_and_wine   \n",
       "4                      True  free         True  ...  beer_and_wine   \n",
       "\n",
       "                                       good_for_meal dogs_allowed  \\\n",
       "0  {'dessert': False, 'latenight': False, 'lunch'...        False   \n",
       "1  {'dessert': False, 'latenight': False, 'lunch'...        False   \n",
       "2  {'dessert': False, 'latenight': False, 'lunch'...        False   \n",
       "3  {'dessert': False, 'latenight': False, 'lunch'...        False   \n",
       "4  {'dessert': False, 'latenight': False, 'lunch'...        False   \n",
       "\n",
       "  restaurants_take_out noise_level restaurants_attire restaurants_delivery  \\\n",
       "0                 True     average             casual                 None   \n",
       "1                 True     average             casual                 None   \n",
       "2                 True     average             casual                 None   \n",
       "3                 True     average             casual                 None   \n",
       "4                 True     average             casual                 None   \n",
       "\n",
       "  good_for_kids good_for_dancing music  \n",
       "0          None             None  True  \n",
       "1          None             None  True  \n",
       "2          None             None  True  \n",
       "3          None             None  True  \n",
       "4          None             None  True  \n",
       "\n",
       "[5 rows x 32 columns]"
      ]
     },
     "execution_count": 4,
     "metadata": {},
     "output_type": "execute_result"
    }
   ],
   "source": [
    "df = pd.DataFrame();\n",
    "with (open('model_data.pickle','rb')) as openfile:\n",
    "    df = pickle.load(openfile)\n",
    "df.head()"
   ]
  },
  {
   "cell_type": "code",
   "execution_count": 5,
   "id": "614824ef",
   "metadata": {},
   "outputs": [],
   "source": [
    "review_data = df[['review_stars','text']].sample(n=10000)"
   ]
  },
  {
   "cell_type": "code",
   "execution_count": 6,
   "id": "36f317ae",
   "metadata": {},
   "outputs": [
    {
     "data": {
      "text/html": [
       "<div>\n",
       "<style scoped>\n",
       "    .dataframe tbody tr th:only-of-type {\n",
       "        vertical-align: middle;\n",
       "    }\n",
       "\n",
       "    .dataframe tbody tr th {\n",
       "        vertical-align: top;\n",
       "    }\n",
       "\n",
       "    .dataframe thead th {\n",
       "        text-align: right;\n",
       "    }\n",
       "</style>\n",
       "<table border=\"1\" class=\"dataframe\">\n",
       "  <thead>\n",
       "    <tr style=\"text-align: right;\">\n",
       "      <th></th>\n",
       "      <th>review_stars</th>\n",
       "      <th>text</th>\n",
       "    </tr>\n",
       "  </thead>\n",
       "  <tbody>\n",
       "    <tr>\n",
       "      <th>4205015</th>\n",
       "      <td>4</td>\n",
       "      <td>Straight from Japan, honest to god donburi mak...</td>\n",
       "    </tr>\n",
       "    <tr>\n",
       "      <th>5839953</th>\n",
       "      <td>1</td>\n",
       "      <td>I was a client and got a \"t shirt\" ... my back...</td>\n",
       "    </tr>\n",
       "    <tr>\n",
       "      <th>2274589</th>\n",
       "      <td>3</td>\n",
       "      <td>One thing I know for sure here is that Yelper ...</td>\n",
       "    </tr>\n",
       "    <tr>\n",
       "      <th>2100610</th>\n",
       "      <td>4</td>\n",
       "      <td>A newer brewery ( at least to me) in the craft...</td>\n",
       "    </tr>\n",
       "    <tr>\n",
       "      <th>4137572</th>\n",
       "      <td>5</td>\n",
       "      <td>Wide variety of Asian dishes, all excellent, w...</td>\n",
       "    </tr>\n",
       "  </tbody>\n",
       "</table>\n",
       "</div>"
      ],
      "text/plain": [
       "         review_stars                                               text\n",
       "4205015             4  Straight from Japan, honest to god donburi mak...\n",
       "5839953             1  I was a client and got a \"t shirt\" ... my back...\n",
       "2274589             3  One thing I know for sure here is that Yelper ...\n",
       "2100610             4  A newer brewery ( at least to me) in the craft...\n",
       "4137572             5  Wide variety of Asian dishes, all excellent, w..."
      ]
     },
     "execution_count": 6,
     "metadata": {},
     "output_type": "execute_result"
    }
   ],
   "source": [
    "review_data.head()"
   ]
  },
  {
   "cell_type": "code",
   "execution_count": 7,
   "id": "8f20cacd",
   "metadata": {},
   "outputs": [
    {
     "data": {
      "text/plain": [
       "dtype('int64')"
      ]
     },
     "execution_count": 7,
     "metadata": {},
     "output_type": "execute_result"
    }
   ],
   "source": [
    "review_data['review_stars'].dtypes"
   ]
  },
  {
   "cell_type": "markdown",
   "id": "5a4997ed",
   "metadata": {},
   "source": [
    "## Modifying the ratings to more simplistic rating\n",
    "Anything less than 3 stars is labels as a bad review while anything 3 or greater is a positive review."
   ]
  },
  {
   "cell_type": "code",
   "execution_count": 8,
   "id": "668fb23a",
   "metadata": {},
   "outputs": [],
   "source": [
    "def simplify_ratings(x):\n",
    "    if x <=2:\n",
    "        x = 0\n",
    "    else:\n",
    "        x = 1\n",
    "    return x\n",
    "review_data['review_stars'] = review_data['review_stars'].apply(lambda x: simplify_ratings(x) )"
   ]
  },
  {
   "cell_type": "code",
   "execution_count": 9,
   "id": "3b90411b",
   "metadata": {},
   "outputs": [
    {
     "data": {
      "text/html": [
       "<div>\n",
       "<style scoped>\n",
       "    .dataframe tbody tr th:only-of-type {\n",
       "        vertical-align: middle;\n",
       "    }\n",
       "\n",
       "    .dataframe tbody tr th {\n",
       "        vertical-align: top;\n",
       "    }\n",
       "\n",
       "    .dataframe thead th {\n",
       "        text-align: right;\n",
       "    }\n",
       "</style>\n",
       "<table border=\"1\" class=\"dataframe\">\n",
       "  <thead>\n",
       "    <tr style=\"text-align: right;\">\n",
       "      <th></th>\n",
       "      <th>review_stars</th>\n",
       "      <th>text</th>\n",
       "    </tr>\n",
       "  </thead>\n",
       "  <tbody>\n",
       "    <tr>\n",
       "      <th>4205015</th>\n",
       "      <td>1</td>\n",
       "      <td>Straight from Japan, honest to god donburi mak...</td>\n",
       "    </tr>\n",
       "    <tr>\n",
       "      <th>5839953</th>\n",
       "      <td>0</td>\n",
       "      <td>I was a client and got a \"t shirt\" ... my back...</td>\n",
       "    </tr>\n",
       "    <tr>\n",
       "      <th>2274589</th>\n",
       "      <td>1</td>\n",
       "      <td>One thing I know for sure here is that Yelper ...</td>\n",
       "    </tr>\n",
       "    <tr>\n",
       "      <th>2100610</th>\n",
       "      <td>1</td>\n",
       "      <td>A newer brewery ( at least to me) in the craft...</td>\n",
       "    </tr>\n",
       "    <tr>\n",
       "      <th>4137572</th>\n",
       "      <td>1</td>\n",
       "      <td>Wide variety of Asian dishes, all excellent, w...</td>\n",
       "    </tr>\n",
       "  </tbody>\n",
       "</table>\n",
       "</div>"
      ],
      "text/plain": [
       "         review_stars                                               text\n",
       "4205015             1  Straight from Japan, honest to god donburi mak...\n",
       "5839953             0  I was a client and got a \"t shirt\" ... my back...\n",
       "2274589             1  One thing I know for sure here is that Yelper ...\n",
       "2100610             1  A newer brewery ( at least to me) in the craft...\n",
       "4137572             1  Wide variety of Asian dishes, all excellent, w..."
      ]
     },
     "execution_count": 9,
     "metadata": {},
     "output_type": "execute_result"
    }
   ],
   "source": [
    "review_data.head()"
   ]
  },
  {
   "cell_type": "markdown",
   "id": "d0d4c5f7",
   "metadata": {},
   "source": [
    "## Splitting data into two\n",
    "I've limited it to a million for performance to produce a proof of concept"
   ]
  },
  {
   "cell_type": "code",
   "execution_count": 10,
   "id": "216a7d8f",
   "metadata": {},
   "outputs": [],
   "source": [
    "text = review_data['text'].values\n",
    "label = review_data['review_stars'].values"
   ]
  },
  {
   "cell_type": "code",
   "execution_count": 11,
   "id": "9cfbd66d",
   "metadata": {},
   "outputs": [
    {
     "data": {
      "text/plain": [
       "(10000,)"
      ]
     },
     "execution_count": 11,
     "metadata": {},
     "output_type": "execute_result"
    }
   ],
   "source": [
    "text.shape"
   ]
  },
  {
   "cell_type": "code",
   "execution_count": 12,
   "id": "be1d7647",
   "metadata": {},
   "outputs": [
    {
     "data": {
      "text/plain": [
       "(10000,)"
      ]
     },
     "execution_count": 12,
     "metadata": {},
     "output_type": "execute_result"
    }
   ],
   "source": [
    "label.shape"
   ]
  },
  {
   "cell_type": "code",
   "execution_count": 13,
   "id": "6d4cc113",
   "metadata": {},
   "outputs": [
    {
     "data": {
      "text/plain": [
       "\"Straight from Japan, honest to god donburi making you feel like you're in a train station somewhere on the main island after work stuffing your face.\\n\\nFresh fish, decent variety and hearty portions.\\n\\nStrictly rice bowls, some pre-packed dinners and assorted onigiri are served here so if you're expecting rolls, you might be disappointed.\\n\\nThere are like 5 chairs in this joint.\""
      ]
     },
     "execution_count": 13,
     "metadata": {},
     "output_type": "execute_result"
    }
   ],
   "source": [
    "text[0]"
   ]
  },
  {
   "cell_type": "code",
   "execution_count": 14,
   "id": "55b5a2f3",
   "metadata": {},
   "outputs": [
    {
     "data": {
      "text/plain": [
       "['train station somewhere',\n",
       " 'strictly rice bowls',\n",
       " 'god donburi making',\n",
       " 'like 5 chairs',\n",
       " 'feel like',\n",
       " 'work stuffing',\n",
       " 'packed dinners',\n",
       " 'main island',\n",
       " 'hearty portions',\n",
       " 'fresh fish',\n",
       " 'expecting rolls',\n",
       " 'decent variety',\n",
       " 'assorted onigiri',\n",
       " 'straight',\n",
       " 'served',\n",
       " 'pre',\n",
       " 'might',\n",
       " 'joint',\n",
       " 'japan',\n",
       " 'honest',\n",
       " 'face',\n",
       " 'disappointed']"
      ]
     },
     "execution_count": 14,
     "metadata": {},
     "output_type": "execute_result"
    }
   ],
   "source": [
    "r = Rake()\n",
    "r.extract_keywords_from_text(text[0])\n",
    "r.get_ranked_phrases()"
   ]
  },
  {
   "cell_type": "code",
   "execution_count": 15,
   "id": "7d0d9719",
   "metadata": {},
   "outputs": [
    {
     "name": "stdout",
     "output_type": "stream",
     "text": [
      "[('This', 'DET'), ('is', 'AUX'), ('a', 'DET'), ('sentence', 'NOUN'), ('.', 'PUNCT')]\n"
     ]
    }
   ],
   "source": [
    "nlp = spacy.load(\"en_core_web_trf\")\n",
    "doc = nlp(\"This is a sentence.\")\n",
    "print([(w.text, w.pos_) for w in doc])"
   ]
  },
  {
   "cell_type": "code",
   "execution_count": 16,
   "id": "2ea6f4ea",
   "metadata": {},
   "outputs": [
    {
     "data": {
      "text/plain": [
       "\"Straight from Japan, honest to god donburi making you feel like you're in a train station somewhere on the main island after work stuffing your face.\\n\\nFresh fish, decent variety and hearty portions.\\n\\nStrictly rice bowls, some pre-packed dinners and assorted onigiri are served here so if you're expecting rolls, you might be disappointed.\\n\\nThere are like 5 chairs in this joint.\""
      ]
     },
     "execution_count": 16,
     "metadata": {},
     "output_type": "execute_result"
    }
   ],
   "source": [
    "text[0]"
   ]
  },
  {
   "cell_type": "code",
   "execution_count": 17,
   "id": "4eb38ee4",
   "metadata": {},
   "outputs": [
    {
     "data": {
      "text/plain": [
       "Straight from Japan, honest to god donburi making you feel like you're in a train station somewhere on the main island after work stuffing your face.\n",
       "\n",
       "Fresh fish, decent variety and hearty portions.\n",
       "\n",
       "Strictly rice bowls, some pre-packed dinners and assorted onigiri are served here so if you're expecting rolls, you might be disappointed.\n",
       "\n",
       "There are like 5 chairs in this joint."
      ]
     },
     "execution_count": 17,
     "metadata": {},
     "output_type": "execute_result"
    }
   ],
   "source": [
    "parsed_text = nlp(text[0])\n",
    "parsed_text"
   ]
  },
  {
   "cell_type": "code",
   "execution_count": 18,
   "id": "53604cec",
   "metadata": {
    "scrolled": true
   },
   "outputs": [
    {
     "name": "stdout",
     "output_type": "stream",
     "text": [
      "0 : Straight from Japan, honest to god donburi making you feel like you're in a train station somewhere on the main island after work stuffing your face.\n",
      "1 : \n",
      "\n",
      "Fresh fish, decent variety and hearty portions.\n",
      "2 : \n",
      "\n",
      "Strictly rice bowls, some pre-packed dinners and assorted onigiri are served here so if you're expecting rolls, you might be disappointed.\n",
      "3 : \n",
      "\n",
      "There are like 5 chairs in this joint.\n"
     ]
    }
   ],
   "source": [
    "for i,sentance in enumerate(parsed_text.sents):\n",
    "    print(i,':',sentance)"
   ]
  },
  {
   "cell_type": "code",
   "execution_count": 19,
   "id": "19905362",
   "metadata": {},
   "outputs": [
    {
     "name": "stdout",
     "output_type": "stream",
     "text": [
      "Entity 1: first - ORDINAL\n",
      "Entity 2: same day - DATE\n",
      "Entity 3: the following day - DATE\n",
      "Entity 4: tomorrow - DATE\n",
      "Entity 5: tomorrow - DATE\n",
      "Entity 6: Woolite - PRODUCT\n",
      "Entity 7: Almost $50 - MONEY\n"
     ]
    }
   ],
   "source": [
    "for num, entity in enumerate(nlp(text[10]).ents):\n",
    "    print ('Entity {}:'.format(num + 1), entity, '-', entity.label_)"
   ]
  },
  {
   "cell_type": "code",
   "execution_count": 20,
   "id": "7110c355",
   "metadata": {},
   "outputs": [
    {
     "data": {
      "text/html": [
       "<div>\n",
       "<style scoped>\n",
       "    .dataframe tbody tr th:only-of-type {\n",
       "        vertical-align: middle;\n",
       "    }\n",
       "\n",
       "    .dataframe tbody tr th {\n",
       "        vertical-align: top;\n",
       "    }\n",
       "\n",
       "    .dataframe thead th {\n",
       "        text-align: right;\n",
       "    }\n",
       "</style>\n",
       "<table border=\"1\" class=\"dataframe\">\n",
       "  <thead>\n",
       "    <tr style=\"text-align: right;\">\n",
       "      <th></th>\n",
       "      <th>token</th>\n",
       "      <th>pos</th>\n",
       "    </tr>\n",
       "  </thead>\n",
       "  <tbody>\n",
       "    <tr>\n",
       "      <th>0</th>\n",
       "      <td>It</td>\n",
       "      <td>PRON</td>\n",
       "    </tr>\n",
       "    <tr>\n",
       "      <th>1</th>\n",
       "      <td>is</td>\n",
       "      <td>AUX</td>\n",
       "    </tr>\n",
       "    <tr>\n",
       "      <th>2</th>\n",
       "      <td>my</td>\n",
       "      <td>PRON</td>\n",
       "    </tr>\n",
       "    <tr>\n",
       "      <th>3</th>\n",
       "      <td>first</td>\n",
       "      <td>ADJ</td>\n",
       "    </tr>\n",
       "    <tr>\n",
       "      <th>4</th>\n",
       "      <td>time</td>\n",
       "      <td>NOUN</td>\n",
       "    </tr>\n",
       "  </tbody>\n",
       "</table>\n",
       "</div>"
      ],
      "text/plain": [
       "   token   pos\n",
       "0     It  PRON\n",
       "1     is   AUX\n",
       "2     my  PRON\n",
       "3  first   ADJ\n",
       "4   time  NOUN"
      ]
     },
     "execution_count": 20,
     "metadata": {},
     "output_type": "execute_result"
    }
   ],
   "source": [
    "token_pos = [token.pos_ for token in nlp(text[10])]\n",
    "tokens = [token for token in nlp(text[10])]\n",
    "sd = list(zip(tokens,token_pos))\n",
    "sd = pd.DataFrame(sd,columns=['token','pos'])\n",
    "sd.head()"
   ]
  },
  {
   "cell_type": "code",
   "execution_count": 21,
   "id": "d8353140",
   "metadata": {},
   "outputs": [],
   "source": [
    "max_num_words = 1000\n",
    "max_seq_length = 100\n",
    "tokenizer = Tokenizer(num_words=max_num_words)"
   ]
  },
  {
   "cell_type": "code",
   "execution_count": 22,
   "id": "62a0ae07",
   "metadata": {},
   "outputs": [],
   "source": [
    "tokenizer.fit_on_texts(text)\n",
    "sequences = tokenizer.texts_to_sequences(text)\n",
    "word_index = tokenizer.word_index"
   ]
  },
  {
   "cell_type": "code",
   "execution_count": 23,
   "id": "6125edd5",
   "metadata": {},
   "outputs": [
    {
     "data": {
      "text/plain": [
       "28679"
      ]
     },
     "execution_count": 23,
     "metadata": {},
     "output_type": "execute_result"
    }
   ],
   "source": [
    "len(word_index)"
   ]
  },
  {
   "cell_type": "code",
   "execution_count": 24,
   "id": "956c24d5",
   "metadata": {},
   "outputs": [
    {
     "data": {
      "text/plain": [
       "array([[  0,   0,   0, ..., 134,  11,  15],\n",
       "       [  0,   0,   0, ...,  16,  27, 589],\n",
       "       [  0,   0,   0, ...,  10,   4, 107],\n",
       "       ...,\n",
       "       [121, 161,  33, ...,  57,   5, 150],\n",
       "       [  0,   0,   0, ...,   1, 340, 184],\n",
       "       [  0,   0,   0, ...,  10, 167,  28]])"
      ]
     },
     "execution_count": 24,
     "metadata": {},
     "output_type": "execute_result"
    }
   ],
   "source": [
    "padded_text = pad_sequences(sequences, maxlen=max_seq_length)\n",
    "padded_text"
   ]
  },
  {
   "cell_type": "code",
   "execution_count": 25,
   "id": "71a3fe06",
   "metadata": {},
   "outputs": [
    {
     "data": {
      "text/plain": [
       "(10000, 100)"
      ]
     },
     "execution_count": 25,
     "metadata": {},
     "output_type": "execute_result"
    }
   ],
   "source": [
    "padded_text.shape"
   ]
  },
  {
   "cell_type": "code",
   "execution_count": 26,
   "id": "4f319d4f",
   "metadata": {},
   "outputs": [],
   "source": [
    "label = tf.keras.utils.to_categorical(\n",
    "    np.asarray(label)\n",
    ")"
   ]
  },
  {
   "cell_type": "code",
   "execution_count": 27,
   "id": "a58dbf0c",
   "metadata": {},
   "outputs": [
    {
     "data": {
      "text/plain": [
       "(10000, 2)"
      ]
     },
     "execution_count": 27,
     "metadata": {},
     "output_type": "execute_result"
    }
   ],
   "source": [
    "label.shape"
   ]
  },
  {
   "cell_type": "code",
   "execution_count": 28,
   "id": "392cc28f",
   "metadata": {},
   "outputs": [],
   "source": [
    "validation_split = 0.2\n",
    "indices = np.arange(text.shape[0])\n",
    "np.random.shuffle(indices)"
   ]
  },
  {
   "cell_type": "code",
   "execution_count": 29,
   "id": "61eb9c86",
   "metadata": {},
   "outputs": [
    {
     "data": {
      "text/plain": [
       "array([[  0,   0,   0, ...,   1,  55, 645],\n",
       "       [  0,   0,   0, ..., 159, 390,   8],\n",
       "       [  0,   0,   0, ...,   9, 267, 590],\n",
       "       ...,\n",
       "       [ 23,  56, 179, ...,  15,  32, 115],\n",
       "       [  0,   0,   0, ...,   1,   7, 755],\n",
       "       [  0,   0,   0, ...,  79,  11, 455]])"
      ]
     },
     "execution_count": 29,
     "metadata": {},
     "output_type": "execute_result"
    }
   ],
   "source": [
    "padded_text = padded_text[indices]\n",
    "padded_text"
   ]
  },
  {
   "cell_type": "code",
   "execution_count": 30,
   "id": "bb03bfe5",
   "metadata": {},
   "outputs": [
    {
     "data": {
      "text/plain": [
       "array([[0., 1.],\n",
       "       [0., 1.],\n",
       "       [0., 1.],\n",
       "       ...,\n",
       "       [1., 0.],\n",
       "       [1., 0.],\n",
       "       [0., 1.]], dtype=float32)"
      ]
     },
     "execution_count": 30,
     "metadata": {},
     "output_type": "execute_result"
    }
   ],
   "source": [
    "label = label[indices]\n",
    "label"
   ]
  },
  {
   "cell_type": "code",
   "execution_count": 31,
   "id": "5bbcc94a",
   "metadata": {},
   "outputs": [
    {
     "data": {
      "text/plain": [
       "2000"
      ]
     },
     "execution_count": 31,
     "metadata": {},
     "output_type": "execute_result"
    }
   ],
   "source": [
    "nb_validation_samples = int(validation_split*text.shape[0])\n",
    "nb_validation_samples"
   ]
  },
  {
   "cell_type": "markdown",
   "id": "9327ce8b",
   "metadata": {},
   "source": [
    "## Splitting Data"
   ]
  },
  {
   "cell_type": "code",
   "execution_count": 44,
   "id": "f78d1ffa",
   "metadata": {},
   "outputs": [],
   "source": [
    "x_train = padded_text[:-nb_validation_samples]\n",
    "y_train = label[:-nb_validation_samples]\n",
    "x_val = padded_text[-nb_validation_samples:]\n",
    "y_val = label[-nb_validation_samples:]"
   ]
  },
  {
   "cell_type": "code",
   "execution_count": 33,
   "id": "da9b1310",
   "metadata": {},
   "outputs": [],
   "source": [
    "X_train, X_test, y_train,y_test = train_test_split(text,label,test_size=0.3, random_state=42)"
   ]
  },
  {
   "cell_type": "markdown",
   "id": "efdd1ce4",
   "metadata": {},
   "source": [
    "## Utilizing Glove for Embedding"
   ]
  },
  {
   "cell_type": "code",
   "execution_count": 34,
   "id": "0991558b",
   "metadata": {},
   "outputs": [],
   "source": [
    "glove_dir = './glove/'"
   ]
  },
  {
   "cell_type": "code",
   "execution_count": 35,
   "id": "029c7d2e",
   "metadata": {},
   "outputs": [
    {
     "name": "stdout",
     "output_type": "stream",
     "text": [
      "found word vecs:  400000\n"
     ]
    }
   ],
   "source": [
    "embedding_index = {}\n",
    "\n",
    "f = open(os.path.join(glove_dir,'glove.6B.50d.txt'),encoding=\"utf8\")\n",
    "\n",
    "for line in f:\n",
    "    values = line.split()\n",
    "    word = values[0]\n",
    "    coefs = np.asarray(values[1:],dtype='float32')\n",
    "    embedding_index[word] = coefs\n",
    "f.close()\n",
    "\n",
    "print('found word vecs: ',len(embedding_index))"
   ]
  },
  {
   "cell_type": "code",
   "execution_count": 36,
   "id": "96e7933f",
   "metadata": {},
   "outputs": [
    {
     "data": {
      "text/plain": [
       "(28680, 50)"
      ]
     },
     "execution_count": 36,
     "metadata": {},
     "output_type": "execute_result"
    }
   ],
   "source": [
    "embedding_dim = 50\n",
    "embedding_matrix = np.zeros((len(word_index)+1,embedding_dim))\n",
    "embedding_matrix.shape"
   ]
  },
  {
   "cell_type": "code",
   "execution_count": 37,
   "id": "36bad1c4",
   "metadata": {},
   "outputs": [],
   "source": [
    "for word,i in word_index.items():\n",
    "    embedding_vector = embedding_index.get(word)\n",
    "    if embedding_vector is not None:\n",
    "        embedding_matrix[i] = embedding_vector"
   ]
  },
  {
   "cell_type": "markdown",
   "id": "99c91993",
   "metadata": {},
   "source": [
    "## Creating Layers and Model"
   ]
  },
  {
   "cell_type": "code",
   "execution_count": 38,
   "id": "e2b2496a",
   "metadata": {},
   "outputs": [],
   "source": [
    "\n",
    "embedding_layer = Embedding(len(word_index)+1,embedding_dim,weights=[embedding_matrix],input_length=max_seq_length,trainable=False)"
   ]
  },
  {
   "cell_type": "code",
   "execution_count": 40,
   "id": "7906f4c7",
   "metadata": {},
   "outputs": [],
   "source": [
    "inp = Input(shape=(max_seq_length,))\n",
    "x = embedding_layer(inp)\n",
    "x = Bidirectional(LSTM(50,return_sequences=True,dropout=0.1,recurrent_dropout=0.1))(x)\n",
    "x = GlobalMaxPool1D()(x)\n",
    "x = Dense(50,activation='relu')(x)\n",
    "x = Dropout(0.1)(x)\n",
    "x = Dense(2,activation='sigmoid')(x)\n",
    "model = Model(inputs=inp,outputs=x)"
   ]
  },
  {
   "cell_type": "code",
   "execution_count": 41,
   "id": "7fded71f",
   "metadata": {},
   "outputs": [],
   "source": [
    "model.compile(optimizer='adam',loss='binary_crossentropy',metrics=['accuracy'])"
   ]
  },
  {
   "cell_type": "code",
   "execution_count": 45,
   "id": "3b2676cf",
   "metadata": {},
   "outputs": [
    {
     "name": "stdout",
     "output_type": "stream",
     "text": [
      "(8000, 100)\n",
      "(8000, 2)\n",
      "(2000, 100)\n",
      "(2000, 2)\n"
     ]
    }
   ],
   "source": [
    "print(x_train.shape)\n",
    "print(y_train.shape)\n",
    "print(x_val.shape)\n",
    "print(y_val.shape)"
   ]
  },
  {
   "cell_type": "markdown",
   "id": "91818563",
   "metadata": {},
   "source": [
    "## Fitting Model"
   ]
  },
  {
   "cell_type": "code",
   "execution_count": 46,
   "id": "b9f505cc",
   "metadata": {},
   "outputs": [
    {
     "name": "stdout",
     "output_type": "stream",
     "text": [
      "Epoch 1/20\n",
      "8/8 [==============================] - 34s 1s/step - loss: 0.6053 - accuracy: 0.7613 - val_loss: 0.5258 - val_accuracy: 0.7805\n",
      "Epoch 2/20\n",
      "8/8 [==============================] - 10s 1s/step - loss: 0.5443 - accuracy: 0.7698 - val_loss: 0.5127 - val_accuracy: 0.7805\n",
      "Epoch 3/20\n",
      "8/8 [==============================] - 10s 1s/step - loss: 0.5214 - accuracy: 0.7725 - val_loss: 0.4966 - val_accuracy: 0.7805\n",
      "Epoch 4/20\n",
      "8/8 [==============================] - 10s 1s/step - loss: 0.5037 - accuracy: 0.7729 - val_loss: 0.4742 - val_accuracy: 0.7805\n",
      "Epoch 5/20\n",
      "8/8 [==============================] - 10s 1s/step - loss: 0.4843 - accuracy: 0.7696 - val_loss: 0.4452 - val_accuracy: 0.7945\n",
      "Epoch 6/20\n",
      "8/8 [==============================] - 10s 1s/step - loss: 0.4456 - accuracy: 0.7945 - val_loss: 0.4293 - val_accuracy: 0.8080\n",
      "Epoch 7/20\n",
      "8/8 [==============================] - 11s 1s/step - loss: 0.4225 - accuracy: 0.8174 - val_loss: 0.4017 - val_accuracy: 0.8285\n",
      "Epoch 8/20\n",
      "8/8 [==============================] - 11s 1s/step - loss: 0.4042 - accuracy: 0.8195 - val_loss: 0.3884 - val_accuracy: 0.8255\n",
      "Epoch 9/20\n",
      "8/8 [==============================] - 11s 1s/step - loss: 0.3877 - accuracy: 0.8287 - val_loss: 0.3710 - val_accuracy: 0.8365\n",
      "Epoch 10/20\n",
      "8/8 [==============================] - 11s 1s/step - loss: 0.3682 - accuracy: 0.8392 - val_loss: 0.3719 - val_accuracy: 0.8280\n",
      "Epoch 11/20\n",
      "8/8 [==============================] - 11s 1s/step - loss: 0.3605 - accuracy: 0.8372 - val_loss: 0.3578 - val_accuracy: 0.8380\n",
      "Epoch 12/20\n",
      "8/8 [==============================] - 11s 1s/step - loss: 0.3571 - accuracy: 0.8434 - val_loss: 0.3488 - val_accuracy: 0.8465\n",
      "Epoch 13/20\n",
      "8/8 [==============================] - 11s 1s/step - loss: 0.3565 - accuracy: 0.8385 - val_loss: 0.3507 - val_accuracy: 0.8415\n",
      "Epoch 14/20\n",
      "8/8 [==============================] - 11s 1s/step - loss: 0.3424 - accuracy: 0.8537 - val_loss: 0.3355 - val_accuracy: 0.8525\n",
      "Epoch 15/20\n",
      "8/8 [==============================] - 12s 1s/step - loss: 0.3415 - accuracy: 0.8430 - val_loss: 0.3299 - val_accuracy: 0.8585\n",
      "Epoch 16/20\n",
      "8/8 [==============================] - 12s 1s/step - loss: 0.3318 - accuracy: 0.8546 - val_loss: 0.3261 - val_accuracy: 0.8650\n",
      "Epoch 17/20\n",
      "8/8 [==============================] - 12s 1s/step - loss: 0.3282 - accuracy: 0.8554 - val_loss: 0.3281 - val_accuracy: 0.8550\n",
      "Epoch 18/20\n",
      "8/8 [==============================] - 11s 1s/step - loss: 0.3174 - accuracy: 0.8624 - val_loss: 0.3282 - val_accuracy: 0.8550\n",
      "Epoch 19/20\n",
      "8/8 [==============================] - 11s 1s/step - loss: 0.3203 - accuracy: 0.8599 - val_loss: 0.3156 - val_accuracy: 0.8635\n",
      "Epoch 20/20\n",
      "8/8 [==============================] - 11s 1s/step - loss: 0.3169 - accuracy: 0.8665 - val_loss: 0.3141 - val_accuracy: 0.8625\n"
     ]
    }
   ],
   "source": [
    "model.fit(x_train,y_train,validation_data=(x_val,y_val),epochs=20,batch_size=1000, verbose=1);"
   ]
  },
  {
   "cell_type": "code",
   "execution_count": 108,
   "id": "d07b8aea",
   "metadata": {},
   "outputs": [
    {
     "ename": "NameError",
     "evalue": "name 'self' is not defined",
     "output_type": "error",
     "traceback": [
      "\u001b[1;31m---------------------------------------------------------------------------\u001b[0m",
      "\u001b[1;31mNameError\u001b[0m                                 Traceback (most recent call last)",
      "\u001b[1;32m<ipython-input-108-d127d7614f04>\u001b[0m in \u001b[0;36m<module>\u001b[1;34m\u001b[0m\n\u001b[1;32m----> 1\u001b[1;33m \u001b[0mModel\u001b[0m\u001b[1;33m.\u001b[0m\u001b[0msummary\u001b[0m\u001b[1;33m(\u001b[0m\u001b[0mself\u001b[0m\u001b[1;33m,\u001b[0m \u001b[0mline_length\u001b[0m\u001b[1;33m=\u001b[0m\u001b[1;32mNone\u001b[0m\u001b[1;33m,\u001b[0m \u001b[0mpositions\u001b[0m\u001b[1;33m=\u001b[0m\u001b[1;32mNone\u001b[0m\u001b[1;33m,\u001b[0m \u001b[0mprint_fn\u001b[0m\u001b[1;33m=\u001b[0m\u001b[1;32mNone\u001b[0m\u001b[1;33m)\u001b[0m\u001b[1;33m\u001b[0m\u001b[1;33m\u001b[0m\u001b[0m\n\u001b[0m",
      "\u001b[1;31mNameError\u001b[0m: name 'self' is not defined"
     ]
    }
   ],
   "source": [
    "Model.summary(self, line_length=None, positions=None, print_fn=None)"
   ]
  },
  {
   "cell_type": "code",
   "execution_count": 47,
   "id": "85c36237",
   "metadata": {},
   "outputs": [
    {
     "name": "stdout",
     "output_type": "stream",
     "text": [
      "63/63 [==============================] - 2s 11ms/step - loss: 0.3141 - accuracy: 0.8625\n"
     ]
    },
    {
     "data": {
      "text/plain": [
       "[0.31406673789024353, 0.862500011920929]"
      ]
     },
     "execution_count": 47,
     "metadata": {},
     "output_type": "execute_result"
    }
   ],
   "source": [
    "score = model.evaluate(x_val,y_val)\n",
    "score"
   ]
  },
  {
   "cell_type": "code",
   "execution_count": 48,
   "id": "76457725",
   "metadata": {},
   "outputs": [
    {
     "data": {
      "text/plain": [
       "86.2500011920929"
      ]
     },
     "execution_count": 48,
     "metadata": {},
     "output_type": "execute_result"
    }
   ],
   "source": [
    "score[1]*100"
   ]
  },
  {
   "cell_type": "code",
   "execution_count": 97,
   "id": "450b303a",
   "metadata": {},
   "outputs": [
    {
     "name": "stdout",
     "output_type": "stream",
     "text": [
      "              precision    recall  f1-score   support\n",
      "\n",
      "    negative       0.69      0.67      0.68       439\n",
      "    positive       0.91      0.92      0.91      1561\n",
      "\n",
      "    accuracy                           0.86      2000\n",
      "   macro avg       0.80      0.79      0.80      2000\n",
      "weighted avg       0.86      0.86      0.86      2000\n",
      "\n"
     ]
    },
    {
     "data": {
      "text/html": [
       "<style  type=\"text/css\" >\n",
       "#T_276c9_row0_col0,#T_276c9_row1_col1{\n",
       "            background-color:  #08306b;\n",
       "            color:  #f1f1f1;\n",
       "        }#T_276c9_row0_col1,#T_276c9_row1_col0{\n",
       "            background-color:  #f7fbff;\n",
       "            color:  #000000;\n",
       "        }</style><table id=\"T_276c9_\" ><thead>    <tr>        <th class=\"blank level0\" ></th>        <th class=\"col_heading level0 col0\" >Predicted Negative</th>        <th class=\"col_heading level0 col1\" >Predicted Positive</th>    </tr></thead><tbody>\n",
       "                <tr>\n",
       "                        <th id=\"T_276c9_level0_row0\" class=\"row_heading level0 row0\" >Actual Negative</th>\n",
       "                        <td id=\"T_276c9_row0_col0\" class=\"data row0 col0\" >293</td>\n",
       "                        <td id=\"T_276c9_row0_col1\" class=\"data row0 col1\" >146</td>\n",
       "            </tr>\n",
       "            <tr>\n",
       "                        <th id=\"T_276c9_level0_row1\" class=\"row_heading level0 row1\" >Actual Positive</th>\n",
       "                        <td id=\"T_276c9_row1_col0\" class=\"data row1 col0\" >129</td>\n",
       "                        <td id=\"T_276c9_row1_col1\" class=\"data row1 col1\" >1432</td>\n",
       "            </tr>\n",
       "    </tbody></table>"
      ],
      "text/plain": [
       "<pandas.io.formats.style.Styler at 0x1f0ea60cbe0>"
      ]
     },
     "execution_count": 97,
     "metadata": {},
     "output_type": "execute_result"
    }
   ],
   "source": [
    "y_pred = model.predict(x_val)\n",
    "\n",
    "test_data = pd.DataFrame()\n",
    "\n",
    "y_val_min = y_val.argmax(axis=1)\n",
    "y_pred_min = y_pred.argmax(axis=1)\n",
    "\n",
    "test_data['sentiment'] = y_val_min\n",
    "test_data['sentiment'] = test_data['sentiment'].apply(lambda x: str(x))\n",
    "test_data['sentiment'] = np.where((test_data.sentiment=='0'),'negative',test_data.sentiment)\n",
    "test_data['sentiment'] = np.where((test_data.sentiment=='1'),'positive',test_data.sentiment)\n",
    "\n",
    "test_data['pred_sentiment'] = y_pred_min\n",
    "test_data['pred_sentiment'] = test_data['pred_sentiment'].apply(lambda x: str(x))\n",
    "test_data['pred_sentiment'] = np.where((test_data.pred_sentiment=='0'),'negative',test_data.pred_sentiment)\n",
    "test_data['pred_sentiment'] = np.where((test_data.pred_sentiment=='1'),'positive',test_data.pred_sentiment)\n",
    "\n",
    "labels = ['negative', 'positive']\n",
    "\n",
    "\n",
    "print(classification_report(test_data['sentiment'],test_data['pred_sentiment'], labels=labels))\n",
    "\n",
    "confusion_matrix(test_data['sentiment'],test_data['pred_sentiment'], labels=labels)\n",
    "df_matrix=pd.DataFrame(confusion_matrix(test_data['sentiment'], test_data['pred_sentiment']), \n",
    "             columns=[\"Predicted Negative\", \"Predicted Positive\"], \n",
    "             index=[\"Actual Negative\", \"Actual Positive\"])\n",
    "df_matrix.style.background_gradient(cmap='Blues')"
   ]
  },
  {
   "cell_type": "code",
   "execution_count": 79,
   "id": "8af3833c",
   "metadata": {},
   "outputs": [],
   "source": [
    "reviews = [\n",
    "    # NEG\n",
    "    '',\n",
    "    \n",
    "    'A great survival-on-an-island movie. Tom Hanks is superb. A sad story, but one that most people will like.',\n",
    "    \n",
    "    # NEG\n",
    "    'No one asked for Mary Poppinss return to modern consciousness, but her reappearance unmistakably proves that Hollywood Boomers are desperate to justify their own mediocrity through nostalgic sentiment',\n",
    "    \n",
    "    '\"Cast Away\" is an exceptionally well-crafted exploration of the survival of the human spirit. Its a movie unafraid to consider the full complexity of life.',\n",
    "    \n",
    "    'Somewhat entertaining especially with a lot of the unintended comedy. At times very tedious and the main concept of the film was completely lost.',\n",
    "    # NEG\n",
    "    'The film shows shallow -- fake -- empathy with the Appalachian background that begins Vances humble brag about leaving backwoods hollers and winding up at Yale University',\n",
    "    \n",
    "    'A great movie that shows the progress of human development through Tom Hanks character while he is stranded on the desert island. But...all that is overshadowed by Wilson, who will remain in our hearts for all eternity.',\n",
    "    # NEG\n",
    "    'Trash like Red Sparrow, the Jennifer Lawrence spy movie, represents the garbagey essence of most Hollywood movies',\n",
    "    \n",
    "    'Probably one of the best disaster emotional films ever. A classic game of survival that is played absolutely perfectly.',\n",
    "    # NEG\n",
    "    'The film disastrously focuses on Udays outrages and does so without any moral perspective. \"Rape, torture, disembowelment, killing, drinking, drugs and decadence\" is practically the films synopsis',]"
   ]
  },
  {
   "cell_type": "code",
   "execution_count": 80,
   "id": "fadb712a",
   "metadata": {},
   "outputs": [],
   "source": [
    "tokenizer.fit_on_texts(reviews)\n",
    "padded_text = pad_sequences(tokenizer.texts_to_sequences(reviews), maxlen=max_seq_length)"
   ]
  },
  {
   "cell_type": "code",
   "execution_count": 99,
   "id": "2fb60b23",
   "metadata": {},
   "outputs": [],
   "source": [
    "res = model.predict(padded_text)"
   ]
  },
  {
   "cell_type": "code",
   "execution_count": 100,
   "id": "0a5d9908",
   "metadata": {},
   "outputs": [
    {
     "name": "stdout",
     "output_type": "stream",
     "text": [
      "Positive Review\n",
      "Positive Review\n",
      "Negative Review\n",
      "Positive Review\n",
      "Positive Review\n",
      "Positive Review\n",
      "Positive Review\n",
      "Negative Review\n",
      "Positive Review\n",
      "Positive Review\n"
     ]
    }
   ],
   "source": [
    "for x in res:\n",
    "    if x[1] > .5:\n",
    "        print(f'Positive Review')\n",
    "    else:\n",
    "        print(f'Negative Review')"
   ]
  },
  {
   "cell_type": "code",
   "execution_count": 109,
   "id": "9115a67a",
   "metadata": {},
   "outputs": [],
   "source": [
    "model.save('review_model.h5')"
   ]
  },
  {
   "cell_type": "code",
   "execution_count": 110,
   "id": "e0c56e0b",
   "metadata": {},
   "outputs": [],
   "source": [
    "from keras.models import load_model\n",
    "loaded_model = load_model('review_model.h5')"
   ]
  },
  {
   "cell_type": "code",
   "execution_count": 111,
   "id": "4d8267c0",
   "metadata": {},
   "outputs": [
    {
     "name": "stdout",
     "output_type": "stream",
     "text": [
      "63/63 [==============================] - 2s 10ms/step - loss: 0.3141 - accuracy: 0.8625\n"
     ]
    },
    {
     "data": {
      "text/plain": [
       "[0.31406673789024353, 0.862500011920929]"
      ]
     },
     "execution_count": 111,
     "metadata": {},
     "output_type": "execute_result"
    }
   ],
   "source": [
    "score = loaded_model.evaluate(x_val,y_val)\n",
    "score"
   ]
  },
  {
   "cell_type": "code",
   "execution_count": 112,
   "id": "7cb9dfba",
   "metadata": {},
   "outputs": [],
   "source": [
    "token = tokenizer.to_json()\n",
    "with open('tokenizer.pickle','wb') as handle:\n",
    "    pickle.dump(token,handle)"
   ]
  },
  {
   "cell_type": "code",
   "execution_count": 113,
   "id": "5be7a826",
   "metadata": {},
   "outputs": [
    {
     "data": {
      "text/plain": [
       "array([[  4, 838,  20, ..., 135,  11,  15],\n",
       "       [  4,  12,  55, ...,  16,  27, 589],\n",
       "       [324,  20, 269, ...,  10,   4, 107],\n",
       "       ...,\n",
       "       [805, 206,  58, ...,  57,   5, 150],\n",
       "       [237,   5,   3, ...,   1, 340, 184],\n",
       "       [202,   4, 174, ...,  10, 167,  28]])"
      ]
     },
     "metadata": {},
     "output_type": "display_data"
    }
   ],
   "source": [
    "with open('tokenizer.pickle', 'rb') as handle:\n",
    "    tokenizer_json = pickle.load(handle)\n",
    "\n",
    "tk = tf.keras.preprocessing.text.tokenizer_from_json(\n",
    "    tokenizer_json\n",
    ")\n",
    "# Getting Sequences for the test data and adding padding accordingly\n",
    "X_seq = pad_sequences(tk.texts_to_sequences(text), maxlen = 36, padding = 'post')\n",
    "display(X_seq)"
   ]
  },
  {
   "cell_type": "code",
   "execution_count": null,
   "id": "9b5e9b49",
   "metadata": {},
   "outputs": [],
   "source": []
  }
 ],
 "metadata": {
  "kernelspec": {
   "display_name": "Python 3",
   "language": "python",
   "name": "python3"
  },
  "language_info": {
   "codemirror_mode": {
    "name": "ipython",
    "version": 3
   },
   "file_extension": ".py",
   "mimetype": "text/x-python",
   "name": "python",
   "nbconvert_exporter": "python",
   "pygments_lexer": "ipython3",
   "version": "3.8.8"
  }
 },
 "nbformat": 4,
 "nbformat_minor": 5
}
