{
 "cells": [
  {
   "cell_type": "code",
   "execution_count": 1,
   "id": "efa0c445",
   "metadata": {},
   "outputs": [],
   "source": [
    "!pip install -q tensorflow-recommenders"
   ]
  },
  {
   "cell_type": "code",
   "execution_count": 2,
   "id": "b90f0847",
   "metadata": {},
   "outputs": [],
   "source": [
    "import os\n",
    "os.environ[\"CUDA_VISIBLE_DEVICES\"] = '-1'"
   ]
  },
  {
   "cell_type": "code",
   "execution_count": 3,
   "id": "e5ab7afb",
   "metadata": {},
   "outputs": [],
   "source": [
    "os.environ['TF_FORCE_GPU_ALLOW_GROWTH'] = 'true'"
   ]
  },
  {
   "cell_type": "code",
   "execution_count": 4,
   "id": "a33bf1e5",
   "metadata": {},
   "outputs": [],
   "source": [
    "from typing import Dict, Text\n",
    "import numpy as np\n",
    "import tensorflow as tf\n",
    "\n",
    "import tensorflow_recommenders as tfrs"
   ]
  },
  {
   "cell_type": "code",
   "execution_count": 5,
   "id": "e3b675e5",
   "metadata": {},
   "outputs": [
    {
     "data": {
      "text/html": [
       "<div>\n",
       "<style scoped>\n",
       "    .dataframe tbody tr th:only-of-type {\n",
       "        vertical-align: middle;\n",
       "    }\n",
       "\n",
       "    .dataframe tbody tr th {\n",
       "        vertical-align: top;\n",
       "    }\n",
       "\n",
       "    .dataframe thead th {\n",
       "        text-align: right;\n",
       "    }\n",
       "</style>\n",
       "<table border=\"1\" class=\"dataframe\">\n",
       "  <thead>\n",
       "    <tr style=\"text-align: right;\">\n",
       "      <th></th>\n",
       "      <th>business_id</th>\n",
       "      <th>business_stars</th>\n",
       "      <th>review_count</th>\n",
       "      <th>categories</th>\n",
       "      <th>user_id</th>\n",
       "      <th>text</th>\n",
       "      <th>review_stars</th>\n",
       "      <th>restaurants_table_service</th>\n",
       "      <th>wifi</th>\n",
       "      <th>bike_parking</th>\n",
       "      <th>...</th>\n",
       "      <th>alcohol</th>\n",
       "      <th>good_for_meal</th>\n",
       "      <th>dogs_allowed</th>\n",
       "      <th>restaurants_take_out</th>\n",
       "      <th>noise_level</th>\n",
       "      <th>restaurants_attire</th>\n",
       "      <th>restaurants_delivery</th>\n",
       "      <th>good_for_kids</th>\n",
       "      <th>good_for_dancing</th>\n",
       "      <th>music</th>\n",
       "    </tr>\n",
       "  </thead>\n",
       "  <tbody>\n",
       "    <tr>\n",
       "      <th>0</th>\n",
       "      <td>6iYb2HFDywm3zjuRg0shjw</td>\n",
       "      <td>4.0</td>\n",
       "      <td>86</td>\n",
       "      <td>Gastropubs, Food, Beer Gardens, Restaurants, B...</td>\n",
       "      <td>93z0yh-sUpGZS-cSKu6xxA</td>\n",
       "      <td>Stopped in on a busy Friday night. Despite the...</td>\n",
       "      <td>5</td>\n",
       "      <td>True</td>\n",
       "      <td>free</td>\n",
       "      <td>True</td>\n",
       "      <td>...</td>\n",
       "      <td>beer_and_wine</td>\n",
       "      <td>{'dessert': False, 'latenight': False, 'lunch'...</td>\n",
       "      <td>False</td>\n",
       "      <td>True</td>\n",
       "      <td>average</td>\n",
       "      <td>casual</td>\n",
       "      <td>None</td>\n",
       "      <td>None</td>\n",
       "      <td>None</td>\n",
       "      <td>True</td>\n",
       "    </tr>\n",
       "    <tr>\n",
       "      <th>1</th>\n",
       "      <td>6iYb2HFDywm3zjuRg0shjw</td>\n",
       "      <td>4.0</td>\n",
       "      <td>86</td>\n",
       "      <td>Gastropubs, Food, Beer Gardens, Restaurants, B...</td>\n",
       "      <td>Q_CZIvnsDHjpls-EPzzG7Q</td>\n",
       "      <td>Went there about 1 PM on a Monday.  It wasn't ...</td>\n",
       "      <td>2</td>\n",
       "      <td>True</td>\n",
       "      <td>free</td>\n",
       "      <td>True</td>\n",
       "      <td>...</td>\n",
       "      <td>beer_and_wine</td>\n",
       "      <td>{'dessert': False, 'latenight': False, 'lunch'...</td>\n",
       "      <td>False</td>\n",
       "      <td>True</td>\n",
       "      <td>average</td>\n",
       "      <td>casual</td>\n",
       "      <td>None</td>\n",
       "      <td>None</td>\n",
       "      <td>None</td>\n",
       "      <td>True</td>\n",
       "    </tr>\n",
       "    <tr>\n",
       "      <th>2</th>\n",
       "      <td>6iYb2HFDywm3zjuRg0shjw</td>\n",
       "      <td>4.0</td>\n",
       "      <td>86</td>\n",
       "      <td>Gastropubs, Food, Beer Gardens, Restaurants, B...</td>\n",
       "      <td>rqxTSFFj5fZNmabY1fmTlw</td>\n",
       "      <td>This was the place the be on Friday Night! If ...</td>\n",
       "      <td>5</td>\n",
       "      <td>True</td>\n",
       "      <td>free</td>\n",
       "      <td>True</td>\n",
       "      <td>...</td>\n",
       "      <td>beer_and_wine</td>\n",
       "      <td>{'dessert': False, 'latenight': False, 'lunch'...</td>\n",
       "      <td>False</td>\n",
       "      <td>True</td>\n",
       "      <td>average</td>\n",
       "      <td>casual</td>\n",
       "      <td>None</td>\n",
       "      <td>None</td>\n",
       "      <td>None</td>\n",
       "      <td>True</td>\n",
       "    </tr>\n",
       "    <tr>\n",
       "      <th>3</th>\n",
       "      <td>6iYb2HFDywm3zjuRg0shjw</td>\n",
       "      <td>4.0</td>\n",
       "      <td>86</td>\n",
       "      <td>Gastropubs, Food, Beer Gardens, Restaurants, B...</td>\n",
       "      <td>vNPxlt5f50q0e2nVAScW3Q</td>\n",
       "      <td>Went to this place with my family over the wee...</td>\n",
       "      <td>4</td>\n",
       "      <td>True</td>\n",
       "      <td>free</td>\n",
       "      <td>True</td>\n",
       "      <td>...</td>\n",
       "      <td>beer_and_wine</td>\n",
       "      <td>{'dessert': False, 'latenight': False, 'lunch'...</td>\n",
       "      <td>False</td>\n",
       "      <td>True</td>\n",
       "      <td>average</td>\n",
       "      <td>casual</td>\n",
       "      <td>None</td>\n",
       "      <td>None</td>\n",
       "      <td>None</td>\n",
       "      <td>True</td>\n",
       "    </tr>\n",
       "    <tr>\n",
       "      <th>4</th>\n",
       "      <td>6iYb2HFDywm3zjuRg0shjw</td>\n",
       "      <td>4.0</td>\n",
       "      <td>86</td>\n",
       "      <td>Gastropubs, Food, Beer Gardens, Restaurants, B...</td>\n",
       "      <td>eXRC79iX60xwA1UuGRuWNg</td>\n",
       "      <td>Stopped on a midweek afternoon, and so glad th...</td>\n",
       "      <td>4</td>\n",
       "      <td>True</td>\n",
       "      <td>free</td>\n",
       "      <td>True</td>\n",
       "      <td>...</td>\n",
       "      <td>beer_and_wine</td>\n",
       "      <td>{'dessert': False, 'latenight': False, 'lunch'...</td>\n",
       "      <td>False</td>\n",
       "      <td>True</td>\n",
       "      <td>average</td>\n",
       "      <td>casual</td>\n",
       "      <td>None</td>\n",
       "      <td>None</td>\n",
       "      <td>None</td>\n",
       "      <td>True</td>\n",
       "    </tr>\n",
       "  </tbody>\n",
       "</table>\n",
       "<p>5 rows × 32 columns</p>\n",
       "</div>"
      ],
      "text/plain": [
       "              business_id  business_stars  review_count  \\\n",
       "0  6iYb2HFDywm3zjuRg0shjw             4.0            86   \n",
       "1  6iYb2HFDywm3zjuRg0shjw             4.0            86   \n",
       "2  6iYb2HFDywm3zjuRg0shjw             4.0            86   \n",
       "3  6iYb2HFDywm3zjuRg0shjw             4.0            86   \n",
       "4  6iYb2HFDywm3zjuRg0shjw             4.0            86   \n",
       "\n",
       "                                          categories                 user_id  \\\n",
       "0  Gastropubs, Food, Beer Gardens, Restaurants, B...  93z0yh-sUpGZS-cSKu6xxA   \n",
       "1  Gastropubs, Food, Beer Gardens, Restaurants, B...  Q_CZIvnsDHjpls-EPzzG7Q   \n",
       "2  Gastropubs, Food, Beer Gardens, Restaurants, B...  rqxTSFFj5fZNmabY1fmTlw   \n",
       "3  Gastropubs, Food, Beer Gardens, Restaurants, B...  vNPxlt5f50q0e2nVAScW3Q   \n",
       "4  Gastropubs, Food, Beer Gardens, Restaurants, B...  eXRC79iX60xwA1UuGRuWNg   \n",
       "\n",
       "                                                text  review_stars  \\\n",
       "0  Stopped in on a busy Friday night. Despite the...             5   \n",
       "1  Went there about 1 PM on a Monday.  It wasn't ...             2   \n",
       "2  This was the place the be on Friday Night! If ...             5   \n",
       "3  Went to this place with my family over the wee...             4   \n",
       "4  Stopped on a midweek afternoon, and so glad th...             4   \n",
       "\n",
       "  restaurants_table_service  wifi bike_parking  ...        alcohol  \\\n",
       "0                      True  free         True  ...  beer_and_wine   \n",
       "1                      True  free         True  ...  beer_and_wine   \n",
       "2                      True  free         True  ...  beer_and_wine   \n",
       "3                      True  free         True  ...  beer_and_wine   \n",
       "4                      True  free         True  ...  beer_and_wine   \n",
       "\n",
       "                                       good_for_meal dogs_allowed  \\\n",
       "0  {'dessert': False, 'latenight': False, 'lunch'...        False   \n",
       "1  {'dessert': False, 'latenight': False, 'lunch'...        False   \n",
       "2  {'dessert': False, 'latenight': False, 'lunch'...        False   \n",
       "3  {'dessert': False, 'latenight': False, 'lunch'...        False   \n",
       "4  {'dessert': False, 'latenight': False, 'lunch'...        False   \n",
       "\n",
       "  restaurants_take_out noise_level restaurants_attire restaurants_delivery  \\\n",
       "0                 True     average             casual                 None   \n",
       "1                 True     average             casual                 None   \n",
       "2                 True     average             casual                 None   \n",
       "3                 True     average             casual                 None   \n",
       "4                 True     average             casual                 None   \n",
       "\n",
       "  good_for_kids good_for_dancing music  \n",
       "0          None             None  True  \n",
       "1          None             None  True  \n",
       "2          None             None  True  \n",
       "3          None             None  True  \n",
       "4          None             None  True  \n",
       "\n",
       "[5 rows x 32 columns]"
      ]
     },
     "execution_count": 5,
     "metadata": {},
     "output_type": "execute_result"
    }
   ],
   "source": [
    "# Read in data from pickle\n",
    "import pickle\n",
    "import pandas as pd\n",
    "df = pd.DataFrame();\n",
    "with (open('model_data.pickle','rb')) as openfile:\n",
    "    df = pickle.load(openfile)\n",
    "df.head()"
   ]
  },
  {
   "cell_type": "code",
   "execution_count": 6,
   "id": "27a126a7",
   "metadata": {},
   "outputs": [
    {
     "data": {
      "text/plain": [
       "0      6iYb2HFDywm3zjuRg0shjw\n",
       "86     tCbdrRPZA0oiIYSmHG3J0w\n",
       "215    bvN78flM8NLprQ1a1y5dRg\n",
       "228    oaepsyvc0J17qwi8cfrOWg\n",
       "237    PE9uqAjdw0E4-8mjGl3wVA\n",
       "Name: business_id, dtype: object"
      ]
     },
     "execution_count": 6,
     "metadata": {},
     "output_type": "execute_result"
    }
   ],
   "source": [
    "# Read in data\n",
    "user_reviews = df[['user_id','business_id']]\n",
    "businesses = df['business_id']\n",
    "businesses.drop_duplicates(inplace=True)\n",
    "businesses.head()"
   ]
  },
  {
   "cell_type": "code",
   "execution_count": 7,
   "id": "98514f24",
   "metadata": {},
   "outputs": [
    {
     "data": {
      "text/html": [
       "<div>\n",
       "<style scoped>\n",
       "    .dataframe tbody tr th:only-of-type {\n",
       "        vertical-align: middle;\n",
       "    }\n",
       "\n",
       "    .dataframe tbody tr th {\n",
       "        vertical-align: top;\n",
       "    }\n",
       "\n",
       "    .dataframe thead th {\n",
       "        text-align: right;\n",
       "    }\n",
       "</style>\n",
       "<table border=\"1\" class=\"dataframe\">\n",
       "  <thead>\n",
       "    <tr style=\"text-align: right;\">\n",
       "      <th></th>\n",
       "      <th>user_id</th>\n",
       "      <th>business_id</th>\n",
       "    </tr>\n",
       "  </thead>\n",
       "  <tbody>\n",
       "    <tr>\n",
       "      <th>0</th>\n",
       "      <td>93z0yh-sUpGZS-cSKu6xxA</td>\n",
       "      <td>6iYb2HFDywm3zjuRg0shjw</td>\n",
       "    </tr>\n",
       "    <tr>\n",
       "      <th>1</th>\n",
       "      <td>Q_CZIvnsDHjpls-EPzzG7Q</td>\n",
       "      <td>6iYb2HFDywm3zjuRg0shjw</td>\n",
       "    </tr>\n",
       "    <tr>\n",
       "      <th>2</th>\n",
       "      <td>rqxTSFFj5fZNmabY1fmTlw</td>\n",
       "      <td>6iYb2HFDywm3zjuRg0shjw</td>\n",
       "    </tr>\n",
       "    <tr>\n",
       "      <th>3</th>\n",
       "      <td>vNPxlt5f50q0e2nVAScW3Q</td>\n",
       "      <td>6iYb2HFDywm3zjuRg0shjw</td>\n",
       "    </tr>\n",
       "    <tr>\n",
       "      <th>4</th>\n",
       "      <td>eXRC79iX60xwA1UuGRuWNg</td>\n",
       "      <td>6iYb2HFDywm3zjuRg0shjw</td>\n",
       "    </tr>\n",
       "  </tbody>\n",
       "</table>\n",
       "</div>"
      ],
      "text/plain": [
       "                  user_id             business_id\n",
       "0  93z0yh-sUpGZS-cSKu6xxA  6iYb2HFDywm3zjuRg0shjw\n",
       "1  Q_CZIvnsDHjpls-EPzzG7Q  6iYb2HFDywm3zjuRg0shjw\n",
       "2  rqxTSFFj5fZNmabY1fmTlw  6iYb2HFDywm3zjuRg0shjw\n",
       "3  vNPxlt5f50q0e2nVAScW3Q  6iYb2HFDywm3zjuRg0shjw\n",
       "4  eXRC79iX60xwA1UuGRuWNg  6iYb2HFDywm3zjuRg0shjw"
      ]
     },
     "execution_count": 7,
     "metadata": {},
     "output_type": "execute_result"
    }
   ],
   "source": [
    "user_reviews.head()"
   ]
  },
  {
   "cell_type": "code",
   "execution_count": 8,
   "id": "c9df7e06",
   "metadata": {},
   "outputs": [],
   "source": [
    "user_ids2 = tf.data.Dataset.from_tensor_slices(user_reviews['user_id'])\n",
    "businesses = tf.data.Dataset.from_tensor_slices(businesses)\n"
   ]
  },
  {
   "cell_type": "code",
   "execution_count": 9,
   "id": "5322f342",
   "metadata": {},
   "outputs": [
    {
     "data": {
      "text/plain": [
       "{'user_id': <TensorSliceDataset shapes: (), types: tf.string>,\n",
       " 'business_id': <TensorSliceDataset shapes: (), types: tf.string>}"
      ]
     },
     "execution_count": 9,
     "metadata": {},
     "output_type": "execute_result"
    }
   ],
   "source": [
    "temp = [] \n",
    "for index, row in user_reviews.iloc[0:1000].iterrows():\n",
    "    temp.append({\"user_id\": tf.data.Dataset.from_tensor_slices([row['user_id']]), \"business_id\": tf.data.Dataset.from_tensor_slices([row['business_id']])})\n",
    "    #temp.append({\"user_id\": ro['user_id'], \"business_id\": row['business_id']})\n",
    "temp[0]"
   ]
  },
  {
   "cell_type": "code",
   "execution_count": 10,
   "id": "4f5c13bc",
   "metadata": {},
   "outputs": [],
   "source": [
    "user_ids_vocab = tf.keras.layers.experimental.preprocessing.StringLookup(mask_token=None)\n",
    "user_ids_vocab.adapt(user_ids2)"
   ]
  },
  {
   "cell_type": "code",
   "execution_count": 11,
   "id": "dcc48687",
   "metadata": {},
   "outputs": [],
   "source": [
    "business_id_vocab = tf.keras.layers.experimental.preprocessing.StringLookup(mask_token=None)\n",
    "business_id_vocab.adapt(businesses)"
   ]
  },
  {
   "cell_type": "code",
   "execution_count": 12,
   "id": "51ec5490",
   "metadata": {},
   "outputs": [],
   "source": [
    "class business_rec_model(tfrs.Model):\n",
    "\n",
    "  def __init__(\n",
    "      self,\n",
    "      user_model: tf.keras.Model,\n",
    "      business_model: tf.keras.Model,\n",
    "      task: tfrs.tasks.Retrieval):\n",
    "    super().__init__()\n",
    "\n",
    "    self.user_model = user_model\n",
    "    self.business_model = business_model\n",
    "\n",
    "    self.task = task\n",
    "\n",
    "  def compute_loss(self, features: Dict[Text, tf.Tensor], training=False) -> tf.Tensor:\n",
    "    user_embeddings = self.user_model(features[\"user_id\"])\n",
    "    business_embeddings = self.business_model(features[\"business_id\"])\n",
    "\n",
    "    return self.task(user_embeddings, business_embeddings)"
   ]
  },
  {
   "cell_type": "code",
   "execution_count": 13,
   "id": "7631e6b6",
   "metadata": {},
   "outputs": [],
   "source": [
    "user_model = tf.keras.Sequential([\n",
    "    user_ids_vocab,\n",
    "    tf.keras.layers.Embedding(user_ids_vocab.vocabulary_size(),64)\n",
    "])\n",
    "business_model = tf.keras.Sequential([\n",
    "    business_id_vocab,\n",
    "    tf.keras.layers.Embedding(business_id_vocab.vocabulary_size(),64)\n",
    "])\n",
    "\n",
    "task = tfrs.tasks.Retrieval(metrics=tfrs.metrics.FactorizedTopK(\n",
    "    businesses.batch(128).map(business_model)\n",
    "))"
   ]
  },
  {
   "cell_type": "code",
   "execution_count": 14,
   "id": "bf2d3c51",
   "metadata": {},
   "outputs": [],
   "source": [
    "model = business_rec_model(user_model,business_model,task)\n",
    "model.compile(optimizer = tf.keras.optimizers.Adagrad(.5))"
   ]
  },
  {
   "cell_type": "code",
   "execution_count": 15,
   "id": "9e548b54",
   "metadata": {},
   "outputs": [
    {
     "ename": "ValueError",
     "evalue": "Failed to find data adapter that can handle input: (<class 'list'> containing values of types {'(<class \\'dict\\'> containing {\"<class \\'str\\'>\"} keys and {\"<class \\'tensorflow.python.data.ops.dataset_ops.TensorSliceDataset\\'>\"} values)'}), <class 'NoneType'>",
     "output_type": "error",
     "traceback": [
      "\u001b[1;31m---------------------------------------------------------------------------\u001b[0m",
      "\u001b[1;31mValueError\u001b[0m                                Traceback (most recent call last)",
      "\u001b[1;32m<ipython-input-15-8b305a4331c1>\u001b[0m in \u001b[0;36m<module>\u001b[1;34m\u001b[0m\n\u001b[1;32m----> 1\u001b[1;33m \u001b[0mmodel\u001b[0m\u001b[1;33m.\u001b[0m\u001b[0mfit\u001b[0m\u001b[1;33m(\u001b[0m\u001b[0mtemp\u001b[0m\u001b[1;33m,\u001b[0m\u001b[0mepochs\u001b[0m\u001b[1;33m=\u001b[0m\u001b[1;36m3\u001b[0m\u001b[1;33m)\u001b[0m\u001b[1;33m\u001b[0m\u001b[1;33m\u001b[0m\u001b[0m\n\u001b[0m",
      "\u001b[1;32m~\\Anaconda3\\lib\\site-packages\\tensorflow\\python\\keras\\engine\\training.py\u001b[0m in \u001b[0;36mfit\u001b[1;34m(self, x, y, batch_size, epochs, verbose, callbacks, validation_split, validation_data, shuffle, class_weight, sample_weight, initial_epoch, steps_per_epoch, validation_steps, validation_batch_size, validation_freq, max_queue_size, workers, use_multiprocessing)\u001b[0m\n\u001b[0;32m   1131\u001b[0m          \u001b[0mtraining_utils\u001b[0m\u001b[1;33m.\u001b[0m\u001b[0mRespectCompiledTrainableState\u001b[0m\u001b[1;33m(\u001b[0m\u001b[0mself\u001b[0m\u001b[1;33m)\u001b[0m\u001b[1;33m:\u001b[0m\u001b[1;33m\u001b[0m\u001b[1;33m\u001b[0m\u001b[0m\n\u001b[0;32m   1132\u001b[0m       \u001b[1;31m# Creates a `tf.data.Dataset` and handles batch and epoch iteration.\u001b[0m\u001b[1;33m\u001b[0m\u001b[1;33m\u001b[0m\u001b[1;33m\u001b[0m\u001b[0m\n\u001b[1;32m-> 1133\u001b[1;33m       data_handler = data_adapter.get_data_handler(\n\u001b[0m\u001b[0;32m   1134\u001b[0m           \u001b[0mx\u001b[0m\u001b[1;33m=\u001b[0m\u001b[0mx\u001b[0m\u001b[1;33m,\u001b[0m\u001b[1;33m\u001b[0m\u001b[1;33m\u001b[0m\u001b[0m\n\u001b[0;32m   1135\u001b[0m           \u001b[0my\u001b[0m\u001b[1;33m=\u001b[0m\u001b[0my\u001b[0m\u001b[1;33m,\u001b[0m\u001b[1;33m\u001b[0m\u001b[1;33m\u001b[0m\u001b[0m\n",
      "\u001b[1;32m~\\Anaconda3\\lib\\site-packages\\tensorflow\\python\\keras\\engine\\data_adapter.py\u001b[0m in \u001b[0;36mget_data_handler\u001b[1;34m(*args, **kwargs)\u001b[0m\n\u001b[0;32m   1362\u001b[0m   \u001b[1;32mif\u001b[0m \u001b[0mgetattr\u001b[0m\u001b[1;33m(\u001b[0m\u001b[0mkwargs\u001b[0m\u001b[1;33m[\u001b[0m\u001b[1;34m\"model\"\u001b[0m\u001b[1;33m]\u001b[0m\u001b[1;33m,\u001b[0m \u001b[1;34m\"_cluster_coordinator\"\u001b[0m\u001b[1;33m,\u001b[0m \u001b[1;32mNone\u001b[0m\u001b[1;33m)\u001b[0m\u001b[1;33m:\u001b[0m\u001b[1;33m\u001b[0m\u001b[1;33m\u001b[0m\u001b[0m\n\u001b[0;32m   1363\u001b[0m     \u001b[1;32mreturn\u001b[0m \u001b[0m_ClusterCoordinatorDataHandler\u001b[0m\u001b[1;33m(\u001b[0m\u001b[1;33m*\u001b[0m\u001b[0margs\u001b[0m\u001b[1;33m,\u001b[0m \u001b[1;33m**\u001b[0m\u001b[0mkwargs\u001b[0m\u001b[1;33m)\u001b[0m\u001b[1;33m\u001b[0m\u001b[1;33m\u001b[0m\u001b[0m\n\u001b[1;32m-> 1364\u001b[1;33m   \u001b[1;32mreturn\u001b[0m \u001b[0mDataHandler\u001b[0m\u001b[1;33m(\u001b[0m\u001b[1;33m*\u001b[0m\u001b[0margs\u001b[0m\u001b[1;33m,\u001b[0m \u001b[1;33m**\u001b[0m\u001b[0mkwargs\u001b[0m\u001b[1;33m)\u001b[0m\u001b[1;33m\u001b[0m\u001b[1;33m\u001b[0m\u001b[0m\n\u001b[0m\u001b[0;32m   1365\u001b[0m \u001b[1;33m\u001b[0m\u001b[0m\n\u001b[0;32m   1366\u001b[0m \u001b[1;33m\u001b[0m\u001b[0m\n",
      "\u001b[1;32m~\\Anaconda3\\lib\\site-packages\\tensorflow\\python\\keras\\engine\\data_adapter.py\u001b[0m in \u001b[0;36m__init__\u001b[1;34m(self, x, y, sample_weight, batch_size, steps_per_epoch, initial_epoch, epochs, shuffle, class_weight, max_queue_size, workers, use_multiprocessing, model, steps_per_execution, distribute)\u001b[0m\n\u001b[0;32m   1150\u001b[0m       \u001b[0mself\u001b[0m\u001b[1;33m.\u001b[0m\u001b[0m_steps_per_execution_value\u001b[0m \u001b[1;33m=\u001b[0m \u001b[0msteps_per_execution\u001b[0m\u001b[1;33m.\u001b[0m\u001b[0mnumpy\u001b[0m\u001b[1;33m(\u001b[0m\u001b[1;33m)\u001b[0m\u001b[1;33m.\u001b[0m\u001b[0mitem\u001b[0m\u001b[1;33m(\u001b[0m\u001b[1;33m)\u001b[0m\u001b[1;33m\u001b[0m\u001b[1;33m\u001b[0m\u001b[0m\n\u001b[0;32m   1151\u001b[0m \u001b[1;33m\u001b[0m\u001b[0m\n\u001b[1;32m-> 1152\u001b[1;33m     \u001b[0madapter_cls\u001b[0m \u001b[1;33m=\u001b[0m \u001b[0mselect_data_adapter\u001b[0m\u001b[1;33m(\u001b[0m\u001b[0mx\u001b[0m\u001b[1;33m,\u001b[0m \u001b[0my\u001b[0m\u001b[1;33m)\u001b[0m\u001b[1;33m\u001b[0m\u001b[1;33m\u001b[0m\u001b[0m\n\u001b[0m\u001b[0;32m   1153\u001b[0m     \u001b[0mself\u001b[0m\u001b[1;33m.\u001b[0m\u001b[0m_verify_data_adapter_compatibility\u001b[0m\u001b[1;33m(\u001b[0m\u001b[0madapter_cls\u001b[0m\u001b[1;33m)\u001b[0m\u001b[1;33m\u001b[0m\u001b[1;33m\u001b[0m\u001b[0m\n\u001b[0;32m   1154\u001b[0m     self._adapter = adapter_cls(\n",
      "\u001b[1;32m~\\Anaconda3\\lib\\site-packages\\tensorflow\\python\\keras\\engine\\data_adapter.py\u001b[0m in \u001b[0;36mselect_data_adapter\u001b[1;34m(x, y)\u001b[0m\n\u001b[0;32m    989\u001b[0m   \u001b[1;32mif\u001b[0m \u001b[1;32mnot\u001b[0m \u001b[0madapter_cls\u001b[0m\u001b[1;33m:\u001b[0m\u001b[1;33m\u001b[0m\u001b[1;33m\u001b[0m\u001b[0m\n\u001b[0;32m    990\u001b[0m     \u001b[1;31m# TODO(scottzhu): This should be a less implementation-specific error.\u001b[0m\u001b[1;33m\u001b[0m\u001b[1;33m\u001b[0m\u001b[1;33m\u001b[0m\u001b[0m\n\u001b[1;32m--> 991\u001b[1;33m     raise ValueError(\n\u001b[0m\u001b[0;32m    992\u001b[0m         \u001b[1;34m\"Failed to find data adapter that can handle \"\u001b[0m\u001b[1;33m\u001b[0m\u001b[1;33m\u001b[0m\u001b[0m\n\u001b[0;32m    993\u001b[0m         \"input: {}, {}\".format(\n",
      "\u001b[1;31mValueError\u001b[0m: Failed to find data adapter that can handle input: (<class 'list'> containing values of types {'(<class \\'dict\\'> containing {\"<class \\'str\\'>\"} keys and {\"<class \\'tensorflow.python.data.ops.dataset_ops.TensorSliceDataset\\'>\"} values)'}), <class 'NoneType'>"
     ]
    }
   ],
   "source": [
    "model.fit(temp,epochs=3)"
   ]
  },
  {
   "cell_type": "code",
   "execution_count": null,
   "id": "9ea7f8fe",
   "metadata": {},
   "outputs": [],
   "source": []
  }
 ],
 "metadata": {
  "kernelspec": {
   "display_name": "Python 3",
   "language": "python",
   "name": "python3"
  },
  "language_info": {
   "codemirror_mode": {
    "name": "ipython",
    "version": 3
   },
   "file_extension": ".py",
   "mimetype": "text/x-python",
   "name": "python",
   "nbconvert_exporter": "python",
   "pygments_lexer": "ipython3",
   "version": "3.8.8"
  }
 },
 "nbformat": 4,
 "nbformat_minor": 5
}
