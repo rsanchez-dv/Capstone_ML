{
 "cells": [
  {
   "cell_type": "code",
   "execution_count": 1,
   "id": "32f983c3",
   "metadata": {
    "scrolled": true
   },
   "outputs": [],
   "source": [
    "#!pip install rake-nltk\n",
    "#!pip install -U spacy\n",
    "#!python -m spacy download en_core_web_trf"
   ]
  },
  {
   "cell_type": "markdown",
   "id": "92ea99e9",
   "metadata": {},
   "source": [
    "## Importing Libraries"
   ]
  },
  {
   "cell_type": "code",
   "execution_count": 2,
   "id": "d69cc09e",
   "metadata": {},
   "outputs": [],
   "source": [
    "import os\n",
    "import spacy\n",
    "import pickle\n",
    "import keras\n",
    "\n",
    "import numpy as np\n",
    "import pandas as pd\n",
    "import tensorflow as tf\n",
    "\n",
    "\n",
    "from keras.layers import Embedding\n",
    "from keras.layers import Bidirectional,GlobalMaxPool1D,Conv1D\n",
    "from keras.layers import LSTM,Input,Dense,Dropout,Activation\n",
    "from keras.models import Model\n",
    "\n",
    "from keras.preprocessing.text import Tokenizer\n",
    "from keras.preprocessing.sequence import pad_sequences\n",
    "\n",
    "from sklearn.metrics import classification_report, confusion_matrix\n",
    "from sklearn.model_selection import train_test_split"
   ]
  },
  {
   "cell_type": "code",
   "execution_count": 3,
   "id": "e6c737a8",
   "metadata": {},
   "outputs": [],
   "source": [
    "os.environ[\"CUDA_VISIBLE_DEVICES\"] = '-1'\n",
    "os.environ['TF_FORCE_GPU_ALLOW_GROWTH'] = 'true'"
   ]
  },
  {
   "cell_type": "markdown",
   "id": "fa233708",
   "metadata": {},
   "source": [
    "## Reading in Data"
   ]
  },
  {
   "cell_type": "code",
   "execution_count": 4,
   "id": "eb801cb4",
   "metadata": {},
   "outputs": [
    {
     "data": {
      "text/html": [
       "<div>\n",
       "<style scoped>\n",
       "    .dataframe tbody tr th:only-of-type {\n",
       "        vertical-align: middle;\n",
       "    }\n",
       "\n",
       "    .dataframe tbody tr th {\n",
       "        vertical-align: top;\n",
       "    }\n",
       "\n",
       "    .dataframe thead th {\n",
       "        text-align: right;\n",
       "    }\n",
       "</style>\n",
       "<table border=\"1\" class=\"dataframe\">\n",
       "  <thead>\n",
       "    <tr style=\"text-align: right;\">\n",
       "      <th></th>\n",
       "      <th>business_id</th>\n",
       "      <th>business_stars</th>\n",
       "      <th>review_count</th>\n",
       "      <th>categories</th>\n",
       "      <th>user_id</th>\n",
       "      <th>text</th>\n",
       "      <th>review_stars</th>\n",
       "      <th>restaurants_table_service</th>\n",
       "      <th>wifi</th>\n",
       "      <th>bike_parking</th>\n",
       "      <th>...</th>\n",
       "      <th>alcohol</th>\n",
       "      <th>good_for_meal</th>\n",
       "      <th>dogs_allowed</th>\n",
       "      <th>restaurants_take_out</th>\n",
       "      <th>noise_level</th>\n",
       "      <th>restaurants_attire</th>\n",
       "      <th>restaurants_delivery</th>\n",
       "      <th>good_for_kids</th>\n",
       "      <th>good_for_dancing</th>\n",
       "      <th>music</th>\n",
       "    </tr>\n",
       "  </thead>\n",
       "  <tbody>\n",
       "    <tr>\n",
       "      <th>0</th>\n",
       "      <td>6iYb2HFDywm3zjuRg0shjw</td>\n",
       "      <td>4.0</td>\n",
       "      <td>86</td>\n",
       "      <td>Gastropubs, Food, Beer Gardens, Restaurants, B...</td>\n",
       "      <td>93z0yh-sUpGZS-cSKu6xxA</td>\n",
       "      <td>Stopped in on a busy Friday night. Despite the...</td>\n",
       "      <td>5</td>\n",
       "      <td>True</td>\n",
       "      <td>free</td>\n",
       "      <td>True</td>\n",
       "      <td>...</td>\n",
       "      <td>beer_and_wine</td>\n",
       "      <td>{'dessert': False, 'latenight': False, 'lunch'...</td>\n",
       "      <td>False</td>\n",
       "      <td>True</td>\n",
       "      <td>average</td>\n",
       "      <td>casual</td>\n",
       "      <td>None</td>\n",
       "      <td>None</td>\n",
       "      <td>None</td>\n",
       "      <td>True</td>\n",
       "    </tr>\n",
       "    <tr>\n",
       "      <th>1</th>\n",
       "      <td>6iYb2HFDywm3zjuRg0shjw</td>\n",
       "      <td>4.0</td>\n",
       "      <td>86</td>\n",
       "      <td>Gastropubs, Food, Beer Gardens, Restaurants, B...</td>\n",
       "      <td>Q_CZIvnsDHjpls-EPzzG7Q</td>\n",
       "      <td>Went there about 1 PM on a Monday.  It wasn't ...</td>\n",
       "      <td>2</td>\n",
       "      <td>True</td>\n",
       "      <td>free</td>\n",
       "      <td>True</td>\n",
       "      <td>...</td>\n",
       "      <td>beer_and_wine</td>\n",
       "      <td>{'dessert': False, 'latenight': False, 'lunch'...</td>\n",
       "      <td>False</td>\n",
       "      <td>True</td>\n",
       "      <td>average</td>\n",
       "      <td>casual</td>\n",
       "      <td>None</td>\n",
       "      <td>None</td>\n",
       "      <td>None</td>\n",
       "      <td>True</td>\n",
       "    </tr>\n",
       "    <tr>\n",
       "      <th>2</th>\n",
       "      <td>6iYb2HFDywm3zjuRg0shjw</td>\n",
       "      <td>4.0</td>\n",
       "      <td>86</td>\n",
       "      <td>Gastropubs, Food, Beer Gardens, Restaurants, B...</td>\n",
       "      <td>rqxTSFFj5fZNmabY1fmTlw</td>\n",
       "      <td>This was the place the be on Friday Night! If ...</td>\n",
       "      <td>5</td>\n",
       "      <td>True</td>\n",
       "      <td>free</td>\n",
       "      <td>True</td>\n",
       "      <td>...</td>\n",
       "      <td>beer_and_wine</td>\n",
       "      <td>{'dessert': False, 'latenight': False, 'lunch'...</td>\n",
       "      <td>False</td>\n",
       "      <td>True</td>\n",
       "      <td>average</td>\n",
       "      <td>casual</td>\n",
       "      <td>None</td>\n",
       "      <td>None</td>\n",
       "      <td>None</td>\n",
       "      <td>True</td>\n",
       "    </tr>\n",
       "    <tr>\n",
       "      <th>3</th>\n",
       "      <td>6iYb2HFDywm3zjuRg0shjw</td>\n",
       "      <td>4.0</td>\n",
       "      <td>86</td>\n",
       "      <td>Gastropubs, Food, Beer Gardens, Restaurants, B...</td>\n",
       "      <td>vNPxlt5f50q0e2nVAScW3Q</td>\n",
       "      <td>Went to this place with my family over the wee...</td>\n",
       "      <td>4</td>\n",
       "      <td>True</td>\n",
       "      <td>free</td>\n",
       "      <td>True</td>\n",
       "      <td>...</td>\n",
       "      <td>beer_and_wine</td>\n",
       "      <td>{'dessert': False, 'latenight': False, 'lunch'...</td>\n",
       "      <td>False</td>\n",
       "      <td>True</td>\n",
       "      <td>average</td>\n",
       "      <td>casual</td>\n",
       "      <td>None</td>\n",
       "      <td>None</td>\n",
       "      <td>None</td>\n",
       "      <td>True</td>\n",
       "    </tr>\n",
       "    <tr>\n",
       "      <th>4</th>\n",
       "      <td>6iYb2HFDywm3zjuRg0shjw</td>\n",
       "      <td>4.0</td>\n",
       "      <td>86</td>\n",
       "      <td>Gastropubs, Food, Beer Gardens, Restaurants, B...</td>\n",
       "      <td>eXRC79iX60xwA1UuGRuWNg</td>\n",
       "      <td>Stopped on a midweek afternoon, and so glad th...</td>\n",
       "      <td>4</td>\n",
       "      <td>True</td>\n",
       "      <td>free</td>\n",
       "      <td>True</td>\n",
       "      <td>...</td>\n",
       "      <td>beer_and_wine</td>\n",
       "      <td>{'dessert': False, 'latenight': False, 'lunch'...</td>\n",
       "      <td>False</td>\n",
       "      <td>True</td>\n",
       "      <td>average</td>\n",
       "      <td>casual</td>\n",
       "      <td>None</td>\n",
       "      <td>None</td>\n",
       "      <td>None</td>\n",
       "      <td>True</td>\n",
       "    </tr>\n",
       "  </tbody>\n",
       "</table>\n",
       "<p>5 rows × 32 columns</p>\n",
       "</div>"
      ],
      "text/plain": [
       "              business_id  business_stars  review_count  \\\n",
       "0  6iYb2HFDywm3zjuRg0shjw             4.0            86   \n",
       "1  6iYb2HFDywm3zjuRg0shjw             4.0            86   \n",
       "2  6iYb2HFDywm3zjuRg0shjw             4.0            86   \n",
       "3  6iYb2HFDywm3zjuRg0shjw             4.0            86   \n",
       "4  6iYb2HFDywm3zjuRg0shjw             4.0            86   \n",
       "\n",
       "                                          categories                 user_id  \\\n",
       "0  Gastropubs, Food, Beer Gardens, Restaurants, B...  93z0yh-sUpGZS-cSKu6xxA   \n",
       "1  Gastropubs, Food, Beer Gardens, Restaurants, B...  Q_CZIvnsDHjpls-EPzzG7Q   \n",
       "2  Gastropubs, Food, Beer Gardens, Restaurants, B...  rqxTSFFj5fZNmabY1fmTlw   \n",
       "3  Gastropubs, Food, Beer Gardens, Restaurants, B...  vNPxlt5f50q0e2nVAScW3Q   \n",
       "4  Gastropubs, Food, Beer Gardens, Restaurants, B...  eXRC79iX60xwA1UuGRuWNg   \n",
       "\n",
       "                                                text  review_stars  \\\n",
       "0  Stopped in on a busy Friday night. Despite the...             5   \n",
       "1  Went there about 1 PM on a Monday.  It wasn't ...             2   \n",
       "2  This was the place the be on Friday Night! If ...             5   \n",
       "3  Went to this place with my family over the wee...             4   \n",
       "4  Stopped on a midweek afternoon, and so glad th...             4   \n",
       "\n",
       "  restaurants_table_service  wifi bike_parking  ...        alcohol  \\\n",
       "0                      True  free         True  ...  beer_and_wine   \n",
       "1                      True  free         True  ...  beer_and_wine   \n",
       "2                      True  free         True  ...  beer_and_wine   \n",
       "3                      True  free         True  ...  beer_and_wine   \n",
       "4                      True  free         True  ...  beer_and_wine   \n",
       "\n",
       "                                       good_for_meal dogs_allowed  \\\n",
       "0  {'dessert': False, 'latenight': False, 'lunch'...        False   \n",
       "1  {'dessert': False, 'latenight': False, 'lunch'...        False   \n",
       "2  {'dessert': False, 'latenight': False, 'lunch'...        False   \n",
       "3  {'dessert': False, 'latenight': False, 'lunch'...        False   \n",
       "4  {'dessert': False, 'latenight': False, 'lunch'...        False   \n",
       "\n",
       "  restaurants_take_out noise_level restaurants_attire restaurants_delivery  \\\n",
       "0                 True     average             casual                 None   \n",
       "1                 True     average             casual                 None   \n",
       "2                 True     average             casual                 None   \n",
       "3                 True     average             casual                 None   \n",
       "4                 True     average             casual                 None   \n",
       "\n",
       "  good_for_kids good_for_dancing music  \n",
       "0          None             None  True  \n",
       "1          None             None  True  \n",
       "2          None             None  True  \n",
       "3          None             None  True  \n",
       "4          None             None  True  \n",
       "\n",
       "[5 rows x 32 columns]"
      ]
     },
     "execution_count": 4,
     "metadata": {},
     "output_type": "execute_result"
    }
   ],
   "source": [
    "df = pd.DataFrame();\n",
    "with (open('model_data.pickle','rb')) as openfile:\n",
    "    df = pickle.load(openfile)\n",
    "df.head()"
   ]
  },
  {
   "cell_type": "code",
   "execution_count": 5,
   "id": "614824ef",
   "metadata": {},
   "outputs": [],
   "source": [
    "review_data = df[['review_stars','text']].sample(n=2000000)"
   ]
  },
  {
   "cell_type": "code",
   "execution_count": 6,
   "id": "36f317ae",
   "metadata": {},
   "outputs": [
    {
     "data": {
      "text/html": [
       "<div>\n",
       "<style scoped>\n",
       "    .dataframe tbody tr th:only-of-type {\n",
       "        vertical-align: middle;\n",
       "    }\n",
       "\n",
       "    .dataframe tbody tr th {\n",
       "        vertical-align: top;\n",
       "    }\n",
       "\n",
       "    .dataframe thead th {\n",
       "        text-align: right;\n",
       "    }\n",
       "</style>\n",
       "<table border=\"1\" class=\"dataframe\">\n",
       "  <thead>\n",
       "    <tr style=\"text-align: right;\">\n",
       "      <th></th>\n",
       "      <th>review_stars</th>\n",
       "      <th>text</th>\n",
       "    </tr>\n",
       "  </thead>\n",
       "  <tbody>\n",
       "    <tr>\n",
       "      <th>4224672</th>\n",
       "      <td>5</td>\n",
       "      <td>It's a pretty average Target store. This locat...</td>\n",
       "    </tr>\n",
       "    <tr>\n",
       "      <th>1501709</th>\n",
       "      <td>5</td>\n",
       "      <td>Incredible service, quality and friendly staff...</td>\n",
       "    </tr>\n",
       "    <tr>\n",
       "      <th>313502</th>\n",
       "      <td>1</td>\n",
       "      <td>::: UPDATED::: \\nBack in March 07I rated this ...</td>\n",
       "    </tr>\n",
       "    <tr>\n",
       "      <th>4639667</th>\n",
       "      <td>5</td>\n",
       "      <td>Great food &amp; friendly people. I'm vegetarian, ...</td>\n",
       "    </tr>\n",
       "    <tr>\n",
       "      <th>85350</th>\n",
       "      <td>4</td>\n",
       "      <td>Tucci's. I've now been once for brunch, and it...</td>\n",
       "    </tr>\n",
       "  </tbody>\n",
       "</table>\n",
       "</div>"
      ],
      "text/plain": [
       "         review_stars                                               text\n",
       "4224672             5  It's a pretty average Target store. This locat...\n",
       "1501709             5  Incredible service, quality and friendly staff...\n",
       "313502              1  ::: UPDATED::: \\nBack in March 07I rated this ...\n",
       "4639667             5  Great food & friendly people. I'm vegetarian, ...\n",
       "85350               4  Tucci's. I've now been once for brunch, and it..."
      ]
     },
     "execution_count": 6,
     "metadata": {},
     "output_type": "execute_result"
    }
   ],
   "source": [
    "review_data.head()"
   ]
  },
  {
   "cell_type": "code",
   "execution_count": 7,
   "id": "8f20cacd",
   "metadata": {},
   "outputs": [
    {
     "data": {
      "text/plain": [
       "dtype('int64')"
      ]
     },
     "execution_count": 7,
     "metadata": {},
     "output_type": "execute_result"
    }
   ],
   "source": [
    "review_data['review_stars'].dtypes"
   ]
  },
  {
   "cell_type": "markdown",
   "id": "9dd4b119",
   "metadata": {},
   "source": [
    "## Modifying the ratings to more simplistic rating\n",
    "Anything less than 3 stars is labels as a bad review while anything 3 or greater is a positive review."
   ]
  },
  {
   "cell_type": "code",
   "execution_count": 8,
   "id": "668fb23a",
   "metadata": {},
   "outputs": [],
   "source": [
    "def simplify_ratings(x):\n",
    "    if x <=2:\n",
    "        x = 0\n",
    "    else:\n",
    "        x = 1\n",
    "    return x\n",
    "review_data['review_stars'] = review_data['review_stars'].apply(lambda x: simplify_ratings(x) )"
   ]
  },
  {
   "cell_type": "code",
   "execution_count": 9,
   "id": "3b90411b",
   "metadata": {},
   "outputs": [
    {
     "data": {
      "text/html": [
       "<div>\n",
       "<style scoped>\n",
       "    .dataframe tbody tr th:only-of-type {\n",
       "        vertical-align: middle;\n",
       "    }\n",
       "\n",
       "    .dataframe tbody tr th {\n",
       "        vertical-align: top;\n",
       "    }\n",
       "\n",
       "    .dataframe thead th {\n",
       "        text-align: right;\n",
       "    }\n",
       "</style>\n",
       "<table border=\"1\" class=\"dataframe\">\n",
       "  <thead>\n",
       "    <tr style=\"text-align: right;\">\n",
       "      <th></th>\n",
       "      <th>review_stars</th>\n",
       "      <th>text</th>\n",
       "    </tr>\n",
       "  </thead>\n",
       "  <tbody>\n",
       "    <tr>\n",
       "      <th>4224672</th>\n",
       "      <td>1</td>\n",
       "      <td>It's a pretty average Target store. This locat...</td>\n",
       "    </tr>\n",
       "    <tr>\n",
       "      <th>1501709</th>\n",
       "      <td>1</td>\n",
       "      <td>Incredible service, quality and friendly staff...</td>\n",
       "    </tr>\n",
       "    <tr>\n",
       "      <th>313502</th>\n",
       "      <td>0</td>\n",
       "      <td>::: UPDATED::: \\nBack in March 07I rated this ...</td>\n",
       "    </tr>\n",
       "    <tr>\n",
       "      <th>4639667</th>\n",
       "      <td>1</td>\n",
       "      <td>Great food &amp; friendly people. I'm vegetarian, ...</td>\n",
       "    </tr>\n",
       "    <tr>\n",
       "      <th>85350</th>\n",
       "      <td>1</td>\n",
       "      <td>Tucci's. I've now been once for brunch, and it...</td>\n",
       "    </tr>\n",
       "  </tbody>\n",
       "</table>\n",
       "</div>"
      ],
      "text/plain": [
       "         review_stars                                               text\n",
       "4224672             1  It's a pretty average Target store. This locat...\n",
       "1501709             1  Incredible service, quality and friendly staff...\n",
       "313502              0  ::: UPDATED::: \\nBack in March 07I rated this ...\n",
       "4639667             1  Great food & friendly people. I'm vegetarian, ...\n",
       "85350               1  Tucci's. I've now been once for brunch, and it..."
      ]
     },
     "execution_count": 9,
     "metadata": {},
     "output_type": "execute_result"
    }
   ],
   "source": [
    "review_data.head()"
   ]
  },
  {
   "cell_type": "markdown",
   "id": "4047d60a",
   "metadata": {},
   "source": [
    "## Splitting data into two\n",
    "I've limited it to a million for performance to produce a proof of concept"
   ]
  },
  {
   "cell_type": "code",
   "execution_count": 10,
   "id": "216a7d8f",
   "metadata": {},
   "outputs": [],
   "source": [
    "text = review_data['text'].values\n",
    "label = review_data['review_stars'].values"
   ]
  },
  {
   "cell_type": "code",
   "execution_count": 11,
   "id": "fc188373",
   "metadata": {},
   "outputs": [
    {
     "data": {
      "text/plain": [
       "(2000000,)"
      ]
     },
     "execution_count": 11,
     "metadata": {},
     "output_type": "execute_result"
    }
   ],
   "source": [
    "text.shape"
   ]
  },
  {
   "cell_type": "code",
   "execution_count": 12,
   "id": "e7bc34f4",
   "metadata": {},
   "outputs": [
    {
     "data": {
      "text/plain": [
       "(2000000,)"
      ]
     },
     "execution_count": 12,
     "metadata": {},
     "output_type": "execute_result"
    }
   ],
   "source": [
    "label.shape"
   ]
  },
  {
   "cell_type": "code",
   "execution_count": 13,
   "id": "eca72502",
   "metadata": {},
   "outputs": [
    {
     "data": {
      "text/plain": [
       "\"It's a pretty average Target store. This location seems quieter with less traffic than normal. Not sure how long they will be in business. They carry most things that you might expect and/or need. Staff is nice. The store has a relaxed environment, low pressure.\""
      ]
     },
     "execution_count": 13,
     "metadata": {},
     "output_type": "execute_result"
    }
   ],
   "source": [
    "text[0]"
   ]
  },
  {
   "cell_type": "code",
   "execution_count": 14,
   "id": "ea768184",
   "metadata": {},
   "outputs": [
    {
     "name": "stdout",
     "output_type": "stream",
     "text": [
      "[('This', 'DET'), ('is', 'AUX'), ('a', 'DET'), ('sentence', 'NOUN'), ('.', 'PUNCT')]\n"
     ]
    }
   ],
   "source": [
    "nlp = spacy.load(\"en_core_web_trf\")\n",
    "doc = nlp(\"This is a sentence.\")\n",
    "print([(w.text, w.pos_) for w in doc])"
   ]
  },
  {
   "cell_type": "code",
   "execution_count": 15,
   "id": "6743725f",
   "metadata": {},
   "outputs": [
    {
     "data": {
      "text/plain": [
       "\"It's a pretty average Target store. This location seems quieter with less traffic than normal. Not sure how long they will be in business. They carry most things that you might expect and/or need. Staff is nice. The store has a relaxed environment, low pressure.\""
      ]
     },
     "execution_count": 15,
     "metadata": {},
     "output_type": "execute_result"
    }
   ],
   "source": [
    "text[0]"
   ]
  },
  {
   "cell_type": "code",
   "execution_count": 16,
   "id": "6ef939cb",
   "metadata": {},
   "outputs": [
    {
     "data": {
      "text/plain": [
       "It's a pretty average Target store. This location seems quieter with less traffic than normal. Not sure how long they will be in business. They carry most things that you might expect and/or need. Staff is nice. The store has a relaxed environment, low pressure."
      ]
     },
     "execution_count": 16,
     "metadata": {},
     "output_type": "execute_result"
    }
   ],
   "source": [
    "parsed_text = nlp(text[0])\n",
    "parsed_text"
   ]
  },
  {
   "cell_type": "code",
   "execution_count": 17,
   "id": "afd4f3d9",
   "metadata": {
    "scrolled": true
   },
   "outputs": [
    {
     "name": "stdout",
     "output_type": "stream",
     "text": [
      "0 : It's a pretty average Target store.\n",
      "1 : This location seems quieter with less traffic than normal.\n",
      "2 : Not sure how long they will be in business.\n",
      "3 : They carry most things that you might expect and/or need.\n",
      "4 : Staff is nice.\n",
      "5 : The store has a relaxed environment, low pressure.\n"
     ]
    }
   ],
   "source": [
    "for i,sentance in enumerate(parsed_text.sents):\n",
    "    print(i,':',sentance)"
   ]
  },
  {
   "cell_type": "code",
   "execution_count": 18,
   "id": "24ced997",
   "metadata": {},
   "outputs": [
    {
     "name": "stdout",
     "output_type": "stream",
     "text": [
      "Entity 1: Amy - PERSON\n",
      "Entity 2: French - NORP\n"
     ]
    }
   ],
   "source": [
    "for num, entity in enumerate(nlp(text[10]).ents):\n",
    "    print ('Entity {}:'.format(num + 1), entity, '-', entity.label_)"
   ]
  },
  {
   "cell_type": "code",
   "execution_count": 19,
   "id": "8b7bcff1",
   "metadata": {},
   "outputs": [
    {
     "data": {
      "text/html": [
       "<div>\n",
       "<style scoped>\n",
       "    .dataframe tbody tr th:only-of-type {\n",
       "        vertical-align: middle;\n",
       "    }\n",
       "\n",
       "    .dataframe tbody tr th {\n",
       "        vertical-align: top;\n",
       "    }\n",
       "\n",
       "    .dataframe thead th {\n",
       "        text-align: right;\n",
       "    }\n",
       "</style>\n",
       "<table border=\"1\" class=\"dataframe\">\n",
       "  <thead>\n",
       "    <tr style=\"text-align: right;\">\n",
       "      <th></th>\n",
       "      <th>token</th>\n",
       "      <th>pos</th>\n",
       "    </tr>\n",
       "  </thead>\n",
       "  <tbody>\n",
       "    <tr>\n",
       "      <th>0</th>\n",
       "      <td>I</td>\n",
       "      <td>PRON</td>\n",
       "    </tr>\n",
       "    <tr>\n",
       "      <th>1</th>\n",
       "      <td>had</td>\n",
       "      <td>VERB</td>\n",
       "    </tr>\n",
       "    <tr>\n",
       "      <th>2</th>\n",
       "      <td>a</td>\n",
       "      <td>DET</td>\n",
       "    </tr>\n",
       "    <tr>\n",
       "      <th>3</th>\n",
       "      <td>mani</td>\n",
       "      <td>X</td>\n",
       "    </tr>\n",
       "    <tr>\n",
       "      <th>4</th>\n",
       "      <td>pedi</td>\n",
       "      <td>X</td>\n",
       "    </tr>\n",
       "  </tbody>\n",
       "</table>\n",
       "</div>"
      ],
      "text/plain": [
       "  token   pos\n",
       "0     I  PRON\n",
       "1   had  VERB\n",
       "2     a   DET\n",
       "3  mani     X\n",
       "4  pedi     X"
      ]
     },
     "execution_count": 19,
     "metadata": {},
     "output_type": "execute_result"
    }
   ],
   "source": [
    "token_pos = [token.pos_ for token in nlp(text[10])]\n",
    "tokens = [token for token in nlp(text[10])]\n",
    "sd = list(zip(tokens,token_pos))\n",
    "sd = pd.DataFrame(sd,columns=['token','pos'])\n",
    "sd.head()"
   ]
  },
  {
   "cell_type": "code",
   "execution_count": 20,
   "id": "c88d31d0",
   "metadata": {},
   "outputs": [],
   "source": [
    "max_num_words = 1000\n",
    "max_seq_length = 100\n",
    "tokenizer = Tokenizer(num_words=max_num_words)"
   ]
  },
  {
   "cell_type": "code",
   "execution_count": 21,
   "id": "9dff0c9b",
   "metadata": {},
   "outputs": [],
   "source": [
    "tokenizer.fit_on_texts(text)\n",
    "sequences = tokenizer.texts_to_sequences(text)\n",
    "word_index = tokenizer.word_index"
   ]
  },
  {
   "cell_type": "code",
   "execution_count": 22,
   "id": "f7427657",
   "metadata": {},
   "outputs": [
    {
     "data": {
      "text/plain": [
       "407631"
      ]
     },
     "execution_count": 22,
     "metadata": {},
     "output_type": "execute_result"
    }
   ],
   "source": [
    "len(word_index)"
   ]
  },
  {
   "cell_type": "code",
   "execution_count": 23,
   "id": "465aaed4",
   "metadata": {},
   "outputs": [
    {
     "data": {
      "text/plain": [
       "array([[  0,   0,   0, ...,  87,   4, 785],\n",
       "       [  0,   0,   0, ...,   6,   4, 898],\n",
       "       [  1, 257,  11, ...,   3,  98,  19],\n",
       "       ...,\n",
       "       [  5,  57,  37, ...,  79, 205,   6],\n",
       "       [ 71, 176, 236, ..., 980,  14,  72],\n",
       "       [  0,   0,   0, ..., 227,  11, 463]])"
      ]
     },
     "execution_count": 23,
     "metadata": {},
     "output_type": "execute_result"
    }
   ],
   "source": [
    "padded_text = pad_sequences(sequences, maxlen=max_seq_length)\n",
    "padded_text"
   ]
  },
  {
   "cell_type": "code",
   "execution_count": 24,
   "id": "db6e8782",
   "metadata": {},
   "outputs": [
    {
     "data": {
      "text/plain": [
       "(2000000, 100)"
      ]
     },
     "execution_count": 24,
     "metadata": {},
     "output_type": "execute_result"
    }
   ],
   "source": [
    "padded_text.shape"
   ]
  },
  {
   "cell_type": "code",
   "execution_count": 25,
   "id": "a75fa0ba",
   "metadata": {},
   "outputs": [],
   "source": [
    "label = tf.keras.utils.to_categorical(\n",
    "    np.asarray(label)\n",
    ")"
   ]
  },
  {
   "cell_type": "code",
   "execution_count": 26,
   "id": "320f39bf",
   "metadata": {},
   "outputs": [
    {
     "data": {
      "text/plain": [
       "(2000000, 2)"
      ]
     },
     "execution_count": 26,
     "metadata": {},
     "output_type": "execute_result"
    }
   ],
   "source": [
    "label.shape"
   ]
  },
  {
   "cell_type": "code",
   "execution_count": 27,
   "id": "93cc9464",
   "metadata": {},
   "outputs": [],
   "source": [
    "validation_split = 0.2\n",
    "indices = np.arange(text.shape[0])\n",
    "np.random.shuffle(indices)"
   ]
  },
  {
   "cell_type": "code",
   "execution_count": 28,
   "id": "0e60b661",
   "metadata": {},
   "outputs": [
    {
     "data": {
      "text/plain": [
       "array([[  0,   0,   0, ..., 199,  45, 188],\n",
       "       [  0,   0,   0, ..., 327,   7, 302],\n",
       "       [  0,   0,   0, ..., 407, 174,  31],\n",
       "       ...,\n",
       "       [  0,   0,   0, ..., 143,  35,   2],\n",
       "       [  0,   0,   0, ..., 841,  49, 400],\n",
       "       [  0,   0,   0, ..., 169,   4, 349]])"
      ]
     },
     "execution_count": 28,
     "metadata": {},
     "output_type": "execute_result"
    }
   ],
   "source": [
    "padded_text = padded_text[indices]\n",
    "padded_text"
   ]
  },
  {
   "cell_type": "code",
   "execution_count": 29,
   "id": "f38849dc",
   "metadata": {},
   "outputs": [
    {
     "data": {
      "text/plain": [
       "array([[0., 1.],\n",
       "       [1., 0.],\n",
       "       [0., 1.],\n",
       "       ...,\n",
       "       [0., 1.],\n",
       "       [1., 0.],\n",
       "       [0., 1.]], dtype=float32)"
      ]
     },
     "execution_count": 29,
     "metadata": {},
     "output_type": "execute_result"
    }
   ],
   "source": [
    "label = label[indices]\n",
    "label"
   ]
  },
  {
   "cell_type": "code",
   "execution_count": 30,
   "id": "e0844a77",
   "metadata": {},
   "outputs": [
    {
     "data": {
      "text/plain": [
       "400000"
      ]
     },
     "execution_count": 30,
     "metadata": {},
     "output_type": "execute_result"
    }
   ],
   "source": [
    "nb_validation_samples = int(validation_split*text.shape[0])\n",
    "nb_validation_samples"
   ]
  },
  {
   "cell_type": "markdown",
   "id": "296be73d",
   "metadata": {},
   "source": [
    "## Splitting Data"
   ]
  },
  {
   "cell_type": "code",
   "execution_count": 42,
   "id": "1a2aaffd",
   "metadata": {},
   "outputs": [],
   "source": [
    "x_train = padded_text[:-nb_validation_samples]\n",
    "y_train = label[:-nb_validation_samples]\n",
    "x_val = padded_text[-nb_validation_samples:]\n",
    "y_val = label[-nb_validation_samples:]"
   ]
  },
  {
   "cell_type": "code",
   "execution_count": 32,
   "id": "5c74c6b4",
   "metadata": {},
   "outputs": [],
   "source": [
    "X_train, X_test, y_train, y_test  = train_test_split(text,label,test_size=0.3, random_state=42)"
   ]
  },
  {
   "cell_type": "markdown",
   "id": "7a27a176",
   "metadata": {},
   "source": [
    "## Utilizing Glove for Embedding"
   ]
  },
  {
   "cell_type": "code",
   "execution_count": 33,
   "id": "e4b875ba",
   "metadata": {},
   "outputs": [],
   "source": [
    "glove_dir = './glove/'"
   ]
  },
  {
   "cell_type": "code",
   "execution_count": 34,
   "id": "4da99a39",
   "metadata": {},
   "outputs": [
    {
     "name": "stdout",
     "output_type": "stream",
     "text": [
      "found word vecs:  400000\n"
     ]
    }
   ],
   "source": [
    "embedding_index = {}\n",
    "\n",
    "f = open(os.path.join(glove_dir,'glove.6B.50d.txt'),encoding=\"utf8\")\n",
    "\n",
    "for line in f:\n",
    "    values = line.split()\n",
    "    word = values[0]\n",
    "    coefs = np.asarray(values[1:],dtype='float32')\n",
    "    embedding_index[word] = coefs\n",
    "f.close()\n",
    "\n",
    "print('found word vecs: ',len(embedding_index))"
   ]
  },
  {
   "cell_type": "code",
   "execution_count": 35,
   "id": "66840366",
   "metadata": {},
   "outputs": [
    {
     "data": {
      "text/plain": [
       "(407632, 50)"
      ]
     },
     "execution_count": 35,
     "metadata": {},
     "output_type": "execute_result"
    }
   ],
   "source": [
    "embedding_dim = 50\n",
    "embedding_matrix = np.zeros((len(word_index)+1,embedding_dim))\n",
    "embedding_matrix.shape"
   ]
  },
  {
   "cell_type": "code",
   "execution_count": 36,
   "id": "95ae9867",
   "metadata": {},
   "outputs": [],
   "source": [
    "for word,i in word_index.items():\n",
    "    embedding_vector = embedding_index.get(word)\n",
    "    if embedding_vector is not None:\n",
    "        embedding_matrix[i] = embedding_vector"
   ]
  },
  {
   "cell_type": "markdown",
   "id": "b94ec8e7",
   "metadata": {},
   "source": [
    "## Creating Layers and Model"
   ]
  },
  {
   "cell_type": "code",
   "execution_count": 37,
   "id": "35fbe952",
   "metadata": {},
   "outputs": [],
   "source": [
    "embedding_layer = Embedding(len(word_index)+1,embedding_dim,weights=[embedding_matrix],input_length=max_seq_length,trainable=False)"
   ]
  },
  {
   "cell_type": "code",
   "execution_count": 38,
   "id": "fc8e360f",
   "metadata": {},
   "outputs": [],
   "source": [
    "inp = Input(shape=(max_seq_length,))\n",
    "x = embedding_layer(inp)\n",
    "x = Bidirectional(LSTM(50,return_sequences=True,dropout=0.1,recurrent_dropout=0.1))(x)\n",
    "x = GlobalMaxPool1D()(x)\n",
    "x = Dense(50,activation='relu')(x)\n",
    "x = Dropout(0.1)(x)\n",
    "x = Dense(2,activation='sigmoid')(x)\n",
    "model = Model(inputs=inp,outputs=x)"
   ]
  },
  {
   "cell_type": "code",
   "execution_count": 39,
   "id": "fd753273",
   "metadata": {},
   "outputs": [],
   "source": [
    "model.compile(optimizer='adam',loss='binary_crossentropy',metrics=['accuracy'])"
   ]
  },
  {
   "cell_type": "code",
   "execution_count": 40,
   "id": "66cfb0bd",
   "metadata": {},
   "outputs": [
    {
     "name": "stdout",
     "output_type": "stream",
     "text": [
      "(1600000, 100)\n",
      "(1400000, 2)\n",
      "(400000, 100)\n",
      "(400000, 2)\n"
     ]
    }
   ],
   "source": [
    "print(x_train.shape)\n",
    "print(y_train.shape)\n",
    "print(x_val.shape)\n",
    "print(y_val.shape)"
   ]
  },
  {
   "cell_type": "markdown",
   "id": "86da77a6",
   "metadata": {},
   "source": [
    "## Fitting Model"
   ]
  },
  {
   "cell_type": "code",
   "execution_count": 43,
   "id": "e8c60a26",
   "metadata": {},
   "outputs": [
    {
     "name": "stdout",
     "output_type": "stream",
     "text": [
      "Epoch 1/20\n",
      "1067/1067 [==============================] - 2612s 2s/step - loss: 0.3710 - accuracy: 0.8320 - val_loss: 0.2354 - val_accuracy: 0.8994\n",
      "Epoch 2/20\n",
      "1067/1067 [==============================] - 2569s 2s/step - loss: 0.2349 - accuracy: 0.9007 - val_loss: 0.2151 - val_accuracy: 0.9087\n",
      "Epoch 3/20\n",
      "1067/1067 [==============================] - 2567s 2s/step - loss: 0.2160 - accuracy: 0.9089 - val_loss: 0.2011 - val_accuracy: 0.9150\n",
      "Epoch 4/20\n",
      "1067/1067 [==============================] - 2565s 2s/step - loss: 0.2052 - accuracy: 0.9137 - val_loss: 0.1955 - val_accuracy: 0.9175\n",
      "Epoch 5/20\n",
      "1067/1067 [==============================] - 2559s 2s/step - loss: 0.1990 - accuracy: 0.9163 - val_loss: 0.1878 - val_accuracy: 0.9210\n",
      "Epoch 6/20\n",
      "1067/1067 [==============================] - 2563s 2s/step - loss: 0.1934 - accuracy: 0.9189 - val_loss: 0.1851 - val_accuracy: 0.9221\n",
      "Epoch 7/20\n",
      "1067/1067 [==============================] - 2564s 2s/step - loss: 0.1901 - accuracy: 0.9202 - val_loss: 0.1826 - val_accuracy: 0.9235\n",
      "Epoch 8/20\n",
      "1067/1067 [==============================] - 2550s 2s/step - loss: 0.1866 - accuracy: 0.9219 - val_loss: 0.1791 - val_accuracy: 0.9250\n",
      "Epoch 9/20\n",
      "1067/1067 [==============================] - 2559s 2s/step - loss: 0.1844 - accuracy: 0.9231 - val_loss: 0.1801 - val_accuracy: 0.9249\n",
      "Epoch 10/20\n",
      "1067/1067 [==============================] - 2551s 2s/step - loss: 0.1827 - accuracy: 0.9235 - val_loss: 0.1770 - val_accuracy: 0.9255\n",
      "Epoch 11/20\n",
      "1067/1067 [==============================] - 2558s 2s/step - loss: 0.1810 - accuracy: 0.9242 - val_loss: 0.1749 - val_accuracy: 0.9267\n",
      "Epoch 12/20\n",
      "1067/1067 [==============================] - 2558s 2s/step - loss: 0.1789 - accuracy: 0.9253 - val_loss: 0.1742 - val_accuracy: 0.9268\n",
      "Epoch 13/20\n",
      "1067/1067 [==============================] - 2558s 2s/step - loss: 0.1777 - accuracy: 0.9257 - val_loss: 0.1721 - val_accuracy: 0.9277\n",
      "Epoch 14/20\n",
      "1067/1067 [==============================] - 2557s 2s/step - loss: 0.1771 - accuracy: 0.9260 - val_loss: 0.1715 - val_accuracy: 0.9284\n",
      "Epoch 15/20\n",
      "1067/1067 [==============================] - 2562s 2s/step - loss: 0.1760 - accuracy: 0.9264 - val_loss: 0.1709 - val_accuracy: 0.9283\n",
      "Epoch 16/20\n",
      "1067/1067 [==============================] - 2566s 2s/step - loss: 0.1751 - accuracy: 0.9265 - val_loss: 0.1699 - val_accuracy: 0.9284\n",
      "Epoch 17/20\n",
      "1067/1067 [==============================] - 2562s 2s/step - loss: 0.1734 - accuracy: 0.9272 - val_loss: 0.1704 - val_accuracy: 0.9290\n",
      "Epoch 18/20\n",
      "1067/1067 [==============================] - 2564s 2s/step - loss: 0.1734 - accuracy: 0.9273 - val_loss: 0.1693 - val_accuracy: 0.9292\n",
      "Epoch 19/20\n",
      "1067/1067 [==============================] - 2563s 2s/step - loss: 0.1720 - accuracy: 0.9282 - val_loss: 0.1682 - val_accuracy: 0.9294\n",
      "Epoch 20/20\n",
      "1067/1067 [==============================] - 2560s 2s/step - loss: 0.1714 - accuracy: 0.9284 - val_loss: 0.1685 - val_accuracy: 0.9293\n"
     ]
    }
   ],
   "source": [
    "model.fit(x_train,y_train,validation_data=(x_val,y_val),epochs=20,batch_size=1500, verbose=1,use_multiprocessing=True);"
   ]
  },
  {
   "cell_type": "code",
   "execution_count": 44,
   "id": "ed5129a2",
   "metadata": {},
   "outputs": [
    {
     "name": "stdout",
     "output_type": "stream",
     "text": [
      "12500/12500 [==============================] - 129s 10ms/step - loss: 0.1685 - accuracy: 0.9293\n"
     ]
    },
    {
     "data": {
      "text/plain": [
       "[0.1685318797826767, 0.9293375015258789]"
      ]
     },
     "execution_count": 44,
     "metadata": {},
     "output_type": "execute_result"
    }
   ],
   "source": [
    "score = model.evaluate(x_val,y_val)\n",
    "score"
   ]
  },
  {
   "cell_type": "code",
   "execution_count": 45,
   "id": "71da6f70",
   "metadata": {},
   "outputs": [
    {
     "data": {
      "text/plain": [
       "92.93375015258789"
      ]
     },
     "execution_count": 45,
     "metadata": {},
     "output_type": "execute_result"
    }
   ],
   "source": [
    "score[1]*100"
   ]
  },
  {
   "cell_type": "code",
   "execution_count": 46,
   "id": "28ec1cfb",
   "metadata": {},
   "outputs": [
    {
     "name": "stdout",
     "output_type": "stream",
     "text": [
      "              precision    recall  f1-score   support\n",
      "\n",
      "    negative       0.84      0.85      0.85     91552\n",
      "    positive       0.96      0.95      0.95    308448\n",
      "\n",
      "    accuracy                           0.93    400000\n",
      "   macro avg       0.90      0.90      0.90    400000\n",
      "weighted avg       0.93      0.93      0.93    400000\n",
      "\n"
     ]
    },
    {
     "data": {
      "text/html": [
       "<style  type=\"text/css\" >\n",
       "#T_afd4e_row0_col0,#T_afd4e_row1_col1{\n",
       "            background-color:  #08306b;\n",
       "            color:  #f1f1f1;\n",
       "        }#T_afd4e_row0_col1,#T_afd4e_row1_col0{\n",
       "            background-color:  #f7fbff;\n",
       "            color:  #000000;\n",
       "        }</style><table id=\"T_afd4e_\" ><thead>    <tr>        <th class=\"blank level0\" ></th>        <th class=\"col_heading level0 col0\" >Predicted Negative</th>        <th class=\"col_heading level0 col1\" >Predicted Positive</th>    </tr></thead><tbody>\n",
       "                <tr>\n",
       "                        <th id=\"T_afd4e_level0_row0\" class=\"row_heading level0 row0\" >Actual Negative</th>\n",
       "                        <td id=\"T_afd4e_row0_col0\" class=\"data row0 col0\" >77864</td>\n",
       "                        <td id=\"T_afd4e_row0_col1\" class=\"data row0 col1\" >13688</td>\n",
       "            </tr>\n",
       "            <tr>\n",
       "                        <th id=\"T_afd4e_level0_row1\" class=\"row_heading level0 row1\" >Actual Positive</th>\n",
       "                        <td id=\"T_afd4e_row1_col0\" class=\"data row1 col0\" >14577</td>\n",
       "                        <td id=\"T_afd4e_row1_col1\" class=\"data row1 col1\" >293871</td>\n",
       "            </tr>\n",
       "    </tbody></table>"
      ],
      "text/plain": [
       "<pandas.io.formats.style.Styler at 0x1cc7f69c250>"
      ]
     },
     "execution_count": 46,
     "metadata": {},
     "output_type": "execute_result"
    }
   ],
   "source": [
    "y_pred = model.predict(x_val)\n",
    "\n",
    "test_data = pd.DataFrame()\n",
    "\n",
    "y_val_min = y_val.argmax(axis=1)\n",
    "y_pred_min = y_pred.argmax(axis=1)\n",
    "\n",
    "test_data['sentiment'] = y_val_min\n",
    "test_data['sentiment'] = test_data['sentiment'].apply(lambda x: str(x))\n",
    "test_data['sentiment'] = np.where((test_data.sentiment=='0'),'negative',test_data.sentiment)\n",
    "test_data['sentiment'] = np.where((test_data.sentiment=='1'),'positive',test_data.sentiment)\n",
    "\n",
    "test_data['pred_sentiment'] = y_pred_min\n",
    "test_data['pred_sentiment'] = test_data['pred_sentiment'].apply(lambda x: str(x))\n",
    "test_data['pred_sentiment'] = np.where((test_data.pred_sentiment=='0'),'negative',test_data.pred_sentiment)\n",
    "test_data['pred_sentiment'] = np.where((test_data.pred_sentiment=='1'),'positive',test_data.pred_sentiment)\n",
    "\n",
    "labels = ['negative', 'positive']\n",
    "\n",
    "\n",
    "print(classification_report(test_data['sentiment'],test_data['pred_sentiment'], labels=labels))\n",
    "\n",
    "confusion_matrix(test_data['sentiment'],test_data['pred_sentiment'], labels=labels)\n",
    "df_matrix=pd.DataFrame(confusion_matrix(test_data['sentiment'], test_data['pred_sentiment']), \n",
    "             columns=[\"Predicted Negative\", \"Predicted Positive\"], \n",
    "             index=[\"Actual Negative\", \"Actual Positive\"])\n",
    "df_matrix.style.background_gradient(cmap='Blues')"
   ]
  },
  {
   "cell_type": "markdown",
   "id": "48a09588",
   "metadata": {},
   "source": [
    "## Testing model with different data"
   ]
  },
  {
   "cell_type": "code",
   "execution_count": 47,
   "id": "cd66c093",
   "metadata": {},
   "outputs": [],
   "source": [
    "reviews = [\n",
    "    # NEG\n",
    "    'WORST FOOD I EVER HAD. It was burnt, it was cold. The waiter spilt coffee on my lap and did not apologize',\n",
    "    'Stacy was a pleasent waitress during our stay. She did everything to make sure we felt like home. The food was amazing.',\n",
    "    # NEG\n",
    "    'No one asked for Mary Poppinss return to modern consciousness, but her reappearance unmistakably proves that Hollywood Boomers are desperate to justify their own mediocrity through nostalgic sentiment',\n",
    "    '\"Cast Away\" is an exceptionally well-crafted exploration of the survival of the human spirit. Its a movie unafraid to consider the full complexity of life.',\n",
    "    'Somewhat entertaining especially with a lot of the unintended comedy. At times very tedious and the main concept of the film was completely lost.',\n",
    "    # NEG\n",
    "    'You’d better have something in the fridge at home, because the likelihood of your joining the Clean Plate Club here is as good as getting invited to a Christmas party at the White House.',\n",
    "    'A great movie that shows the progress of human development through Tom Hanks character while he is stranded on the desert island. But...all that is overshadowed by Wilson, who will remain in our hearts for all eternity.',\n",
    "    # NEG\n",
    "    'There’s V for Vegan. There’s GF for Gluten Free. There’s DF for Dairy Free. I think they’re missing a few. There should be TF for Taste Free and JF for Joy Free and AAHYWEH for Abandon All Hope, Ye Who Enter Here',\n",
    "    'Probably one of the best disaster emotional films ever. A classic game of survival that is played absolutely perfectly.',\n",
    "    # NEG\n",
    "    'While there are many words I could use to describe Louie Louie, I’m going to say only this: Louie Louie is a bad restaurant',]"
   ]
  },
  {
   "cell_type": "code",
   "execution_count": 48,
   "id": "e279769a",
   "metadata": {},
   "outputs": [],
   "source": [
    "#tokenizer.fit_on_texts(reviews)\n",
    "padded_text = pad_sequences(tokenizer.texts_to_sequences(reviews), maxlen=max_seq_length)"
   ]
  },
  {
   "cell_type": "code",
   "execution_count": 49,
   "id": "a33c675c",
   "metadata": {},
   "outputs": [],
   "source": [
    "res = model.predict(padded_text)"
   ]
  },
  {
   "cell_type": "code",
   "execution_count": 50,
   "id": "a661f675",
   "metadata": {},
   "outputs": [
    {
     "name": "stdout",
     "output_type": "stream",
     "text": [
      "Negative Review:\n",
      "\t WORST FOOD I EVER HAD. It was burnt, it was cold. The waiter spilt coffee on my lap and did not apologize\n",
      "------------------------------------------------------------------------------------------\n",
      "Positive Review:\n",
      "\t Stacy was a pleasent waitress during our stay. She did everything to make sure we felt like home. The food was amazing.\n",
      "------------------------------------------------------------------------------------------\n",
      "Negative Review:\n",
      "\t No one asked for Mary Poppinss return to modern consciousness, but her reappearance unmistakably proves that Hollywood Boomers are desperate to justify their own mediocrity through nostalgic sentiment\n",
      "------------------------------------------------------------------------------------------\n",
      "Positive Review:\n",
      "\t \"Cast Away\" is an exceptionally well-crafted exploration of the survival of the human spirit. Its a movie unafraid to consider the full complexity of life.\n",
      "------------------------------------------------------------------------------------------\n",
      "Negative Review:\n",
      "\t Somewhat entertaining especially with a lot of the unintended comedy. At times very tedious and the main concept of the film was completely lost.\n",
      "------------------------------------------------------------------------------------------\n",
      "Positive Review:\n",
      "\t You’d better have something in the fridge at home, because the likelihood of your joining the Clean Plate Club here is as good as getting invited to a Christmas party at the White House.\n",
      "------------------------------------------------------------------------------------------\n",
      "Positive Review:\n",
      "\t A great movie that shows the progress of human development through Tom Hanks character while he is stranded on the desert island. But...all that is overshadowed by Wilson, who will remain in our hearts for all eternity.\n",
      "------------------------------------------------------------------------------------------\n",
      "Positive Review:\n",
      "\t There’s V for Vegan. There’s GF for Gluten Free. There’s DF for Dairy Free. I think they’re missing a few. There should be TF for Taste Free and JF for Joy Free and AAHYWEH for Abandon All Hope, Ye Who Enter Here\n",
      "------------------------------------------------------------------------------------------\n",
      "Positive Review:\n",
      "\t Probably one of the best disaster emotional films ever. A classic game of survival that is played absolutely perfectly.\n",
      "------------------------------------------------------------------------------------------\n",
      "Negative Review:\n",
      "\t While there are many words I could use to describe Louie Louie, I’m going to say only this: Louie Louie is a bad restaurant\n",
      "------------------------------------------------------------------------------------------\n"
     ]
    }
   ],
   "source": [
    "for index, x in enumerate(res):\n",
    "    if x[1] > .5:\n",
    "        print(f'Positive Review:\\n\\t {reviews[index]}')\n",
    "    else:\n",
    "        print(f'Negative Review:\\n\\t {reviews[index]}')\n",
    "    print(f'------------------------------------------------------------------------------------------')"
   ]
  },
  {
   "cell_type": "code",
   "execution_count": null,
   "id": "92ba67a1",
   "metadata": {},
   "outputs": [],
   "source": []
  },
  {
   "cell_type": "markdown",
   "id": "96b84a36",
   "metadata": {},
   "source": [
    "## Save Model "
   ]
  },
  {
   "cell_type": "code",
   "execution_count": 51,
   "id": "6e1fd0b8",
   "metadata": {},
   "outputs": [],
   "source": [
    "model.save('review_model_2mill.h5')"
   ]
  },
  {
   "cell_type": "markdown",
   "id": "8f2d4a78",
   "metadata": {},
   "source": [
    "## Save Tokenizer"
   ]
  },
  {
   "cell_type": "code",
   "execution_count": 52,
   "id": "558a18af",
   "metadata": {},
   "outputs": [],
   "source": [
    "token = tokenizer.to_json()\n",
    "with open('tokenizer_2mill.pickle','wb') as handle:\n",
    "    pickle.dump(token,handle)"
   ]
  },
  {
   "cell_type": "markdown",
   "id": "1f06a2d9",
   "metadata": {},
   "source": [
    "## Load Model and Tokenizer"
   ]
  },
  {
   "cell_type": "code",
   "execution_count": 53,
   "id": "233a5be2",
   "metadata": {},
   "outputs": [],
   "source": [
    "with open('tokenizer.pickle', 'rb') as handle:\n",
    "    tokenizer_json = pickle.load(handle)\n",
    "\n",
    "tk = tf.keras.preprocessing.text.tokenizer_from_json(\n",
    "    tokenizer_json\n",
    ")"
   ]
  },
  {
   "cell_type": "code",
   "execution_count": 54,
   "id": "8827d3db",
   "metadata": {},
   "outputs": [
    {
     "data": {
      "text/plain": [
       "array([[123, 667, 243, ...,  86,   4, 849],\n",
       "       [765,  46, 234, ...,   0,   0,   0],\n",
       "       [ 95,  45,  37, ...,   3,  94,  19],\n",
       "       ...,\n",
       "       [ 20,  33,  50, ...,  80, 195,   6],\n",
       "       [ 31, 229, 475, ..., 947,  14,  72],\n",
       "       [ 63, 387,  19, ..., 217,  11, 476]])"
      ]
     },
     "metadata": {},
     "output_type": "display_data"
    }
   ],
   "source": [
    "# Getting Sequences for the test data and adding padding accordingly\n",
    "X_seq = pad_sequences(tk.texts_to_sequences(text), maxlen = 36, padding = 'post')\n",
    "display(X_seq)"
   ]
  },
  {
   "cell_type": "code",
   "execution_count": 55,
   "id": "de12ed2f",
   "metadata": {},
   "outputs": [],
   "source": [
    "from keras.models import load_model\n",
    "loaded_model = load_model('review_model.h5')"
   ]
  },
  {
   "cell_type": "code",
   "execution_count": 56,
   "id": "d165cb56",
   "metadata": {},
   "outputs": [
    {
     "name": "stdout",
     "output_type": "stream",
     "text": [
      "12500/12500 [==============================] - 128s 10ms/step - loss: 0.5737 - accuracy: 0.7401\n"
     ]
    },
    {
     "data": {
      "text/plain": [
       "[0.5737026929855347, 0.7400575280189514]"
      ]
     },
     "execution_count": 56,
     "metadata": {},
     "output_type": "execute_result"
    }
   ],
   "source": [
    "score = loaded_model.evaluate(x_val,y_val)\n",
    "score"
   ]
  },
  {
   "cell_type": "markdown",
   "id": "347d29cb",
   "metadata": {},
   "source": [
    "## Testing with loaded Model and Tokenizer"
   ]
  },
  {
   "cell_type": "code",
   "execution_count": 57,
   "id": "32b7a2cb",
   "metadata": {},
   "outputs": [],
   "source": [
    "reviews = [\n",
    "    \"Slowly, gradually, with great mental resistance but still inexorably, it dawned on me that I had paid $98 for a duck with almost no flavor. It was dry, too.\",\n",
    "    \"Every time I have been here there have been issues. The last time I came here the French fries were disgusting. Mushy oily mess. Not crisp whatsoever.\",\n",
    "    \"I absolutely loved the way they used to make their cookies with the chocolate filling but from one of the questions posted, it seems the supplier went out of business from Covid. I've tried the regular chocolate chip cookies they have now and they're still great just different.\",\n",
    "]\n"
   ]
  },
  {
   "cell_type": "code",
   "execution_count": 58,
   "id": "f3fca304",
   "metadata": {},
   "outputs": [],
   "source": [
    "padded_text = pad_sequences(tk.texts_to_sequences(reviews), maxlen=100)"
   ]
  },
  {
   "cell_type": "code",
   "execution_count": 59,
   "id": "30d52fce",
   "metadata": {},
   "outputs": [],
   "source": [
    "res = loaded_model.predict(padded_text)"
   ]
  },
  {
   "cell_type": "code",
   "execution_count": 60,
   "id": "4940ff09",
   "metadata": {},
   "outputs": [
    {
     "name": "stdout",
     "output_type": "stream",
     "text": [
      "Positive Review:\n",
      "\t Slowly, gradually, with great mental resistance but still inexorably, it dawned on me that I had paid $98 for a duck with almost no flavor. It was dry, too.\n",
      "------------------------------------------------------------------------------------------\n",
      "Negative Review:\n",
      "\t Every time I have been here there have been issues. The last time I came here the French fries were disgusting. Mushy oily mess. Not crisp whatsoever.\n",
      "------------------------------------------------------------------------------------------\n",
      "Positive Review:\n",
      "\t I absolutely loved the way they used to make their cookies with the chocolate filling but from one of the questions posted, it seems the supplier went out of business from Covid. I've tried the regular chocolate chip cookies they have now and they're still great just different.\n",
      "------------------------------------------------------------------------------------------\n"
     ]
    }
   ],
   "source": [
    "for index, x in enumerate(res):\n",
    "    if x[1] > .5:\n",
    "        print(f'Positive Review:\\n\\t {reviews[index]}')\n",
    "    else:\n",
    "        print(f'Negative Review:\\n\\t {reviews[index]}')\n",
    "    print(f'------------------------------------------------------------------------------------------')"
   ]
  },
  {
   "cell_type": "code",
   "execution_count": null,
   "id": "02475345",
   "metadata": {},
   "outputs": [],
   "source": []
  }
 ],
 "metadata": {
  "kernelspec": {
   "display_name": "Python 3",
   "language": "python",
   "name": "python3"
  },
  "language_info": {
   "codemirror_mode": {
    "name": "ipython",
    "version": 3
   },
   "file_extension": ".py",
   "mimetype": "text/x-python",
   "name": "python",
   "nbconvert_exporter": "python",
   "pygments_lexer": "ipython3",
   "version": "3.8.8"
  }
 },
 "nbformat": 4,
 "nbformat_minor": 5
}
